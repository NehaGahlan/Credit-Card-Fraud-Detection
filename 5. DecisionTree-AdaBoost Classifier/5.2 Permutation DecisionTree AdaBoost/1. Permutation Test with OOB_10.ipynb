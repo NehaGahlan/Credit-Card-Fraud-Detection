{
 "cells": [
  {
   "cell_type": "code",
   "execution_count": 2,
   "metadata": {},
   "outputs": [
    {
     "name": "stderr",
     "output_type": "stream",
     "text": [
      "C:\\Users\\Pappa\\Anaconda3\\lib\\site-packages\\sklearn\\externals\\joblib\\__init__.py:15: DeprecationWarning: sklearn.externals.joblib is deprecated in 0.21 and will be removed in 0.23. Please import this functionality directly from joblib, which can be installed with: pip install joblib. If this warning is raised when loading pickled models, you may need to re-serialize those models with scikit-learn 0.21+.\n",
      "  warnings.warn(msg, category=DeprecationWarning)\n"
     ]
    }
   ],
   "source": [
    "import pandas as pd\n",
    "import numpy as np\n",
    "from sklearn.ensemble import RandomForestClassifier, AdaBoostClassifier\n",
    "import matplotlib.pyplot as plt\n",
    "import matplotlib.gridspec as gridspec\n",
    "from sklearn.metrics import precision_score, recall_score, accuracy_score, classification_report, roc_curve, precision_recall_curve, confusion_matrix, f1_score, average_precision_score, cohen_kappa_score\n",
    "from inspect import signature\n",
    "from sklearn.externals import joblib\n",
    "import random\n",
    "from sklearn import metrics"
   ]
  },
  {
   "cell_type": "markdown",
   "metadata": {},
   "source": [
    "# 1. Prepare Data"
   ]
  },
  {
   "cell_type": "code",
   "execution_count": 2,
   "metadata": {},
   "outputs": [
    {
     "data": {
      "text/plain": [
       "(10, 1)"
      ]
     },
     "execution_count": 2,
     "metadata": {},
     "output_type": "execute_result"
    }
   ],
   "source": [
    "\n",
    "OOB_10=pd.read_csv(\"../7. Modeling - DecisionTree AdaBoost/AdaBoost (AllFeatures - OOB - 10).csv\", index_col=0)\n",
    "\n",
    "OOB_10.shape"
   ]
  },
  {
   "cell_type": "code",
   "execution_count": 3,
   "metadata": {},
   "outputs": [
    {
     "data": {
      "text/plain": [
       "(1848, 30)"
      ]
     },
     "execution_count": 3,
     "metadata": {},
     "output_type": "execute_result"
    }
   ],
   "source": [
    "X_train_resampled = pd.read_csv(\"../3. Data Preparation/X_train_resampled.csv\", index_col=0)\n",
    "X_train_resampled.shape"
   ]
  },
  {
   "cell_type": "code",
   "execution_count": 4,
   "metadata": {},
   "outputs": [
    {
     "data": {
      "text/plain": [
       "(1848, 1)"
      ]
     },
     "execution_count": 4,
     "metadata": {},
     "output_type": "execute_result"
    }
   ],
   "source": [
    "y_train_resampled = pd.read_csv(\"../3. Data Preparation/y_train_resampled.csv\", index_col=0)\n",
    "y_train_resampled.shape"
   ]
  },
  {
   "cell_type": "code",
   "execution_count": 5,
   "metadata": {},
   "outputs": [
    {
     "data": {
      "text/plain": [
       "(56962, 30)"
      ]
     },
     "execution_count": 5,
     "metadata": {},
     "output_type": "execute_result"
    }
   ],
   "source": [
    "X_val = pd.read_csv(\"../3. Data Preparation/X_val.csv\", index_col=0)\n",
    "X_val.shape"
   ]
  },
  {
   "cell_type": "code",
   "execution_count": 6,
   "metadata": {},
   "outputs": [
    {
     "data": {
      "text/plain": [
       "(56962, 1)"
      ]
     },
     "execution_count": 6,
     "metadata": {},
     "output_type": "execute_result"
    }
   ],
   "source": [
    "y_val = pd.read_csv(\"../3. Data Preparation/y_val.csv\", index_col=0, header=0)\n",
    "y_val.shape"
   ]
  },
  {
   "cell_type": "code",
   "execution_count": 7,
   "metadata": {},
   "outputs": [],
   "source": [
    "dTree = joblib.load('../7. Modeling - DecisionTree AdaBoost/DecisionTree-gini.pkl') "
   ]
  },
  {
   "cell_type": "code",
   "execution_count": 9,
   "metadata": {},
   "outputs": [],
   "source": [
    "dim=100"
   ]
  },
  {
   "cell_type": "markdown",
   "metadata": {},
   "source": [
    "# 2. Permutation Test\n"
   ]
  },
  {
   "cell_type": "code",
   "execution_count": 10,
   "metadata": {},
   "outputs": [
    {
     "name": "stdout",
     "output_type": "stream",
     "text": [
      "0 0.9942242196552087\n"
     ]
    },
    {
     "name": "stderr",
     "output_type": "stream",
     "text": [
      "C:\\Users\\Pappa\\Anaconda3\\lib\\site-packages\\ipykernel_launcher.py:24: FutureWarning: elementwise comparison failed; returning scalar instead, but in the future will perform elementwise comparison\n"
     ]
    },
    {
     "name": "stdout",
     "output_type": "stream",
     "text": [
      "1 0.9895544398019732\n"
     ]
    },
    {
     "name": "stderr",
     "output_type": "stream",
     "text": [
      "C:\\Users\\Pappa\\Anaconda3\\lib\\site-packages\\ipykernel_launcher.py:24: FutureWarning: elementwise comparison failed; returning scalar instead, but in the future will perform elementwise comparison\n"
     ]
    },
    {
     "name": "stdout",
     "output_type": "stream",
     "text": [
      "2 0.9942593307819247\n"
     ]
    },
    {
     "name": "stderr",
     "output_type": "stream",
     "text": [
      "C:\\Users\\Pappa\\Anaconda3\\lib\\site-packages\\ipykernel_launcher.py:24: FutureWarning: elementwise comparison failed; returning scalar instead, but in the future will perform elementwise comparison\n"
     ]
    },
    {
     "name": "stdout",
     "output_type": "stream",
     "text": [
      "3 0.996892665285629\n"
     ]
    },
    {
     "name": "stderr",
     "output_type": "stream",
     "text": [
      "C:\\Users\\Pappa\\Anaconda3\\lib\\site-packages\\ipykernel_launcher.py:24: FutureWarning: elementwise comparison failed; returning scalar instead, but in the future will perform elementwise comparison\n"
     ]
    },
    {
     "name": "stdout",
     "output_type": "stream",
     "text": [
      "4 0.9970682209192093\n"
     ]
    },
    {
     "name": "stderr",
     "output_type": "stream",
     "text": [
      "C:\\Users\\Pappa\\Anaconda3\\lib\\site-packages\\ipykernel_launcher.py:24: FutureWarning: elementwise comparison failed; returning scalar instead, but in the future will perform elementwise comparison\n"
     ]
    },
    {
     "name": "stdout",
     "output_type": "stream",
     "text": [
      "5 0.9951195533864682\n"
     ]
    },
    {
     "name": "stderr",
     "output_type": "stream",
     "text": [
      "C:\\Users\\Pappa\\Anaconda3\\lib\\site-packages\\ipykernel_launcher.py:24: FutureWarning: elementwise comparison failed; returning scalar instead, but in the future will perform elementwise comparison\n"
     ]
    },
    {
     "name": "stdout",
     "output_type": "stream",
     "text": [
      "6 0.9972964432428637\n"
     ]
    },
    {
     "name": "stderr",
     "output_type": "stream",
     "text": [
      "C:\\Users\\Pappa\\Anaconda3\\lib\\site-packages\\ipykernel_launcher.py:24: FutureWarning: elementwise comparison failed; returning scalar instead, but in the future will perform elementwise comparison\n"
     ]
    },
    {
     "name": "stdout",
     "output_type": "stream",
     "text": [
      "7 0.9942242196552087\n"
     ]
    },
    {
     "name": "stderr",
     "output_type": "stream",
     "text": [
      "C:\\Users\\Pappa\\Anaconda3\\lib\\site-packages\\ipykernel_launcher.py:24: FutureWarning: elementwise comparison failed; returning scalar instead, but in the future will perform elementwise comparison\n"
     ]
    },
    {
     "name": "stdout",
     "output_type": "stream",
     "text": [
      "8 0.995628664723851\n"
     ]
    },
    {
     "name": "stderr",
     "output_type": "stream",
     "text": [
      "C:\\Users\\Pappa\\Anaconda3\\lib\\site-packages\\ipykernel_launcher.py:24: FutureWarning: elementwise comparison failed; returning scalar instead, but in the future will perform elementwise comparison\n"
     ]
    },
    {
     "name": "stdout",
     "output_type": "stream",
     "text": [
      "9 0.9970682209192093\n"
     ]
    },
    {
     "name": "stderr",
     "output_type": "stream",
     "text": [
      "C:\\Users\\Pappa\\Anaconda3\\lib\\site-packages\\ipykernel_launcher.py:24: FutureWarning: elementwise comparison failed; returning scalar instead, but in the future will perform elementwise comparison\n"
     ]
    },
    {
     "name": "stdout",
     "output_type": "stream",
     "text": [
      "10 0.9978055545802464\n"
     ]
    },
    {
     "name": "stderr",
     "output_type": "stream",
     "text": [
      "C:\\Users\\Pappa\\Anaconda3\\lib\\site-packages\\ipykernel_launcher.py:24: FutureWarning: elementwise comparison failed; returning scalar instead, but in the future will perform elementwise comparison\n"
     ]
    },
    {
     "name": "stdout",
     "output_type": "stream",
     "text": [
      "11 0.9958393314841473\n"
     ]
    },
    {
     "name": "stderr",
     "output_type": "stream",
     "text": [
      "C:\\Users\\Pappa\\Anaconda3\\lib\\site-packages\\ipykernel_launcher.py:24: FutureWarning: elementwise comparison failed; returning scalar instead, but in the future will perform elementwise comparison\n"
     ]
    },
    {
     "name": "stdout",
     "output_type": "stream",
     "text": [
      "12 0.99501422000632\n"
     ]
    },
    {
     "name": "stderr",
     "output_type": "stream",
     "text": [
      "C:\\Users\\Pappa\\Anaconda3\\lib\\site-packages\\ipykernel_launcher.py:24: FutureWarning: elementwise comparison failed; returning scalar instead, but in the future will perform elementwise comparison\n"
     ]
    },
    {
     "name": "stdout",
     "output_type": "stream",
     "text": [
      "13 0.9946631087391594\n"
     ]
    },
    {
     "name": "stderr",
     "output_type": "stream",
     "text": [
      "C:\\Users\\Pappa\\Anaconda3\\lib\\site-packages\\ipykernel_launcher.py:24: FutureWarning: elementwise comparison failed; returning scalar instead, but in the future will perform elementwise comparison\n"
     ]
    },
    {
     "name": "stdout",
     "output_type": "stream",
     "text": [
      "14 0.995593553597135\n"
     ]
    },
    {
     "name": "stderr",
     "output_type": "stream",
     "text": [
      "C:\\Users\\Pappa\\Anaconda3\\lib\\site-packages\\ipykernel_launcher.py:24: FutureWarning: elementwise comparison failed; returning scalar instead, but in the future will perform elementwise comparison\n"
     ]
    },
    {
     "name": "stdout",
     "output_type": "stream",
     "text": [
      "15 0.9895017731118991\n"
     ]
    },
    {
     "name": "stderr",
     "output_type": "stream",
     "text": [
      "C:\\Users\\Pappa\\Anaconda3\\lib\\site-packages\\ipykernel_launcher.py:24: FutureWarning: elementwise comparison failed; returning scalar instead, but in the future will perform elementwise comparison\n"
     ]
    },
    {
     "name": "stdout",
     "output_type": "stream",
     "text": [
      "16 0.9893613286050349\n"
     ]
    },
    {
     "name": "stderr",
     "output_type": "stream",
     "text": [
      "C:\\Users\\Pappa\\Anaconda3\\lib\\site-packages\\ipykernel_launcher.py:24: FutureWarning: elementwise comparison failed; returning scalar instead, but in the future will perform elementwise comparison\n"
     ]
    },
    {
     "name": "stdout",
     "output_type": "stream",
     "text": [
      "17 0.9955233313437029\n"
     ]
    },
    {
     "name": "stderr",
     "output_type": "stream",
     "text": [
      "C:\\Users\\Pappa\\Anaconda3\\lib\\site-packages\\ipykernel_launcher.py:24: FutureWarning: elementwise comparison failed; returning scalar instead, but in the future will perform elementwise comparison\n"
     ]
    },
    {
     "name": "stdout",
     "output_type": "stream",
     "text": [
      "18 0.9955408869070609\n"
     ]
    },
    {
     "name": "stderr",
     "output_type": "stream",
     "text": [
      "C:\\Users\\Pappa\\Anaconda3\\lib\\site-packages\\ipykernel_launcher.py:24: FutureWarning: elementwise comparison failed; returning scalar instead, but in the future will perform elementwise comparison\n"
     ]
    },
    {
     "name": "stdout",
     "output_type": "stream",
     "text": [
      "19 0.9951019978231102\n"
     ]
    },
    {
     "name": "stderr",
     "output_type": "stream",
     "text": [
      "C:\\Users\\Pappa\\Anaconda3\\lib\\site-packages\\ipykernel_launcher.py:24: FutureWarning: elementwise comparison failed; returning scalar instead, but in the future will perform elementwise comparison\n"
     ]
    },
    {
     "name": "stdout",
     "output_type": "stream",
     "text": [
      "20 0.9967346652154068\n"
     ]
    },
    {
     "name": "stderr",
     "output_type": "stream",
     "text": [
      "C:\\Users\\Pappa\\Anaconda3\\lib\\site-packages\\ipykernel_launcher.py:24: FutureWarning: elementwise comparison failed; returning scalar instead, but in the future will perform elementwise comparison\n"
     ]
    },
    {
     "name": "stdout",
     "output_type": "stream",
     "text": [
      "21 0.9965766651451845\n"
     ]
    },
    {
     "name": "stderr",
     "output_type": "stream",
     "text": [
      "C:\\Users\\Pappa\\Anaconda3\\lib\\site-packages\\ipykernel_launcher.py:24: FutureWarning: elementwise comparison failed; returning scalar instead, but in the future will perform elementwise comparison\n"
     ]
    },
    {
     "name": "stdout",
     "output_type": "stream",
     "text": [
      "22 0.9979284435237527\n"
     ]
    },
    {
     "name": "stderr",
     "output_type": "stream",
     "text": [
      "C:\\Users\\Pappa\\Anaconda3\\lib\\site-packages\\ipykernel_launcher.py:24: FutureWarning: elementwise comparison failed; returning scalar instead, but in the future will perform elementwise comparison\n"
     ]
    },
    {
     "name": "stdout",
     "output_type": "stream",
     "text": [
      "23 0.996243109441382\n"
     ]
    },
    {
     "name": "stderr",
     "output_type": "stream",
     "text": [
      "C:\\Users\\Pappa\\Anaconda3\\lib\\site-packages\\ipykernel_launcher.py:24: FutureWarning: elementwise comparison failed; returning scalar instead, but in the future will perform elementwise comparison\n"
     ]
    },
    {
     "name": "stdout",
     "output_type": "stream",
     "text": [
      "24 0.9942768863452828\n"
     ]
    },
    {
     "name": "stderr",
     "output_type": "stream",
     "text": [
      "C:\\Users\\Pappa\\Anaconda3\\lib\\site-packages\\ipykernel_launcher.py:24: FutureWarning: elementwise comparison failed; returning scalar instead, but in the future will perform elementwise comparison\n"
     ]
    },
    {
     "name": "stdout",
     "output_type": "stream",
     "text": [
      "25 0.9960675538078017\n"
     ]
    },
    {
     "name": "stderr",
     "output_type": "stream",
     "text": [
      "C:\\Users\\Pappa\\Anaconda3\\lib\\site-packages\\ipykernel_launcher.py:24: FutureWarning: elementwise comparison failed; returning scalar instead, but in the future will perform elementwise comparison\n"
     ]
    },
    {
     "name": "stdout",
     "output_type": "stream",
     "text": [
      "26 0.9968048874688389\n"
     ]
    },
    {
     "name": "stderr",
     "output_type": "stream",
     "text": [
      "C:\\Users\\Pappa\\Anaconda3\\lib\\site-packages\\ipykernel_launcher.py:24: FutureWarning: elementwise comparison failed; returning scalar instead, but in the future will perform elementwise comparison\n"
     ]
    },
    {
     "name": "stdout",
     "output_type": "stream",
     "text": [
      "27 0.997454443313086\n"
     ]
    },
    {
     "name": "stderr",
     "output_type": "stream",
     "text": [
      "C:\\Users\\Pappa\\Anaconda3\\lib\\site-packages\\ipykernel_launcher.py:24: FutureWarning: elementwise comparison failed; returning scalar instead, but in the future will perform elementwise comparison\n"
     ]
    },
    {
     "name": "stdout",
     "output_type": "stream",
     "text": [
      "28 0.9945402197956532\n"
     ]
    },
    {
     "name": "stderr",
     "output_type": "stream",
     "text": [
      "C:\\Users\\Pappa\\Anaconda3\\lib\\site-packages\\ipykernel_launcher.py:24: FutureWarning: elementwise comparison failed; returning scalar instead, but in the future will perform elementwise comparison\n"
     ]
    },
    {
     "name": "stdout",
     "output_type": "stream",
     "text": [
      "29 0.9955408869070609\n"
     ]
    },
    {
     "name": "stderr",
     "output_type": "stream",
     "text": [
      "C:\\Users\\Pappa\\Anaconda3\\lib\\site-packages\\ipykernel_launcher.py:24: FutureWarning: elementwise comparison failed; returning scalar instead, but in the future will perform elementwise comparison\n"
     ]
    },
    {
     "name": "stdout",
     "output_type": "stream",
     "text": [
      "30 0.9962255538780239\n"
     ]
    },
    {
     "name": "stderr",
     "output_type": "stream",
     "text": [
      "C:\\Users\\Pappa\\Anaconda3\\lib\\site-packages\\ipykernel_launcher.py:24: FutureWarning: elementwise comparison failed; returning scalar instead, but in the future will perform elementwise comparison\n"
     ]
    },
    {
     "name": "stdout",
     "output_type": "stream",
     "text": [
      "31 0.997471998876444\n"
     ]
    },
    {
     "name": "stderr",
     "output_type": "stream",
     "text": [
      "C:\\Users\\Pappa\\Anaconda3\\lib\\site-packages\\ipykernel_launcher.py:24: FutureWarning: elementwise comparison failed; returning scalar instead, but in the future will perform elementwise comparison\n"
     ]
    },
    {
     "name": "stdout",
     "output_type": "stream",
     "text": [
      "32 0.9946806643025174\n"
     ]
    },
    {
     "name": "stderr",
     "output_type": "stream",
     "text": [
      "C:\\Users\\Pappa\\Anaconda3\\lib\\site-packages\\ipykernel_launcher.py:24: FutureWarning: elementwise comparison failed; returning scalar instead, but in the future will perform elementwise comparison\n"
     ]
    },
    {
     "name": "stdout",
     "output_type": "stream",
     "text": [
      "33 0.9966819985253327\n"
     ]
    },
    {
     "name": "stderr",
     "output_type": "stream",
     "text": [
      "C:\\Users\\Pappa\\Anaconda3\\lib\\site-packages\\ipykernel_launcher.py:24: FutureWarning: elementwise comparison failed; returning scalar instead, but in the future will perform elementwise comparison\n"
     ]
    },
    {
     "name": "stdout",
     "output_type": "stream",
     "text": [
      "34 0.9947157754292335\n"
     ]
    },
    {
     "name": "stderr",
     "output_type": "stream",
     "text": [
      "C:\\Users\\Pappa\\Anaconda3\\lib\\site-packages\\ipykernel_launcher.py:24: FutureWarning: elementwise comparison failed; returning scalar instead, but in the future will perform elementwise comparison\n"
     ]
    },
    {
     "name": "stdout",
     "output_type": "stream",
     "text": [
      "35 0.989993328885924\n"
     ]
    },
    {
     "name": "stderr",
     "output_type": "stream",
     "text": [
      "C:\\Users\\Pappa\\Anaconda3\\lib\\site-packages\\ipykernel_launcher.py:24: FutureWarning: elementwise comparison failed; returning scalar instead, but in the future will perform elementwise comparison\n"
     ]
    },
    {
     "name": "stdout",
     "output_type": "stream",
     "text": [
      "36 0.9946455531758014\n"
     ]
    },
    {
     "name": "stderr",
     "output_type": "stream",
     "text": [
      "C:\\Users\\Pappa\\Anaconda3\\lib\\site-packages\\ipykernel_launcher.py:24: FutureWarning: elementwise comparison failed; returning scalar instead, but in the future will perform elementwise comparison\n"
     ]
    },
    {
     "name": "stdout",
     "output_type": "stream",
     "text": [
      "37 0.9943646641620729\n"
     ]
    },
    {
     "name": "stderr",
     "output_type": "stream",
     "text": [
      "C:\\Users\\Pappa\\Anaconda3\\lib\\site-packages\\ipykernel_launcher.py:24: FutureWarning: elementwise comparison failed; returning scalar instead, but in the future will perform elementwise comparison\n"
     ]
    },
    {
     "name": "stdout",
     "output_type": "stream",
     "text": [
      "38 0.9952775534566904\n"
     ]
    },
    {
     "name": "stderr",
     "output_type": "stream",
     "text": [
      "C:\\Users\\Pappa\\Anaconda3\\lib\\site-packages\\ipykernel_launcher.py:24: FutureWarning: elementwise comparison failed; returning scalar instead, but in the future will perform elementwise comparison\n"
     ]
    },
    {
     "name": "stdout",
     "output_type": "stream",
     "text": [
      "39 0.9970857764825674\n"
     ]
    },
    {
     "name": "stderr",
     "output_type": "stream",
     "text": [
      "C:\\Users\\Pappa\\Anaconda3\\lib\\site-packages\\ipykernel_launcher.py:24: FutureWarning: elementwise comparison failed; returning scalar instead, but in the future will perform elementwise comparison\n"
     ]
    },
    {
     "name": "stdout",
     "output_type": "stream",
     "text": [
      "40 0.9979284435237527\n"
     ]
    },
    {
     "name": "stderr",
     "output_type": "stream",
     "text": [
      "C:\\Users\\Pappa\\Anaconda3\\lib\\site-packages\\ipykernel_launcher.py:24: FutureWarning: elementwise comparison failed; returning scalar instead, but in the future will perform elementwise comparison\n"
     ]
    },
    {
     "name": "stdout",
     "output_type": "stream",
     "text": [
      "41 0.9953828868368386\n"
     ]
    },
    {
     "name": "stderr",
     "output_type": "stream",
     "text": [
      "C:\\Users\\Pappa\\Anaconda3\\lib\\site-packages\\ipykernel_launcher.py:24: FutureWarning: elementwise comparison failed; returning scalar instead, but in the future will perform elementwise comparison\n"
     ]
    },
    {
     "name": "stdout",
     "output_type": "stream",
     "text": [
      "42 0.9945051086689372\n"
     ]
    },
    {
     "name": "stderr",
     "output_type": "stream",
     "text": [
      "C:\\Users\\Pappa\\Anaconda3\\lib\\site-packages\\ipykernel_launcher.py:24: FutureWarning: elementwise comparison failed; returning scalar instead, but in the future will perform elementwise comparison\n"
     ]
    },
    {
     "name": "stdout",
     "output_type": "stream",
     "text": [
      "43 0.9978231101436045\n"
     ]
    },
    {
     "name": "stderr",
     "output_type": "stream",
     "text": [
      "C:\\Users\\Pappa\\Anaconda3\\lib\\site-packages\\ipykernel_launcher.py:24: FutureWarning: elementwise comparison failed; returning scalar instead, but in the future will perform elementwise comparison\n"
     ]
    },
    {
     "name": "stdout",
     "output_type": "stream",
     "text": [
      "44 0.9976299989466662\n"
     ]
    },
    {
     "name": "stderr",
     "output_type": "stream",
     "text": [
      "C:\\Users\\Pappa\\Anaconda3\\lib\\site-packages\\ipykernel_launcher.py:24: FutureWarning: elementwise comparison failed; returning scalar instead, but in the future will perform elementwise comparison\n"
     ]
    },
    {
     "name": "stdout",
     "output_type": "stream",
     "text": [
      "45 0.9933113303605913\n"
     ]
    },
    {
     "name": "stderr",
     "output_type": "stream",
     "text": [
      "C:\\Users\\Pappa\\Anaconda3\\lib\\site-packages\\ipykernel_launcher.py:24: FutureWarning: elementwise comparison failed; returning scalar instead, but in the future will perform elementwise comparison\n"
     ]
    },
    {
     "name": "stdout",
     "output_type": "stream",
     "text": [
      "46 0.9939608862048384\n"
     ]
    },
    {
     "name": "stderr",
     "output_type": "stream",
     "text": [
      "C:\\Users\\Pappa\\Anaconda3\\lib\\site-packages\\ipykernel_launcher.py:24: FutureWarning: elementwise comparison failed; returning scalar instead, but in the future will perform elementwise comparison\n"
     ]
    },
    {
     "name": "stdout",
     "output_type": "stream",
     "text": [
      "47 0.9950668866963941\n"
     ]
    },
    {
     "name": "stderr",
     "output_type": "stream",
     "text": [
      "C:\\Users\\Pappa\\Anaconda3\\lib\\site-packages\\ipykernel_launcher.py:24: FutureWarning: elementwise comparison failed; returning scalar instead, but in the future will perform elementwise comparison\n"
     ]
    },
    {
     "name": "stdout",
     "output_type": "stream",
     "text": [
      "48 0.9956988869772831\n"
     ]
    },
    {
     "name": "stderr",
     "output_type": "stream",
     "text": [
      "C:\\Users\\Pappa\\Anaconda3\\lib\\site-packages\\ipykernel_launcher.py:24: FutureWarning: elementwise comparison failed; returning scalar instead, but in the future will perform elementwise comparison\n"
     ]
    },
    {
     "name": "stdout",
     "output_type": "stream",
     "text": [
      "49 0.9955057757803448\n"
     ]
    },
    {
     "name": "stderr",
     "output_type": "stream",
     "text": [
      "C:\\Users\\Pappa\\Anaconda3\\lib\\site-packages\\ipykernel_launcher.py:24: FutureWarning: elementwise comparison failed; returning scalar instead, but in the future will perform elementwise comparison\n"
     ]
    },
    {
     "name": "stdout",
     "output_type": "stream",
     "text": [
      "50 0.9948211088093817\n"
     ]
    },
    {
     "name": "stderr",
     "output_type": "stream",
     "text": [
      "C:\\Users\\Pappa\\Anaconda3\\lib\\site-packages\\ipykernel_launcher.py:24: FutureWarning: elementwise comparison failed; returning scalar instead, but in the future will perform elementwise comparison\n"
     ]
    },
    {
     "name": "stdout",
     "output_type": "stream",
     "text": [
      "51 0.995031775569678\n"
     ]
    },
    {
     "name": "stderr",
     "output_type": "stream",
     "text": [
      "C:\\Users\\Pappa\\Anaconda3\\lib\\site-packages\\ipykernel_launcher.py:24: FutureWarning: elementwise comparison failed; returning scalar instead, but in the future will perform elementwise comparison\n"
     ]
    },
    {
     "name": "stdout",
     "output_type": "stream",
     "text": [
      "52 0.9953126645834065\n"
     ]
    },
    {
     "name": "stderr",
     "output_type": "stream",
     "text": [
      "C:\\Users\\Pappa\\Anaconda3\\lib\\site-packages\\ipykernel_launcher.py:24: FutureWarning: elementwise comparison failed; returning scalar instead, but in the future will perform elementwise comparison\n"
     ]
    },
    {
     "name": "stdout",
     "output_type": "stream",
     "text": [
      "53 0.9950493311330361\n"
     ]
    },
    {
     "name": "stderr",
     "output_type": "stream",
     "text": [
      "C:\\Users\\Pappa\\Anaconda3\\lib\\site-packages\\ipykernel_launcher.py:24: FutureWarning: elementwise comparison failed; returning scalar instead, but in the future will perform elementwise comparison\n"
     ]
    },
    {
     "name": "stdout",
     "output_type": "stream",
     "text": [
      "54 0.9978055545802464\n"
     ]
    },
    {
     "name": "stderr",
     "output_type": "stream",
     "text": [
      "C:\\Users\\Pappa\\Anaconda3\\lib\\site-packages\\ipykernel_launcher.py:24: FutureWarning: elementwise comparison failed; returning scalar instead, but in the future will perform elementwise comparison\n"
     ]
    },
    {
     "name": "stdout",
     "output_type": "stream",
     "text": [
      "55 0.9963659983848882\n"
     ]
    },
    {
     "name": "stderr",
     "output_type": "stream",
     "text": [
      "C:\\Users\\Pappa\\Anaconda3\\lib\\site-packages\\ipykernel_launcher.py:24: FutureWarning: elementwise comparison failed; returning scalar instead, but in the future will perform elementwise comparison\n"
     ]
    },
    {
     "name": "stdout",
     "output_type": "stream",
     "text": [
      "56 0.993118219163653\n"
     ]
    },
    {
     "name": "stderr",
     "output_type": "stream",
     "text": [
      "C:\\Users\\Pappa\\Anaconda3\\lib\\site-packages\\ipykernel_launcher.py:24: FutureWarning: elementwise comparison failed; returning scalar instead, but in the future will perform elementwise comparison\n"
     ]
    },
    {
     "name": "stdout",
     "output_type": "stream",
     "text": [
      "57 0.9947157754292335\n"
     ]
    },
    {
     "name": "stderr",
     "output_type": "stream",
     "text": [
      "C:\\Users\\Pappa\\Anaconda3\\lib\\site-packages\\ipykernel_launcher.py:24: FutureWarning: elementwise comparison failed; returning scalar instead, but in the future will perform elementwise comparison\n"
     ]
    },
    {
     "name": "stdout",
     "output_type": "stream",
     "text": [
      "58 0.9959973315543695\n"
     ]
    },
    {
     "name": "stderr",
     "output_type": "stream",
     "text": [
      "C:\\Users\\Pappa\\Anaconda3\\lib\\site-packages\\ipykernel_launcher.py:24: FutureWarning: elementwise comparison failed; returning scalar instead, but in the future will perform elementwise comparison\n"
     ]
    },
    {
     "name": "stdout",
     "output_type": "stream",
     "text": [
      "59 0.9967171096520487\n"
     ]
    },
    {
     "name": "stderr",
     "output_type": "stream",
     "text": [
      "C:\\Users\\Pappa\\Anaconda3\\lib\\site-packages\\ipykernel_launcher.py:24: FutureWarning: elementwise comparison failed; returning scalar instead, but in the future will perform elementwise comparison\n"
     ]
    },
    {
     "name": "stdout",
     "output_type": "stream",
     "text": [
      "60 0.9955408869070609\n"
     ]
    },
    {
     "name": "stderr",
     "output_type": "stream",
     "text": [
      "C:\\Users\\Pappa\\Anaconda3\\lib\\site-packages\\ipykernel_launcher.py:24: FutureWarning: elementwise comparison failed; returning scalar instead, but in the future will perform elementwise comparison\n"
     ]
    },
    {
     "name": "stdout",
     "output_type": "stream",
     "text": [
      "61 0.9852708823426144\n"
     ]
    },
    {
     "name": "stderr",
     "output_type": "stream",
     "text": [
      "C:\\Users\\Pappa\\Anaconda3\\lib\\site-packages\\ipykernel_launcher.py:24: FutureWarning: elementwise comparison failed; returning scalar instead, but in the future will perform elementwise comparison\n"
     ]
    },
    {
     "name": "stdout",
     "output_type": "stream",
     "text": [
      "62 0.9964186650749622\n"
     ]
    },
    {
     "name": "stderr",
     "output_type": "stream",
     "text": [
      "C:\\Users\\Pappa\\Anaconda3\\lib\\site-packages\\ipykernel_launcher.py:24: FutureWarning: elementwise comparison failed; returning scalar instead, but in the future will perform elementwise comparison\n"
     ]
    },
    {
     "name": "stdout",
     "output_type": "stream",
     "text": [
      "63 0.995628664723851\n"
     ]
    },
    {
     "name": "stderr",
     "output_type": "stream",
     "text": [
      "C:\\Users\\Pappa\\Anaconda3\\lib\\site-packages\\ipykernel_launcher.py:24: FutureWarning: elementwise comparison failed; returning scalar instead, but in the future will perform elementwise comparison\n"
     ]
    },
    {
     "name": "stdout",
     "output_type": "stream",
     "text": [
      "64 0.9958919981742214\n"
     ]
    },
    {
     "name": "stderr",
     "output_type": "stream",
     "text": [
      "C:\\Users\\Pappa\\Anaconda3\\lib\\site-packages\\ipykernel_launcher.py:24: FutureWarning: elementwise comparison failed; returning scalar instead, but in the future will perform elementwise comparison\n"
     ]
    },
    {
     "name": "stdout",
     "output_type": "stream",
     "text": [
      "65 0.9945226642322952\n"
     ]
    },
    {
     "name": "stderr",
     "output_type": "stream",
     "text": [
      "C:\\Users\\Pappa\\Anaconda3\\lib\\site-packages\\ipykernel_launcher.py:24: FutureWarning: elementwise comparison failed; returning scalar instead, but in the future will perform elementwise comparison\n"
     ]
    },
    {
     "name": "stdout",
     "output_type": "stream",
     "text": [
      "66 0.9938731083880482\n"
     ]
    },
    {
     "name": "stderr",
     "output_type": "stream",
     "text": [
      "C:\\Users\\Pappa\\Anaconda3\\lib\\site-packages\\ipykernel_launcher.py:24: FutureWarning: elementwise comparison failed; returning scalar instead, but in the future will perform elementwise comparison\n"
     ]
    },
    {
     "name": "stdout",
     "output_type": "stream",
     "text": [
      "67 0.9959973315543695\n"
     ]
    },
    {
     "name": "stderr",
     "output_type": "stream",
     "text": [
      "C:\\Users\\Pappa\\Anaconda3\\lib\\site-packages\\ipykernel_launcher.py:24: FutureWarning: elementwise comparison failed; returning scalar instead, but in the future will perform elementwise comparison\n"
     ]
    },
    {
     "name": "stdout",
     "output_type": "stream",
     "text": [
      "68 0.9964713317650363\n"
     ]
    },
    {
     "name": "stderr",
     "output_type": "stream",
     "text": [
      "C:\\Users\\Pappa\\Anaconda3\\lib\\site-packages\\ipykernel_launcher.py:24: FutureWarning: elementwise comparison failed; returning scalar instead, but in the future will perform elementwise comparison\n"
     ]
    },
    {
     "name": "stdout",
     "output_type": "stream",
     "text": [
      "69 0.9960499982444436\n"
     ]
    },
    {
     "name": "stderr",
     "output_type": "stream",
     "text": [
      "C:\\Users\\Pappa\\Anaconda3\\lib\\site-packages\\ipykernel_launcher.py:24: FutureWarning: elementwise comparison failed; returning scalar instead, but in the future will perform elementwise comparison\n"
     ]
    },
    {
     "name": "stdout",
     "output_type": "stream",
     "text": [
      "70 0.9891682174080966\n"
     ]
    },
    {
     "name": "stderr",
     "output_type": "stream",
     "text": [
      "C:\\Users\\Pappa\\Anaconda3\\lib\\site-packages\\ipykernel_launcher.py:24: FutureWarning: elementwise comparison failed; returning scalar instead, but in the future will perform elementwise comparison\n"
     ]
    },
    {
     "name": "stdout",
     "output_type": "stream",
     "text": [
      "71 0.9977879990168884\n"
     ]
    },
    {
     "name": "stderr",
     "output_type": "stream",
     "text": [
      "C:\\Users\\Pappa\\Anaconda3\\lib\\site-packages\\ipykernel_launcher.py:24: FutureWarning: elementwise comparison failed; returning scalar instead, but in the future will perform elementwise comparison\n"
     ]
    },
    {
     "name": "stdout",
     "output_type": "stream",
     "text": [
      "72 0.9942066640918507\n"
     ]
    },
    {
     "name": "stderr",
     "output_type": "stream",
     "text": [
      "C:\\Users\\Pappa\\Anaconda3\\lib\\site-packages\\ipykernel_launcher.py:24: FutureWarning: elementwise comparison failed; returning scalar instead, but in the future will perform elementwise comparison\n"
     ]
    },
    {
     "name": "stdout",
     "output_type": "stream",
     "text": [
      "73 0.997454443313086\n"
     ]
    },
    {
     "name": "stderr",
     "output_type": "stream",
     "text": [
      "C:\\Users\\Pappa\\Anaconda3\\lib\\site-packages\\ipykernel_launcher.py:24: FutureWarning: elementwise comparison failed; returning scalar instead, but in the future will perform elementwise comparison\n"
     ]
    },
    {
     "name": "stdout",
     "output_type": "stream",
     "text": [
      "74 0.9956637758505671\n"
     ]
    },
    {
     "name": "stderr",
     "output_type": "stream",
     "text": [
      "C:\\Users\\Pappa\\Anaconda3\\lib\\site-packages\\ipykernel_launcher.py:24: FutureWarning: elementwise comparison failed; returning scalar instead, but in the future will perform elementwise comparison\n"
     ]
    },
    {
     "name": "stdout",
     "output_type": "stream",
     "text": [
      "75 0.9966293318352586\n"
     ]
    },
    {
     "name": "stderr",
     "output_type": "stream",
     "text": [
      "C:\\Users\\Pappa\\Anaconda3\\lib\\site-packages\\ipykernel_launcher.py:24: FutureWarning: elementwise comparison failed; returning scalar instead, but in the future will perform elementwise comparison\n"
     ]
    },
    {
     "name": "stdout",
     "output_type": "stream",
     "text": [
      "76 0.9974017766230119\n"
     ]
    },
    {
     "name": "stderr",
     "output_type": "stream",
     "text": [
      "C:\\Users\\Pappa\\Anaconda3\\lib\\site-packages\\ipykernel_launcher.py:24: FutureWarning: elementwise comparison failed; returning scalar instead, but in the future will perform elementwise comparison\n"
     ]
    },
    {
     "name": "stdout",
     "output_type": "stream",
     "text": [
      "77 0.9946455531758014\n"
     ]
    },
    {
     "name": "stderr",
     "output_type": "stream",
     "text": [
      "C:\\Users\\Pappa\\Anaconda3\\lib\\site-packages\\ipykernel_launcher.py:24: FutureWarning: elementwise comparison failed; returning scalar instead, but in the future will perform elementwise comparison\n"
     ]
    },
    {
     "name": "stdout",
     "output_type": "stream",
     "text": [
      "78 0.9952775534566904\n"
     ]
    },
    {
     "name": "stderr",
     "output_type": "stream",
     "text": [
      "C:\\Users\\Pappa\\Anaconda3\\lib\\site-packages\\ipykernel_launcher.py:24: FutureWarning: elementwise comparison failed; returning scalar instead, but in the future will perform elementwise comparison\n"
     ]
    },
    {
     "name": "stdout",
     "output_type": "stream",
     "text": [
      "79 0.995628664723851\n"
     ]
    },
    {
     "name": "stderr",
     "output_type": "stream",
     "text": [
      "C:\\Users\\Pappa\\Anaconda3\\lib\\site-packages\\ipykernel_launcher.py:24: FutureWarning: elementwise comparison failed; returning scalar instead, but in the future will perform elementwise comparison\n"
     ]
    },
    {
     "name": "stdout",
     "output_type": "stream",
     "text": [
      "80 0.993715108317826\n"
     ]
    },
    {
     "name": "stderr",
     "output_type": "stream",
     "text": [
      "C:\\Users\\Pappa\\Anaconda3\\lib\\site-packages\\ipykernel_launcher.py:24: FutureWarning: elementwise comparison failed; returning scalar instead, but in the future will perform elementwise comparison\n"
     ]
    },
    {
     "name": "stdout",
     "output_type": "stream",
     "text": [
      "81 0.9963659983848882\n"
     ]
    },
    {
     "name": "stderr",
     "output_type": "stream",
     "text": [
      "C:\\Users\\Pappa\\Anaconda3\\lib\\site-packages\\ipykernel_launcher.py:24: FutureWarning: elementwise comparison failed; returning scalar instead, but in the future will perform elementwise comparison\n"
     ]
    },
    {
     "name": "stdout",
     "output_type": "stream",
     "text": [
      "82 0.9942768863452828\n"
     ]
    },
    {
     "name": "stderr",
     "output_type": "stream",
     "text": [
      "C:\\Users\\Pappa\\Anaconda3\\lib\\site-packages\\ipykernel_launcher.py:24: FutureWarning: elementwise comparison failed; returning scalar instead, but in the future will perform elementwise comparison\n"
     ]
    },
    {
     "name": "stdout",
     "output_type": "stream",
     "text": [
      "83 0.9938731083880482\n"
     ]
    },
    {
     "name": "stderr",
     "output_type": "stream",
     "text": [
      "C:\\Users\\Pappa\\Anaconda3\\lib\\site-packages\\ipykernel_launcher.py:24: FutureWarning: elementwise comparison failed; returning scalar instead, but in the future will perform elementwise comparison\n"
     ]
    },
    {
     "name": "stdout",
     "output_type": "stream",
     "text": [
      "84 0.9970155542291352\n"
     ]
    },
    {
     "name": "stderr",
     "output_type": "stream",
     "text": [
      "C:\\Users\\Pappa\\Anaconda3\\lib\\site-packages\\ipykernel_launcher.py:24: FutureWarning: elementwise comparison failed; returning scalar instead, but in the future will perform elementwise comparison\n"
     ]
    },
    {
     "name": "stdout",
     "output_type": "stream",
     "text": [
      "85 0.995628664723851\n"
     ]
    },
    {
     "name": "stderr",
     "output_type": "stream",
     "text": [
      "C:\\Users\\Pappa\\Anaconda3\\lib\\site-packages\\ipykernel_launcher.py:24: FutureWarning: elementwise comparison failed; returning scalar instead, but in the future will perform elementwise comparison\n"
     ]
    },
    {
     "name": "stdout",
     "output_type": "stream",
     "text": [
      "86 0.9969628875390611\n"
     ]
    },
    {
     "name": "stderr",
     "output_type": "stream",
     "text": [
      "C:\\Users\\Pappa\\Anaconda3\\lib\\site-packages\\ipykernel_launcher.py:24: FutureWarning: elementwise comparison failed; returning scalar instead, but in the future will perform elementwise comparison\n"
     ]
    },
    {
     "name": "stdout",
     "output_type": "stream",
     "text": [
      "87 0.9966644429619747\n"
     ]
    },
    {
     "name": "stderr",
     "output_type": "stream",
     "text": [
      "C:\\Users\\Pappa\\Anaconda3\\lib\\site-packages\\ipykernel_launcher.py:24: FutureWarning: elementwise comparison failed; returning scalar instead, but in the future will perform elementwise comparison\n"
     ]
    },
    {
     "name": "stdout",
     "output_type": "stream",
     "text": [
      "88 0.9953126645834065\n"
     ]
    },
    {
     "name": "stderr",
     "output_type": "stream",
     "text": [
      "C:\\Users\\Pappa\\Anaconda3\\lib\\site-packages\\ipykernel_launcher.py:24: FutureWarning: elementwise comparison failed; returning scalar instead, but in the future will perform elementwise comparison\n"
     ]
    },
    {
     "name": "stdout",
     "output_type": "stream",
     "text": [
      "89 0.9978582212703205\n"
     ]
    },
    {
     "name": "stderr",
     "output_type": "stream",
     "text": [
      "C:\\Users\\Pappa\\Anaconda3\\lib\\site-packages\\ipykernel_launcher.py:24: FutureWarning: elementwise comparison failed; returning scalar instead, but in the future will perform elementwise comparison\n"
     ]
    },
    {
     "name": "stdout",
     "output_type": "stream",
     "text": [
      "90 0.9936975527544679\n"
     ]
    },
    {
     "name": "stderr",
     "output_type": "stream",
     "text": [
      "C:\\Users\\Pappa\\Anaconda3\\lib\\site-packages\\ipykernel_launcher.py:24: FutureWarning: elementwise comparison failed; returning scalar instead, but in the future will perform elementwise comparison\n"
     ]
    },
    {
     "name": "stdout",
     "output_type": "stream",
     "text": [
      "91 0.9969277764123451\n"
     ]
    },
    {
     "name": "stderr",
     "output_type": "stream",
     "text": [
      "C:\\Users\\Pappa\\Anaconda3\\lib\\site-packages\\ipykernel_launcher.py:24: FutureWarning: elementwise comparison failed; returning scalar instead, but in the future will perform elementwise comparison\n"
     ]
    },
    {
     "name": "stdout",
     "output_type": "stream",
     "text": [
      "92 0.9954706646536288\n"
     ]
    },
    {
     "name": "stderr",
     "output_type": "stream",
     "text": [
      "C:\\Users\\Pappa\\Anaconda3\\lib\\site-packages\\ipykernel_launcher.py:24: FutureWarning: elementwise comparison failed; returning scalar instead, but in the future will perform elementwise comparison\n"
     ]
    },
    {
     "name": "stdout",
     "output_type": "stream",
     "text": [
      "93 0.9929953302201467\n"
     ]
    },
    {
     "name": "stderr",
     "output_type": "stream",
     "text": [
      "C:\\Users\\Pappa\\Anaconda3\\lib\\site-packages\\ipykernel_launcher.py:24: FutureWarning: elementwise comparison failed; returning scalar instead, but in the future will perform elementwise comparison\n"
     ]
    },
    {
     "name": "stdout",
     "output_type": "stream",
     "text": [
      "94 0.9808293248130332\n"
     ]
    },
    {
     "name": "stderr",
     "output_type": "stream",
     "text": [
      "C:\\Users\\Pappa\\Anaconda3\\lib\\site-packages\\ipykernel_launcher.py:24: FutureWarning: elementwise comparison failed; returning scalar instead, but in the future will perform elementwise comparison\n"
     ]
    },
    {
     "name": "stdout",
     "output_type": "stream",
     "text": [
      "95 0.9948913310628138\n"
     ]
    },
    {
     "name": "stderr",
     "output_type": "stream",
     "text": [
      "C:\\Users\\Pappa\\Anaconda3\\lib\\site-packages\\ipykernel_launcher.py:24: FutureWarning: elementwise comparison failed; returning scalar instead, but in the future will perform elementwise comparison\n"
     ]
    },
    {
     "name": "stdout",
     "output_type": "stream",
     "text": [
      "96 0.9952424423299744\n"
     ]
    },
    {
     "name": "stderr",
     "output_type": "stream",
     "text": [
      "C:\\Users\\Pappa\\Anaconda3\\lib\\site-packages\\ipykernel_launcher.py:24: FutureWarning: elementwise comparison failed; returning scalar instead, but in the future will perform elementwise comparison\n"
     ]
    },
    {
     "name": "stdout",
     "output_type": "stream",
     "text": [
      "97 0.9954179979635547\n"
     ]
    },
    {
     "name": "stderr",
     "output_type": "stream",
     "text": [
      "C:\\Users\\Pappa\\Anaconda3\\lib\\site-packages\\ipykernel_launcher.py:24: FutureWarning: elementwise comparison failed; returning scalar instead, but in the future will perform elementwise comparison\n"
     ]
    },
    {
     "name": "stdout",
     "output_type": "stream",
     "text": [
      "98 0.9963308872581721\n"
     ]
    },
    {
     "name": "stderr",
     "output_type": "stream",
     "text": [
      "C:\\Users\\Pappa\\Anaconda3\\lib\\site-packages\\ipykernel_launcher.py:24: FutureWarning: elementwise comparison failed; returning scalar instead, but in the future will perform elementwise comparison\n"
     ]
    },
    {
     "name": "stdout",
     "output_type": "stream",
     "text": [
      "99 0.9973139988062217\n"
     ]
    },
    {
     "name": "stderr",
     "output_type": "stream",
     "text": [
      "C:\\Users\\Pappa\\Anaconda3\\lib\\site-packages\\ipykernel_launcher.py:24: FutureWarning: elementwise comparison failed; returning scalar instead, but in the future will perform elementwise comparison\n"
     ]
    }
   ],
   "source": [
    "accuracy_from_features = []\n",
    "feature_list = random.sample(list(X_train_resampled.columns.values), len(OOB_10.index.values))\n",
    "\n",
    "for i in range(0, dim):\n",
    "    \n",
    "    accuracy_from_features.append(feature_list)\n",
    "    \n",
    "    X_temp = X_train_resampled[feature_list].copy()\n",
    "    \n",
    "    # Create a random forest classifier\n",
    "    clf = AdaBoostClassifier(base_estimator=dTree, n_estimators=101, learning_rate=0.05,\n",
    "                              algorithm='SAMME', random_state=42)\n",
    "\n",
    "    # Train the classifier\n",
    "    clf.fit(X_temp, y_train_resampled['Class'].values)\n",
    "    \n",
    "    # Prediction\n",
    "    X_test_temp = X_val[feature_list].copy()\n",
    "    pred_y = clf.predict(X_test_temp)\n",
    "    \n",
    "    accuracy_from_features.append(metrics.accuracy_score(pred_y, y_val['Class'].values))\n",
    "    print(i, accuracy_from_features[-1])\n",
    "    \n",
    "    while feature_list in accuracy_from_features:\n",
    "        feature_list = random.sample(list(X_train_resampled.columns.values), len(OOB_10.index.values))"
   ]
  },
  {
   "cell_type": "code",
   "execution_count": 11,
   "metadata": {},
   "outputs": [],
   "source": [
    "permutation_test_df = pd.DataFrame()\n",
    "for i in range(0, len(OOB_10.index.values)):\n",
    "    permutation_test_df['feature_'+str(i)] = \"\"\n",
    "    \n",
    "permutation_test_df['accuracy'] = 0.0\n"
   ]
  },
  {
   "cell_type": "code",
   "execution_count": 12,
   "metadata": {},
   "outputs": [],
   "source": [
    "accuracy = list()\n",
    "for i in range(0, dim):\n",
    "    accuracy.insert(i,0)\n",
    "    \n",
    "for i in range(0, len(accuracy_from_features),2):\n",
    "    accuracy.insert(i,accuracy_from_features[i+1])"
   ]
  },
  {
   "cell_type": "code",
   "execution_count": 13,
   "metadata": {},
   "outputs": [
    {
     "data": {
      "text/plain": [
       "[0.9942242196552087,\n",
       " 0,\n",
       " 0.9895544398019732,\n",
       " 0,\n",
       " 0.9942593307819247,\n",
       " 0,\n",
       " 0.996892665285629,\n",
       " 0,\n",
       " 0.9970682209192093,\n",
       " 0,\n",
       " 0.9951195533864682,\n",
       " 0,\n",
       " 0.9972964432428637,\n",
       " 0,\n",
       " 0.9942242196552087,\n",
       " 0,\n",
       " 0.995628664723851,\n",
       " 0,\n",
       " 0.9970682209192093,\n",
       " 0,\n",
       " 0.9978055545802464,\n",
       " 0,\n",
       " 0.9958393314841473,\n",
       " 0,\n",
       " 0.99501422000632,\n",
       " 0,\n",
       " 0.9946631087391594,\n",
       " 0,\n",
       " 0.995593553597135,\n",
       " 0,\n",
       " 0.9895017731118991,\n",
       " 0,\n",
       " 0.9893613286050349,\n",
       " 0,\n",
       " 0.9955233313437029,\n",
       " 0,\n",
       " 0.9955408869070609,\n",
       " 0,\n",
       " 0.9951019978231102,\n",
       " 0,\n",
       " 0.9967346652154068,\n",
       " 0,\n",
       " 0.9965766651451845,\n",
       " 0,\n",
       " 0.9979284435237527,\n",
       " 0,\n",
       " 0.996243109441382,\n",
       " 0,\n",
       " 0.9942768863452828,\n",
       " 0,\n",
       " 0.9960675538078017,\n",
       " 0,\n",
       " 0.9968048874688389,\n",
       " 0,\n",
       " 0.997454443313086,\n",
       " 0,\n",
       " 0.9945402197956532,\n",
       " 0,\n",
       " 0.9955408869070609,\n",
       " 0,\n",
       " 0.9962255538780239,\n",
       " 0,\n",
       " 0.997471998876444,\n",
       " 0,\n",
       " 0.9946806643025174,\n",
       " 0,\n",
       " 0.9966819985253327,\n",
       " 0,\n",
       " 0.9947157754292335,\n",
       " 0,\n",
       " 0.989993328885924,\n",
       " 0,\n",
       " 0.9946455531758014,\n",
       " 0,\n",
       " 0.9943646641620729,\n",
       " 0,\n",
       " 0.9952775534566904,\n",
       " 0,\n",
       " 0.9970857764825674,\n",
       " 0,\n",
       " 0.9979284435237527,\n",
       " 0,\n",
       " 0.9953828868368386,\n",
       " 0,\n",
       " 0.9945051086689372,\n",
       " 0,\n",
       " 0.9978231101436045,\n",
       " 0,\n",
       " 0.9976299989466662,\n",
       " 0,\n",
       " 0.9933113303605913,\n",
       " 0,\n",
       " 0.9939608862048384,\n",
       " 0,\n",
       " 0.9950668866963941,\n",
       " 0,\n",
       " 0.9956988869772831,\n",
       " 0,\n",
       " 0.9955057757803448,\n",
       " 0,\n",
       " 0.9948211088093817,\n",
       " 0,\n",
       " 0.995031775569678,\n",
       " 0,\n",
       " 0.9953126645834065,\n",
       " 0,\n",
       " 0.9950493311330361,\n",
       " 0,\n",
       " 0.9978055545802464,\n",
       " 0,\n",
       " 0.9963659983848882,\n",
       " 0,\n",
       " 0.993118219163653,\n",
       " 0,\n",
       " 0.9947157754292335,\n",
       " 0,\n",
       " 0.9959973315543695,\n",
       " 0,\n",
       " 0.9967171096520487,\n",
       " 0,\n",
       " 0.9955408869070609,\n",
       " 0,\n",
       " 0.9852708823426144,\n",
       " 0,\n",
       " 0.9964186650749622,\n",
       " 0,\n",
       " 0.995628664723851,\n",
       " 0,\n",
       " 0.9958919981742214,\n",
       " 0,\n",
       " 0.9945226642322952,\n",
       " 0,\n",
       " 0.9938731083880482,\n",
       " 0,\n",
       " 0.9959973315543695,\n",
       " 0,\n",
       " 0.9964713317650363,\n",
       " 0,\n",
       " 0.9960499982444436,\n",
       " 0,\n",
       " 0.9891682174080966,\n",
       " 0,\n",
       " 0.9977879990168884,\n",
       " 0,\n",
       " 0.9942066640918507,\n",
       " 0,\n",
       " 0.997454443313086,\n",
       " 0,\n",
       " 0.9956637758505671,\n",
       " 0,\n",
       " 0.9966293318352586,\n",
       " 0,\n",
       " 0.9974017766230119,\n",
       " 0,\n",
       " 0.9946455531758014,\n",
       " 0,\n",
       " 0.9952775534566904,\n",
       " 0,\n",
       " 0.995628664723851,\n",
       " 0,\n",
       " 0.993715108317826,\n",
       " 0,\n",
       " 0.9963659983848882,\n",
       " 0,\n",
       " 0.9942768863452828,\n",
       " 0,\n",
       " 0.9938731083880482,\n",
       " 0,\n",
       " 0.9970155542291352,\n",
       " 0,\n",
       " 0.995628664723851,\n",
       " 0,\n",
       " 0.9969628875390611,\n",
       " 0,\n",
       " 0.9966644429619747,\n",
       " 0,\n",
       " 0.9953126645834065,\n",
       " 0,\n",
       " 0.9978582212703205,\n",
       " 0,\n",
       " 0.9936975527544679,\n",
       " 0,\n",
       " 0.9969277764123451,\n",
       " 0,\n",
       " 0.9954706646536288,\n",
       " 0,\n",
       " 0.9929953302201467,\n",
       " 0,\n",
       " 0.9808293248130332,\n",
       " 0,\n",
       " 0.9948913310628138,\n",
       " 0,\n",
       " 0.9952424423299744,\n",
       " 0,\n",
       " 0.9954179979635547,\n",
       " 0,\n",
       " 0.9963308872581721,\n",
       " 0,\n",
       " 0.9973139988062217,\n",
       " 0]"
      ]
     },
     "execution_count": 13,
     "metadata": {},
     "output_type": "execute_result"
    }
   ],
   "source": [
    "accuracy"
   ]
  },
  {
   "cell_type": "code",
   "execution_count": 14,
   "metadata": {},
   "outputs": [],
   "source": [
    "z=0\n",
    "for i in range(0, len(accuracy_from_features),2):\n",
    "    for j in range(0, len(accuracy_from_features[i])):\n",
    "        permutation_test_df.loc[i, 'feature_'+str(j)] = accuracy_from_features[i][j]\n",
    "        \n",
    "    \n",
    "    permutation_test_df.loc[i, 'accuracy'] = accuracy[i]\n",
    "\n",
    "    #z=z+1"
   ]
  },
  {
   "cell_type": "code",
   "execution_count": 15,
   "metadata": {},
   "outputs": [
    {
     "data": {
      "text/html": [
       "<div>\n",
       "<style scoped>\n",
       "    .dataframe tbody tr th:only-of-type {\n",
       "        vertical-align: middle;\n",
       "    }\n",
       "\n",
       "    .dataframe tbody tr th {\n",
       "        vertical-align: top;\n",
       "    }\n",
       "\n",
       "    .dataframe thead th {\n",
       "        text-align: right;\n",
       "    }\n",
       "</style>\n",
       "<table border=\"1\" class=\"dataframe\">\n",
       "  <thead>\n",
       "    <tr style=\"text-align: right;\">\n",
       "      <th></th>\n",
       "      <th>feature_0</th>\n",
       "      <th>feature_1</th>\n",
       "      <th>feature_2</th>\n",
       "      <th>feature_3</th>\n",
       "      <th>feature_4</th>\n",
       "      <th>feature_5</th>\n",
       "      <th>feature_6</th>\n",
       "      <th>feature_7</th>\n",
       "      <th>feature_8</th>\n",
       "      <th>feature_9</th>\n",
       "      <th>accuracy</th>\n",
       "    </tr>\n",
       "  </thead>\n",
       "  <tbody>\n",
       "    <tr>\n",
       "      <th>0</th>\n",
       "      <td>V28</td>\n",
       "      <td>V19</td>\n",
       "      <td>V5</td>\n",
       "      <td>V1</td>\n",
       "      <td>V20</td>\n",
       "      <td>V12</td>\n",
       "      <td>V2</td>\n",
       "      <td>Scaled_Amount</td>\n",
       "      <td>V14</td>\n",
       "      <td>V25</td>\n",
       "      <td>0.994224</td>\n",
       "    </tr>\n",
       "    <tr>\n",
       "      <th>1</th>\n",
       "      <td>V7</td>\n",
       "      <td>V28</td>\n",
       "      <td>V5</td>\n",
       "      <td>V2</td>\n",
       "      <td>V6</td>\n",
       "      <td>V9</td>\n",
       "      <td>V22</td>\n",
       "      <td>V19</td>\n",
       "      <td>V23</td>\n",
       "      <td>V13</td>\n",
       "      <td>0.989554</td>\n",
       "    </tr>\n",
       "    <tr>\n",
       "      <th>2</th>\n",
       "      <td>V14</td>\n",
       "      <td>V6</td>\n",
       "      <td>V4</td>\n",
       "      <td>V15</td>\n",
       "      <td>V9</td>\n",
       "      <td>V19</td>\n",
       "      <td>V27</td>\n",
       "      <td>V21</td>\n",
       "      <td>V25</td>\n",
       "      <td>V16</td>\n",
       "      <td>0.994259</td>\n",
       "    </tr>\n",
       "    <tr>\n",
       "      <th>3</th>\n",
       "      <td>V22</td>\n",
       "      <td>V16</td>\n",
       "      <td>V2</td>\n",
       "      <td>V18</td>\n",
       "      <td>V27</td>\n",
       "      <td>V1</td>\n",
       "      <td>V23</td>\n",
       "      <td>V13</td>\n",
       "      <td>V12</td>\n",
       "      <td>V17</td>\n",
       "      <td>0.996893</td>\n",
       "    </tr>\n",
       "    <tr>\n",
       "      <th>4</th>\n",
       "      <td>V26</td>\n",
       "      <td>Scaled_Amount</td>\n",
       "      <td>V12</td>\n",
       "      <td>V5</td>\n",
       "      <td>V1</td>\n",
       "      <td>V8</td>\n",
       "      <td>V28</td>\n",
       "      <td>V6</td>\n",
       "      <td>Scaled_Time</td>\n",
       "      <td>V3</td>\n",
       "      <td>0.997068</td>\n",
       "    </tr>\n",
       "    <tr>\n",
       "      <th>5</th>\n",
       "      <td>V3</td>\n",
       "      <td>V13</td>\n",
       "      <td>V22</td>\n",
       "      <td>V11</td>\n",
       "      <td>V10</td>\n",
       "      <td>V24</td>\n",
       "      <td>V28</td>\n",
       "      <td>V23</td>\n",
       "      <td>V25</td>\n",
       "      <td>V20</td>\n",
       "      <td>0.995120</td>\n",
       "    </tr>\n",
       "    <tr>\n",
       "      <th>6</th>\n",
       "      <td>V28</td>\n",
       "      <td>V7</td>\n",
       "      <td>Scaled_Amount</td>\n",
       "      <td>V19</td>\n",
       "      <td>V18</td>\n",
       "      <td>V11</td>\n",
       "      <td>V27</td>\n",
       "      <td>Scaled_Time</td>\n",
       "      <td>V12</td>\n",
       "      <td>V5</td>\n",
       "      <td>0.997296</td>\n",
       "    </tr>\n",
       "    <tr>\n",
       "      <th>7</th>\n",
       "      <td>V17</td>\n",
       "      <td>V15</td>\n",
       "      <td>V2</td>\n",
       "      <td>V9</td>\n",
       "      <td>V6</td>\n",
       "      <td>V14</td>\n",
       "      <td>V4</td>\n",
       "      <td>V10</td>\n",
       "      <td>Scaled_Time</td>\n",
       "      <td>V12</td>\n",
       "      <td>0.994224</td>\n",
       "    </tr>\n",
       "    <tr>\n",
       "      <th>8</th>\n",
       "      <td>V22</td>\n",
       "      <td>V8</td>\n",
       "      <td>V25</td>\n",
       "      <td>V14</td>\n",
       "      <td>V24</td>\n",
       "      <td>V9</td>\n",
       "      <td>V20</td>\n",
       "      <td>V3</td>\n",
       "      <td>V19</td>\n",
       "      <td>Scaled_Amount</td>\n",
       "      <td>0.995629</td>\n",
       "    </tr>\n",
       "    <tr>\n",
       "      <th>9</th>\n",
       "      <td>V11</td>\n",
       "      <td>V5</td>\n",
       "      <td>V21</td>\n",
       "      <td>V12</td>\n",
       "      <td>V22</td>\n",
       "      <td>Scaled_Time</td>\n",
       "      <td>V20</td>\n",
       "      <td>V7</td>\n",
       "      <td>V6</td>\n",
       "      <td>V28</td>\n",
       "      <td>0.997068</td>\n",
       "    </tr>\n",
       "    <tr>\n",
       "      <th>10</th>\n",
       "      <td>V12</td>\n",
       "      <td>V13</td>\n",
       "      <td>V19</td>\n",
       "      <td>V27</td>\n",
       "      <td>V10</td>\n",
       "      <td>V18</td>\n",
       "      <td>V5</td>\n",
       "      <td>V11</td>\n",
       "      <td>Scaled_Amount</td>\n",
       "      <td>V4</td>\n",
       "      <td>0.997806</td>\n",
       "    </tr>\n",
       "    <tr>\n",
       "      <th>11</th>\n",
       "      <td>V8</td>\n",
       "      <td>V21</td>\n",
       "      <td>V6</td>\n",
       "      <td>V18</td>\n",
       "      <td>V5</td>\n",
       "      <td>V24</td>\n",
       "      <td>V13</td>\n",
       "      <td>V10</td>\n",
       "      <td>V15</td>\n",
       "      <td>V4</td>\n",
       "      <td>0.995839</td>\n",
       "    </tr>\n",
       "    <tr>\n",
       "      <th>12</th>\n",
       "      <td>V27</td>\n",
       "      <td>V7</td>\n",
       "      <td>V13</td>\n",
       "      <td>Scaled_Amount</td>\n",
       "      <td>V3</td>\n",
       "      <td>V8</td>\n",
       "      <td>V14</td>\n",
       "      <td>V15</td>\n",
       "      <td>Scaled_Time</td>\n",
       "      <td>V19</td>\n",
       "      <td>0.995014</td>\n",
       "    </tr>\n",
       "    <tr>\n",
       "      <th>13</th>\n",
       "      <td>V27</td>\n",
       "      <td>Scaled_Time</td>\n",
       "      <td>V21</td>\n",
       "      <td>V9</td>\n",
       "      <td>V1</td>\n",
       "      <td>V16</td>\n",
       "      <td>V26</td>\n",
       "      <td>V25</td>\n",
       "      <td>V3</td>\n",
       "      <td>V28</td>\n",
       "      <td>0.994663</td>\n",
       "    </tr>\n",
       "    <tr>\n",
       "      <th>14</th>\n",
       "      <td>Scaled_Amount</td>\n",
       "      <td>V1</td>\n",
       "      <td>V15</td>\n",
       "      <td>V20</td>\n",
       "      <td>V8</td>\n",
       "      <td>V25</td>\n",
       "      <td>V13</td>\n",
       "      <td>V10</td>\n",
       "      <td>V11</td>\n",
       "      <td>V18</td>\n",
       "      <td>0.995594</td>\n",
       "    </tr>\n",
       "    <tr>\n",
       "      <th>15</th>\n",
       "      <td>V15</td>\n",
       "      <td>V4</td>\n",
       "      <td>V21</td>\n",
       "      <td>V8</td>\n",
       "      <td>V24</td>\n",
       "      <td>V3</td>\n",
       "      <td>V18</td>\n",
       "      <td>V1</td>\n",
       "      <td>V7</td>\n",
       "      <td>V6</td>\n",
       "      <td>0.989502</td>\n",
       "    </tr>\n",
       "    <tr>\n",
       "      <th>16</th>\n",
       "      <td>V27</td>\n",
       "      <td>V25</td>\n",
       "      <td>V28</td>\n",
       "      <td>V3</td>\n",
       "      <td>V13</td>\n",
       "      <td>Scaled_Amount</td>\n",
       "      <td>V18</td>\n",
       "      <td>V21</td>\n",
       "      <td>V26</td>\n",
       "      <td>V8</td>\n",
       "      <td>0.989361</td>\n",
       "    </tr>\n",
       "    <tr>\n",
       "      <th>17</th>\n",
       "      <td>V16</td>\n",
       "      <td>V24</td>\n",
       "      <td>V27</td>\n",
       "      <td>V10</td>\n",
       "      <td>V17</td>\n",
       "      <td>V22</td>\n",
       "      <td>V23</td>\n",
       "      <td>Scaled_Time</td>\n",
       "      <td>V25</td>\n",
       "      <td>Scaled_Amount</td>\n",
       "      <td>0.995523</td>\n",
       "    </tr>\n",
       "    <tr>\n",
       "      <th>18</th>\n",
       "      <td>V10</td>\n",
       "      <td>V23</td>\n",
       "      <td>V26</td>\n",
       "      <td>V14</td>\n",
       "      <td>V9</td>\n",
       "      <td>V19</td>\n",
       "      <td>Scaled_Amount</td>\n",
       "      <td>V22</td>\n",
       "      <td>V2</td>\n",
       "      <td>V1</td>\n",
       "      <td>0.995541</td>\n",
       "    </tr>\n",
       "    <tr>\n",
       "      <th>19</th>\n",
       "      <td>V15</td>\n",
       "      <td>V7</td>\n",
       "      <td>V28</td>\n",
       "      <td>V12</td>\n",
       "      <td>Scaled_Amount</td>\n",
       "      <td>V1</td>\n",
       "      <td>V25</td>\n",
       "      <td>V9</td>\n",
       "      <td>V14</td>\n",
       "      <td>V13</td>\n",
       "      <td>0.995102</td>\n",
       "    </tr>\n",
       "    <tr>\n",
       "      <th>20</th>\n",
       "      <td>V7</td>\n",
       "      <td>Scaled_Amount</td>\n",
       "      <td>V12</td>\n",
       "      <td>V11</td>\n",
       "      <td>V4</td>\n",
       "      <td>V1</td>\n",
       "      <td>V28</td>\n",
       "      <td>V25</td>\n",
       "      <td>V24</td>\n",
       "      <td>V18</td>\n",
       "      <td>0.996735</td>\n",
       "    </tr>\n",
       "    <tr>\n",
       "      <th>21</th>\n",
       "      <td>V21</td>\n",
       "      <td>V24</td>\n",
       "      <td>V5</td>\n",
       "      <td>V14</td>\n",
       "      <td>V2</td>\n",
       "      <td>V20</td>\n",
       "      <td>V10</td>\n",
       "      <td>V23</td>\n",
       "      <td>V26</td>\n",
       "      <td>V17</td>\n",
       "      <td>0.996577</td>\n",
       "    </tr>\n",
       "    <tr>\n",
       "      <th>22</th>\n",
       "      <td>V7</td>\n",
       "      <td>V13</td>\n",
       "      <td>V11</td>\n",
       "      <td>V9</td>\n",
       "      <td>V12</td>\n",
       "      <td>Scaled_Time</td>\n",
       "      <td>V27</td>\n",
       "      <td>V20</td>\n",
       "      <td>V22</td>\n",
       "      <td>V10</td>\n",
       "      <td>0.997928</td>\n",
       "    </tr>\n",
       "    <tr>\n",
       "      <th>23</th>\n",
       "      <td>V19</td>\n",
       "      <td>V28</td>\n",
       "      <td>V9</td>\n",
       "      <td>V4</td>\n",
       "      <td>V16</td>\n",
       "      <td>V1</td>\n",
       "      <td>V20</td>\n",
       "      <td>V17</td>\n",
       "      <td>V7</td>\n",
       "      <td>Scaled_Amount</td>\n",
       "      <td>0.996243</td>\n",
       "    </tr>\n",
       "    <tr>\n",
       "      <th>24</th>\n",
       "      <td>V18</td>\n",
       "      <td>V23</td>\n",
       "      <td>V21</td>\n",
       "      <td>V11</td>\n",
       "      <td>V20</td>\n",
       "      <td>Scaled_Time</td>\n",
       "      <td>V2</td>\n",
       "      <td>V27</td>\n",
       "      <td>V1</td>\n",
       "      <td>V17</td>\n",
       "      <td>0.994277</td>\n",
       "    </tr>\n",
       "    <tr>\n",
       "      <th>25</th>\n",
       "      <td>V8</td>\n",
       "      <td>Scaled_Time</td>\n",
       "      <td>V27</td>\n",
       "      <td>V1</td>\n",
       "      <td>V12</td>\n",
       "      <td>V24</td>\n",
       "      <td>V13</td>\n",
       "      <td>V19</td>\n",
       "      <td>V18</td>\n",
       "      <td>V5</td>\n",
       "      <td>0.996068</td>\n",
       "    </tr>\n",
       "    <tr>\n",
       "      <th>26</th>\n",
       "      <td>V18</td>\n",
       "      <td>V24</td>\n",
       "      <td>V27</td>\n",
       "      <td>V3</td>\n",
       "      <td>V5</td>\n",
       "      <td>V4</td>\n",
       "      <td>V15</td>\n",
       "      <td>V8</td>\n",
       "      <td>V12</td>\n",
       "      <td>V16</td>\n",
       "      <td>0.996805</td>\n",
       "    </tr>\n",
       "    <tr>\n",
       "      <th>27</th>\n",
       "      <td>V10</td>\n",
       "      <td>Scaled_Amount</td>\n",
       "      <td>V22</td>\n",
       "      <td>V13</td>\n",
       "      <td>V20</td>\n",
       "      <td>V24</td>\n",
       "      <td>V12</td>\n",
       "      <td>V7</td>\n",
       "      <td>V6</td>\n",
       "      <td>V28</td>\n",
       "      <td>0.997454</td>\n",
       "    </tr>\n",
       "    <tr>\n",
       "      <th>28</th>\n",
       "      <td>V25</td>\n",
       "      <td>Scaled_Amount</td>\n",
       "      <td>V15</td>\n",
       "      <td>V1</td>\n",
       "      <td>V6</td>\n",
       "      <td>V11</td>\n",
       "      <td>V22</td>\n",
       "      <td>V8</td>\n",
       "      <td>V20</td>\n",
       "      <td>V14</td>\n",
       "      <td>0.994540</td>\n",
       "    </tr>\n",
       "    <tr>\n",
       "      <th>29</th>\n",
       "      <td>V24</td>\n",
       "      <td>V6</td>\n",
       "      <td>V19</td>\n",
       "      <td>V22</td>\n",
       "      <td>V7</td>\n",
       "      <td>V23</td>\n",
       "      <td>V2</td>\n",
       "      <td>V25</td>\n",
       "      <td>V27</td>\n",
       "      <td>V14</td>\n",
       "      <td>0.995541</td>\n",
       "    </tr>\n",
       "    <tr>\n",
       "      <th>...</th>\n",
       "      <td>...</td>\n",
       "      <td>...</td>\n",
       "      <td>...</td>\n",
       "      <td>...</td>\n",
       "      <td>...</td>\n",
       "      <td>...</td>\n",
       "      <td>...</td>\n",
       "      <td>...</td>\n",
       "      <td>...</td>\n",
       "      <td>...</td>\n",
       "      <td>...</td>\n",
       "    </tr>\n",
       "    <tr>\n",
       "      <th>70</th>\n",
       "      <td>V3</td>\n",
       "      <td>V4</td>\n",
       "      <td>V8</td>\n",
       "      <td>V21</td>\n",
       "      <td>V20</td>\n",
       "      <td>V6</td>\n",
       "      <td>V25</td>\n",
       "      <td>V18</td>\n",
       "      <td>V27</td>\n",
       "      <td>V1</td>\n",
       "      <td>0.989168</td>\n",
       "    </tr>\n",
       "    <tr>\n",
       "      <th>71</th>\n",
       "      <td>V1</td>\n",
       "      <td>V13</td>\n",
       "      <td>V2</td>\n",
       "      <td>V21</td>\n",
       "      <td>V9</td>\n",
       "      <td>V16</td>\n",
       "      <td>Scaled_Amount</td>\n",
       "      <td>V26</td>\n",
       "      <td>V12</td>\n",
       "      <td>V17</td>\n",
       "      <td>0.997788</td>\n",
       "    </tr>\n",
       "    <tr>\n",
       "      <th>72</th>\n",
       "      <td>V16</td>\n",
       "      <td>V4</td>\n",
       "      <td>V14</td>\n",
       "      <td>V11</td>\n",
       "      <td>V24</td>\n",
       "      <td>V27</td>\n",
       "      <td>V26</td>\n",
       "      <td>V19</td>\n",
       "      <td>V23</td>\n",
       "      <td>V5</td>\n",
       "      <td>0.994207</td>\n",
       "    </tr>\n",
       "    <tr>\n",
       "      <th>73</th>\n",
       "      <td>Scaled_Time</td>\n",
       "      <td>V25</td>\n",
       "      <td>V6</td>\n",
       "      <td>V21</td>\n",
       "      <td>V10</td>\n",
       "      <td>Scaled_Amount</td>\n",
       "      <td>V26</td>\n",
       "      <td>V13</td>\n",
       "      <td>V12</td>\n",
       "      <td>V8</td>\n",
       "      <td>0.997454</td>\n",
       "    </tr>\n",
       "    <tr>\n",
       "      <th>74</th>\n",
       "      <td>V23</td>\n",
       "      <td>V2</td>\n",
       "      <td>V13</td>\n",
       "      <td>Scaled_Amount</td>\n",
       "      <td>V24</td>\n",
       "      <td>V21</td>\n",
       "      <td>V18</td>\n",
       "      <td>V14</td>\n",
       "      <td>V3</td>\n",
       "      <td>V7</td>\n",
       "      <td>0.995664</td>\n",
       "    </tr>\n",
       "    <tr>\n",
       "      <th>75</th>\n",
       "      <td>V9</td>\n",
       "      <td>V13</td>\n",
       "      <td>V11</td>\n",
       "      <td>V20</td>\n",
       "      <td>V24</td>\n",
       "      <td>V15</td>\n",
       "      <td>V27</td>\n",
       "      <td>V5</td>\n",
       "      <td>Scaled_Time</td>\n",
       "      <td>V14</td>\n",
       "      <td>0.996629</td>\n",
       "    </tr>\n",
       "    <tr>\n",
       "      <th>76</th>\n",
       "      <td>Scaled_Amount</td>\n",
       "      <td>V12</td>\n",
       "      <td>V8</td>\n",
       "      <td>V27</td>\n",
       "      <td>V28</td>\n",
       "      <td>V15</td>\n",
       "      <td>V18</td>\n",
       "      <td>V23</td>\n",
       "      <td>V10</td>\n",
       "      <td>V16</td>\n",
       "      <td>0.997402</td>\n",
       "    </tr>\n",
       "    <tr>\n",
       "      <th>77</th>\n",
       "      <td>V3</td>\n",
       "      <td>V18</td>\n",
       "      <td>V11</td>\n",
       "      <td>V2</td>\n",
       "      <td>V21</td>\n",
       "      <td>V24</td>\n",
       "      <td>V13</td>\n",
       "      <td>V17</td>\n",
       "      <td>V16</td>\n",
       "      <td>V5</td>\n",
       "      <td>0.994646</td>\n",
       "    </tr>\n",
       "    <tr>\n",
       "      <th>78</th>\n",
       "      <td>V15</td>\n",
       "      <td>V12</td>\n",
       "      <td>V21</td>\n",
       "      <td>V7</td>\n",
       "      <td>V19</td>\n",
       "      <td>V23</td>\n",
       "      <td>V14</td>\n",
       "      <td>V25</td>\n",
       "      <td>V13</td>\n",
       "      <td>V26</td>\n",
       "      <td>0.995278</td>\n",
       "    </tr>\n",
       "    <tr>\n",
       "      <th>79</th>\n",
       "      <td>V27</td>\n",
       "      <td>V7</td>\n",
       "      <td>V26</td>\n",
       "      <td>V15</td>\n",
       "      <td>V18</td>\n",
       "      <td>V11</td>\n",
       "      <td>V16</td>\n",
       "      <td>V21</td>\n",
       "      <td>Scaled_Amount</td>\n",
       "      <td>V4</td>\n",
       "      <td>0.995629</td>\n",
       "    </tr>\n",
       "    <tr>\n",
       "      <th>80</th>\n",
       "      <td>V25</td>\n",
       "      <td>V21</td>\n",
       "      <td>V20</td>\n",
       "      <td>Scaled_Time</td>\n",
       "      <td>V13</td>\n",
       "      <td>V19</td>\n",
       "      <td>Scaled_Amount</td>\n",
       "      <td>V11</td>\n",
       "      <td>V8</td>\n",
       "      <td>V24</td>\n",
       "      <td>0.993715</td>\n",
       "    </tr>\n",
       "    <tr>\n",
       "      <th>81</th>\n",
       "      <td>V16</td>\n",
       "      <td>V8</td>\n",
       "      <td>V9</td>\n",
       "      <td>V20</td>\n",
       "      <td>V2</td>\n",
       "      <td>V14</td>\n",
       "      <td>V24</td>\n",
       "      <td>V26</td>\n",
       "      <td>Scaled_Time</td>\n",
       "      <td>V6</td>\n",
       "      <td>0.996366</td>\n",
       "    </tr>\n",
       "    <tr>\n",
       "      <th>82</th>\n",
       "      <td>V22</td>\n",
       "      <td>V15</td>\n",
       "      <td>V11</td>\n",
       "      <td>V25</td>\n",
       "      <td>V20</td>\n",
       "      <td>V14</td>\n",
       "      <td>V13</td>\n",
       "      <td>Scaled_Amount</td>\n",
       "      <td>V23</td>\n",
       "      <td>V21</td>\n",
       "      <td>0.994277</td>\n",
       "    </tr>\n",
       "    <tr>\n",
       "      <th>83</th>\n",
       "      <td>V14</td>\n",
       "      <td>V3</td>\n",
       "      <td>V10</td>\n",
       "      <td>V24</td>\n",
       "      <td>V21</td>\n",
       "      <td>V23</td>\n",
       "      <td>V25</td>\n",
       "      <td>V4</td>\n",
       "      <td>V6</td>\n",
       "      <td>V26</td>\n",
       "      <td>0.993873</td>\n",
       "    </tr>\n",
       "    <tr>\n",
       "      <th>84</th>\n",
       "      <td>V22</td>\n",
       "      <td>V2</td>\n",
       "      <td>V19</td>\n",
       "      <td>V24</td>\n",
       "      <td>V17</td>\n",
       "      <td>V27</td>\n",
       "      <td>V11</td>\n",
       "      <td>V20</td>\n",
       "      <td>V1</td>\n",
       "      <td>V12</td>\n",
       "      <td>0.997016</td>\n",
       "    </tr>\n",
       "    <tr>\n",
       "      <th>85</th>\n",
       "      <td>V4</td>\n",
       "      <td>V21</td>\n",
       "      <td>V6</td>\n",
       "      <td>V28</td>\n",
       "      <td>V15</td>\n",
       "      <td>V10</td>\n",
       "      <td>V8</td>\n",
       "      <td>V7</td>\n",
       "      <td>V25</td>\n",
       "      <td>V22</td>\n",
       "      <td>0.995629</td>\n",
       "    </tr>\n",
       "    <tr>\n",
       "      <th>86</th>\n",
       "      <td>V9</td>\n",
       "      <td>V8</td>\n",
       "      <td>V12</td>\n",
       "      <td>V23</td>\n",
       "      <td>V18</td>\n",
       "      <td>V21</td>\n",
       "      <td>V17</td>\n",
       "      <td>V24</td>\n",
       "      <td>V26</td>\n",
       "      <td>V11</td>\n",
       "      <td>0.996963</td>\n",
       "    </tr>\n",
       "    <tr>\n",
       "      <th>87</th>\n",
       "      <td>V3</td>\n",
       "      <td>V19</td>\n",
       "      <td>Scaled_Amount</td>\n",
       "      <td>V13</td>\n",
       "      <td>V24</td>\n",
       "      <td>V21</td>\n",
       "      <td>V17</td>\n",
       "      <td>V5</td>\n",
       "      <td>V25</td>\n",
       "      <td>V1</td>\n",
       "      <td>0.996664</td>\n",
       "    </tr>\n",
       "    <tr>\n",
       "      <th>88</th>\n",
       "      <td>V3</td>\n",
       "      <td>V26</td>\n",
       "      <td>V2</td>\n",
       "      <td>V5</td>\n",
       "      <td>V7</td>\n",
       "      <td>V18</td>\n",
       "      <td>V17</td>\n",
       "      <td>V27</td>\n",
       "      <td>V10</td>\n",
       "      <td>V8</td>\n",
       "      <td>0.995313</td>\n",
       "    </tr>\n",
       "    <tr>\n",
       "      <th>89</th>\n",
       "      <td>V3</td>\n",
       "      <td>V17</td>\n",
       "      <td>V23</td>\n",
       "      <td>V12</td>\n",
       "      <td>V26</td>\n",
       "      <td>V8</td>\n",
       "      <td>V2</td>\n",
       "      <td>V7</td>\n",
       "      <td>V1</td>\n",
       "      <td>Scaled_Time</td>\n",
       "      <td>0.997858</td>\n",
       "    </tr>\n",
       "    <tr>\n",
       "      <th>90</th>\n",
       "      <td>V24</td>\n",
       "      <td>V28</td>\n",
       "      <td>V7</td>\n",
       "      <td>V3</td>\n",
       "      <td>V20</td>\n",
       "      <td>V14</td>\n",
       "      <td>V6</td>\n",
       "      <td>V23</td>\n",
       "      <td>V4</td>\n",
       "      <td>V27</td>\n",
       "      <td>0.993698</td>\n",
       "    </tr>\n",
       "    <tr>\n",
       "      <th>91</th>\n",
       "      <td>V11</td>\n",
       "      <td>V22</td>\n",
       "      <td>V4</td>\n",
       "      <td>V25</td>\n",
       "      <td>Scaled_Amount</td>\n",
       "      <td>V1</td>\n",
       "      <td>V18</td>\n",
       "      <td>V7</td>\n",
       "      <td>V10</td>\n",
       "      <td>V13</td>\n",
       "      <td>0.996928</td>\n",
       "    </tr>\n",
       "    <tr>\n",
       "      <th>92</th>\n",
       "      <td>V20</td>\n",
       "      <td>V11</td>\n",
       "      <td>V3</td>\n",
       "      <td>V28</td>\n",
       "      <td>V22</td>\n",
       "      <td>V10</td>\n",
       "      <td>V24</td>\n",
       "      <td>V2</td>\n",
       "      <td>V14</td>\n",
       "      <td>V6</td>\n",
       "      <td>0.995471</td>\n",
       "    </tr>\n",
       "    <tr>\n",
       "      <th>93</th>\n",
       "      <td>V28</td>\n",
       "      <td>Scaled_Amount</td>\n",
       "      <td>V9</td>\n",
       "      <td>V4</td>\n",
       "      <td>Scaled_Time</td>\n",
       "      <td>V5</td>\n",
       "      <td>V26</td>\n",
       "      <td>V23</td>\n",
       "      <td>V11</td>\n",
       "      <td>V20</td>\n",
       "      <td>0.992995</td>\n",
       "    </tr>\n",
       "    <tr>\n",
       "      <th>94</th>\n",
       "      <td>V4</td>\n",
       "      <td>V21</td>\n",
       "      <td>V28</td>\n",
       "      <td>V8</td>\n",
       "      <td>V15</td>\n",
       "      <td>V9</td>\n",
       "      <td>V20</td>\n",
       "      <td>Scaled_Time</td>\n",
       "      <td>V13</td>\n",
       "      <td>V6</td>\n",
       "      <td>0.980829</td>\n",
       "    </tr>\n",
       "    <tr>\n",
       "      <th>95</th>\n",
       "      <td>V28</td>\n",
       "      <td>V26</td>\n",
       "      <td>V20</td>\n",
       "      <td>V11</td>\n",
       "      <td>V7</td>\n",
       "      <td>V5</td>\n",
       "      <td>V8</td>\n",
       "      <td>V24</td>\n",
       "      <td>V18</td>\n",
       "      <td>V10</td>\n",
       "      <td>0.994891</td>\n",
       "    </tr>\n",
       "    <tr>\n",
       "      <th>96</th>\n",
       "      <td>V19</td>\n",
       "      <td>V11</td>\n",
       "      <td>V22</td>\n",
       "      <td>V26</td>\n",
       "      <td>Scaled_Time</td>\n",
       "      <td>V10</td>\n",
       "      <td>Scaled_Amount</td>\n",
       "      <td>V28</td>\n",
       "      <td>V15</td>\n",
       "      <td>V23</td>\n",
       "      <td>0.995242</td>\n",
       "    </tr>\n",
       "    <tr>\n",
       "      <th>97</th>\n",
       "      <td>V17</td>\n",
       "      <td>V18</td>\n",
       "      <td>V26</td>\n",
       "      <td>V23</td>\n",
       "      <td>V27</td>\n",
       "      <td>V20</td>\n",
       "      <td>V1</td>\n",
       "      <td>V14</td>\n",
       "      <td>V6</td>\n",
       "      <td>V2</td>\n",
       "      <td>0.995418</td>\n",
       "    </tr>\n",
       "    <tr>\n",
       "      <th>98</th>\n",
       "      <td>V18</td>\n",
       "      <td>V24</td>\n",
       "      <td>V3</td>\n",
       "      <td>V2</td>\n",
       "      <td>V11</td>\n",
       "      <td>V21</td>\n",
       "      <td>V6</td>\n",
       "      <td>V14</td>\n",
       "      <td>V26</td>\n",
       "      <td>V16</td>\n",
       "      <td>0.996331</td>\n",
       "    </tr>\n",
       "    <tr>\n",
       "      <th>99</th>\n",
       "      <td>V3</td>\n",
       "      <td>V10</td>\n",
       "      <td>V5</td>\n",
       "      <td>V23</td>\n",
       "      <td>V18</td>\n",
       "      <td>V25</td>\n",
       "      <td>V2</td>\n",
       "      <td>V1</td>\n",
       "      <td>V17</td>\n",
       "      <td>V12</td>\n",
       "      <td>0.997314</td>\n",
       "    </tr>\n",
       "  </tbody>\n",
       "</table>\n",
       "<p>100 rows × 11 columns</p>\n",
       "</div>"
      ],
      "text/plain": [
       "        feature_0      feature_1      feature_2      feature_3      feature_4  \\\n",
       "0             V28            V19             V5             V1            V20   \n",
       "1              V7            V28             V5             V2             V6   \n",
       "2             V14             V6             V4            V15             V9   \n",
       "3             V22            V16             V2            V18            V27   \n",
       "4             V26  Scaled_Amount            V12             V5             V1   \n",
       "5              V3            V13            V22            V11            V10   \n",
       "6             V28             V7  Scaled_Amount            V19            V18   \n",
       "7             V17            V15             V2             V9             V6   \n",
       "8             V22             V8            V25            V14            V24   \n",
       "9             V11             V5            V21            V12            V22   \n",
       "10            V12            V13            V19            V27            V10   \n",
       "11             V8            V21             V6            V18             V5   \n",
       "12            V27             V7            V13  Scaled_Amount             V3   \n",
       "13            V27    Scaled_Time            V21             V9             V1   \n",
       "14  Scaled_Amount             V1            V15            V20             V8   \n",
       "15            V15             V4            V21             V8            V24   \n",
       "16            V27            V25            V28             V3            V13   \n",
       "17            V16            V24            V27            V10            V17   \n",
       "18            V10            V23            V26            V14             V9   \n",
       "19            V15             V7            V28            V12  Scaled_Amount   \n",
       "20             V7  Scaled_Amount            V12            V11             V4   \n",
       "21            V21            V24             V5            V14             V2   \n",
       "22             V7            V13            V11             V9            V12   \n",
       "23            V19            V28             V9             V4            V16   \n",
       "24            V18            V23            V21            V11            V20   \n",
       "25             V8    Scaled_Time            V27             V1            V12   \n",
       "26            V18            V24            V27             V3             V5   \n",
       "27            V10  Scaled_Amount            V22            V13            V20   \n",
       "28            V25  Scaled_Amount            V15             V1             V6   \n",
       "29            V24             V6            V19            V22             V7   \n",
       "..            ...            ...            ...            ...            ...   \n",
       "70             V3             V4             V8            V21            V20   \n",
       "71             V1            V13             V2            V21             V9   \n",
       "72            V16             V4            V14            V11            V24   \n",
       "73    Scaled_Time            V25             V6            V21            V10   \n",
       "74            V23             V2            V13  Scaled_Amount            V24   \n",
       "75             V9            V13            V11            V20            V24   \n",
       "76  Scaled_Amount            V12             V8            V27            V28   \n",
       "77             V3            V18            V11             V2            V21   \n",
       "78            V15            V12            V21             V7            V19   \n",
       "79            V27             V7            V26            V15            V18   \n",
       "80            V25            V21            V20    Scaled_Time            V13   \n",
       "81            V16             V8             V9            V20             V2   \n",
       "82            V22            V15            V11            V25            V20   \n",
       "83            V14             V3            V10            V24            V21   \n",
       "84            V22             V2            V19            V24            V17   \n",
       "85             V4            V21             V6            V28            V15   \n",
       "86             V9             V8            V12            V23            V18   \n",
       "87             V3            V19  Scaled_Amount            V13            V24   \n",
       "88             V3            V26             V2             V5             V7   \n",
       "89             V3            V17            V23            V12            V26   \n",
       "90            V24            V28             V7             V3            V20   \n",
       "91            V11            V22             V4            V25  Scaled_Amount   \n",
       "92            V20            V11             V3            V28            V22   \n",
       "93            V28  Scaled_Amount             V9             V4    Scaled_Time   \n",
       "94             V4            V21            V28             V8            V15   \n",
       "95            V28            V26            V20            V11             V7   \n",
       "96            V19            V11            V22            V26    Scaled_Time   \n",
       "97            V17            V18            V26            V23            V27   \n",
       "98            V18            V24             V3             V2            V11   \n",
       "99             V3            V10             V5            V23            V18   \n",
       "\n",
       "        feature_5      feature_6      feature_7      feature_8      feature_9  \\\n",
       "0             V12             V2  Scaled_Amount            V14            V25   \n",
       "1              V9            V22            V19            V23            V13   \n",
       "2             V19            V27            V21            V25            V16   \n",
       "3              V1            V23            V13            V12            V17   \n",
       "4              V8            V28             V6    Scaled_Time             V3   \n",
       "5             V24            V28            V23            V25            V20   \n",
       "6             V11            V27    Scaled_Time            V12             V5   \n",
       "7             V14             V4            V10    Scaled_Time            V12   \n",
       "8              V9            V20             V3            V19  Scaled_Amount   \n",
       "9     Scaled_Time            V20             V7             V6            V28   \n",
       "10            V18             V5            V11  Scaled_Amount             V4   \n",
       "11            V24            V13            V10            V15             V4   \n",
       "12             V8            V14            V15    Scaled_Time            V19   \n",
       "13            V16            V26            V25             V3            V28   \n",
       "14            V25            V13            V10            V11            V18   \n",
       "15             V3            V18             V1             V7             V6   \n",
       "16  Scaled_Amount            V18            V21            V26             V8   \n",
       "17            V22            V23    Scaled_Time            V25  Scaled_Amount   \n",
       "18            V19  Scaled_Amount            V22             V2             V1   \n",
       "19             V1            V25             V9            V14            V13   \n",
       "20             V1            V28            V25            V24            V18   \n",
       "21            V20            V10            V23            V26            V17   \n",
       "22    Scaled_Time            V27            V20            V22            V10   \n",
       "23             V1            V20            V17             V7  Scaled_Amount   \n",
       "24    Scaled_Time             V2            V27             V1            V17   \n",
       "25            V24            V13            V19            V18             V5   \n",
       "26             V4            V15             V8            V12            V16   \n",
       "27            V24            V12             V7             V6            V28   \n",
       "28            V11            V22             V8            V20            V14   \n",
       "29            V23             V2            V25            V27            V14   \n",
       "..            ...            ...            ...            ...            ...   \n",
       "70             V6            V25            V18            V27             V1   \n",
       "71            V16  Scaled_Amount            V26            V12            V17   \n",
       "72            V27            V26            V19            V23             V5   \n",
       "73  Scaled_Amount            V26            V13            V12             V8   \n",
       "74            V21            V18            V14             V3             V7   \n",
       "75            V15            V27             V5    Scaled_Time            V14   \n",
       "76            V15            V18            V23            V10            V16   \n",
       "77            V24            V13            V17            V16             V5   \n",
       "78            V23            V14            V25            V13            V26   \n",
       "79            V11            V16            V21  Scaled_Amount             V4   \n",
       "80            V19  Scaled_Amount            V11             V8            V24   \n",
       "81            V14            V24            V26    Scaled_Time             V6   \n",
       "82            V14            V13  Scaled_Amount            V23            V21   \n",
       "83            V23            V25             V4             V6            V26   \n",
       "84            V27            V11            V20             V1            V12   \n",
       "85            V10             V8             V7            V25            V22   \n",
       "86            V21            V17            V24            V26            V11   \n",
       "87            V21            V17             V5            V25             V1   \n",
       "88            V18            V17            V27            V10             V8   \n",
       "89             V8             V2             V7             V1    Scaled_Time   \n",
       "90            V14             V6            V23             V4            V27   \n",
       "91             V1            V18             V7            V10            V13   \n",
       "92            V10            V24             V2            V14             V6   \n",
       "93             V5            V26            V23            V11            V20   \n",
       "94             V9            V20    Scaled_Time            V13             V6   \n",
       "95             V5             V8            V24            V18            V10   \n",
       "96            V10  Scaled_Amount            V28            V15            V23   \n",
       "97            V20             V1            V14             V6             V2   \n",
       "98            V21             V6            V14            V26            V16   \n",
       "99            V25             V2             V1            V17            V12   \n",
       "\n",
       "    accuracy  \n",
       "0   0.994224  \n",
       "1   0.989554  \n",
       "2   0.994259  \n",
       "3   0.996893  \n",
       "4   0.997068  \n",
       "5   0.995120  \n",
       "6   0.997296  \n",
       "7   0.994224  \n",
       "8   0.995629  \n",
       "9   0.997068  \n",
       "10  0.997806  \n",
       "11  0.995839  \n",
       "12  0.995014  \n",
       "13  0.994663  \n",
       "14  0.995594  \n",
       "15  0.989502  \n",
       "16  0.989361  \n",
       "17  0.995523  \n",
       "18  0.995541  \n",
       "19  0.995102  \n",
       "20  0.996735  \n",
       "21  0.996577  \n",
       "22  0.997928  \n",
       "23  0.996243  \n",
       "24  0.994277  \n",
       "25  0.996068  \n",
       "26  0.996805  \n",
       "27  0.997454  \n",
       "28  0.994540  \n",
       "29  0.995541  \n",
       "..       ...  \n",
       "70  0.989168  \n",
       "71  0.997788  \n",
       "72  0.994207  \n",
       "73  0.997454  \n",
       "74  0.995664  \n",
       "75  0.996629  \n",
       "76  0.997402  \n",
       "77  0.994646  \n",
       "78  0.995278  \n",
       "79  0.995629  \n",
       "80  0.993715  \n",
       "81  0.996366  \n",
       "82  0.994277  \n",
       "83  0.993873  \n",
       "84  0.997016  \n",
       "85  0.995629  \n",
       "86  0.996963  \n",
       "87  0.996664  \n",
       "88  0.995313  \n",
       "89  0.997858  \n",
       "90  0.993698  \n",
       "91  0.996928  \n",
       "92  0.995471  \n",
       "93  0.992995  \n",
       "94  0.980829  \n",
       "95  0.994891  \n",
       "96  0.995242  \n",
       "97  0.995418  \n",
       "98  0.996331  \n",
       "99  0.997314  \n",
       "\n",
       "[100 rows x 11 columns]"
      ]
     },
     "execution_count": 15,
     "metadata": {},
     "output_type": "execute_result"
    }
   ],
   "source": [
    "permutation_test_df.reset_index(drop=True)\n"
   ]
  },
  {
   "cell_type": "code",
   "execution_count": 16,
   "metadata": {},
   "outputs": [],
   "source": [
    "permutation_test_df.sort_values(\"accuracy\", ascending=False, inplace=True)"
   ]
  },
  {
   "cell_type": "code",
   "execution_count": 17,
   "metadata": {},
   "outputs": [],
   "source": [
    "permutation_test_df.to_csv(\"PermutationTest (with OOB_10 Features).csv\")"
   ]
  },
  {
   "cell_type": "markdown",
   "metadata": {},
   "source": [
    "# 3. Compare Results"
   ]
  },
  {
   "cell_type": "code",
   "execution_count": 3,
   "metadata": {},
   "outputs": [],
   "source": [
    "OOB_10=pd.read_csv(\"../7. Modeling - DecisionTree AdaBoost/AdaBoost (AllFeatures - OOB - 10).csv\", index_col=0)\n",
    "df_permutation_Test = pd.read_csv(\"PermutationTest (with OOB_10 Features).csv\", index_col=0)"
   ]
  },
  {
   "cell_type": "code",
   "execution_count": 4,
   "metadata": {
    "scrolled": true
   },
   "outputs": [
    {
     "data": {
      "text/html": [
       "<div>\n",
       "<style scoped>\n",
       "    .dataframe tbody tr th:only-of-type {\n",
       "        vertical-align: middle;\n",
       "    }\n",
       "\n",
       "    .dataframe tbody tr th {\n",
       "        vertical-align: top;\n",
       "    }\n",
       "\n",
       "    .dataframe thead th {\n",
       "        text-align: right;\n",
       "    }\n",
       "</style>\n",
       "<table border=\"1\" class=\"dataframe\">\n",
       "  <thead>\n",
       "    <tr style=\"text-align: right;\">\n",
       "      <th></th>\n",
       "      <th>feature_0</th>\n",
       "      <th>feature_1</th>\n",
       "      <th>feature_2</th>\n",
       "      <th>feature_3</th>\n",
       "      <th>feature_4</th>\n",
       "      <th>feature_5</th>\n",
       "      <th>feature_6</th>\n",
       "      <th>feature_7</th>\n",
       "      <th>feature_8</th>\n",
       "      <th>feature_9</th>\n",
       "      <th>accuracy</th>\n",
       "    </tr>\n",
       "  </thead>\n",
       "  <tbody>\n",
       "    <tr>\n",
       "      <th>44</th>\n",
       "      <td>V7</td>\n",
       "      <td>V13</td>\n",
       "      <td>V11</td>\n",
       "      <td>V9</td>\n",
       "      <td>V12</td>\n",
       "      <td>Scaled_Time</td>\n",
       "      <td>V27</td>\n",
       "      <td>V20</td>\n",
       "      <td>V22</td>\n",
       "      <td>V10</td>\n",
       "      <td>0.997928</td>\n",
       "    </tr>\n",
       "    <tr>\n",
       "      <th>80</th>\n",
       "      <td>V7</td>\n",
       "      <td>V23</td>\n",
       "      <td>V6</td>\n",
       "      <td>V9</td>\n",
       "      <td>V28</td>\n",
       "      <td>V21</td>\n",
       "      <td>V20</td>\n",
       "      <td>V10</td>\n",
       "      <td>V12</td>\n",
       "      <td>V19</td>\n",
       "      <td>0.997928</td>\n",
       "    </tr>\n",
       "  </tbody>\n",
       "</table>\n",
       "</div>"
      ],
      "text/plain": [
       "   feature_0 feature_1 feature_2 feature_3 feature_4    feature_5 feature_6  \\\n",
       "44        V7       V13       V11        V9       V12  Scaled_Time       V27   \n",
       "80        V7       V23        V6        V9       V28          V21       V20   \n",
       "\n",
       "   feature_7 feature_8 feature_9  accuracy  \n",
       "44       V20       V22       V10  0.997928  \n",
       "80       V10       V12       V19  0.997928  "
      ]
     },
     "execution_count": 4,
     "metadata": {},
     "output_type": "execute_result"
    }
   ],
   "source": [
    "df_permutation_Test[df_permutation_Test['accuracy'] == df_permutation_Test['accuracy'].max()]"
   ]
  },
  {
   "cell_type": "code",
   "execution_count": 20,
   "metadata": {
    "scrolled": false
   },
   "outputs": [
    {
     "data": {
      "text/html": [
       "<div>\n",
       "<style scoped>\n",
       "    .dataframe tbody tr th:only-of-type {\n",
       "        vertical-align: middle;\n",
       "    }\n",
       "\n",
       "    .dataframe tbody tr th {\n",
       "        vertical-align: top;\n",
       "    }\n",
       "\n",
       "    .dataframe thead th {\n",
       "        text-align: right;\n",
       "    }\n",
       "</style>\n",
       "<table border=\"1\" class=\"dataframe\">\n",
       "  <thead>\n",
       "    <tr style=\"text-align: right;\">\n",
       "      <th></th>\n",
       "      <th>OOB</th>\n",
       "    </tr>\n",
       "    <tr>\n",
       "      <th>Name</th>\n",
       "      <th></th>\n",
       "    </tr>\n",
       "  </thead>\n",
       "  <tbody>\n",
       "    <tr>\n",
       "      <th>V14</th>\n",
       "      <td>0.224588</td>\n",
       "    </tr>\n",
       "    <tr>\n",
       "      <th>V4</th>\n",
       "      <td>0.128590</td>\n",
       "    </tr>\n",
       "    <tr>\n",
       "      <th>V8</th>\n",
       "      <td>0.070321</td>\n",
       "    </tr>\n",
       "    <tr>\n",
       "      <th>V22</th>\n",
       "      <td>0.066843</td>\n",
       "    </tr>\n",
       "    <tr>\n",
       "      <th>Scaled_Time</th>\n",
       "      <td>0.063753</td>\n",
       "    </tr>\n",
       "    <tr>\n",
       "      <th>V17</th>\n",
       "      <td>0.063116</td>\n",
       "    </tr>\n",
       "    <tr>\n",
       "      <th>V19</th>\n",
       "      <td>0.052250</td>\n",
       "    </tr>\n",
       "    <tr>\n",
       "      <th>V20</th>\n",
       "      <td>0.051026</td>\n",
       "    </tr>\n",
       "    <tr>\n",
       "      <th>Scaled_Amount</th>\n",
       "      <td>0.047106</td>\n",
       "    </tr>\n",
       "    <tr>\n",
       "      <th>V7</th>\n",
       "      <td>0.044566</td>\n",
       "    </tr>\n",
       "  </tbody>\n",
       "</table>\n",
       "</div>"
      ],
      "text/plain": [
       "                    OOB\n",
       "Name                   \n",
       "V14            0.224588\n",
       "V4             0.128590\n",
       "V8             0.070321\n",
       "V22            0.066843\n",
       "Scaled_Time    0.063753\n",
       "V17            0.063116\n",
       "V19            0.052250\n",
       "V20            0.051026\n",
       "Scaled_Amount  0.047106\n",
       "V7             0.044566"
      ]
     },
     "execution_count": 20,
     "metadata": {},
     "output_type": "execute_result"
    }
   ],
   "source": [
    "OOB_10"
   ]
  },
  {
   "cell_type": "code",
   "execution_count": 21,
   "metadata": {},
   "outputs": [
    {
     "data": {
      "text/plain": [
       "['V7', 'V23', 'V6', 'V9', 'V28', 'V21', 'V20', 'V10', 'V12', 'V19']"
      ]
     },
     "execution_count": 21,
     "metadata": {},
     "output_type": "execute_result"
    }
   ],
   "source": [
    "feature_permutationTest = df_permutation_Test[df_permutation_Test['accuracy'] == df_permutation_Test['accuracy'].max()].values\n",
    "for e in feature_permutationTest:\n",
    "    result_feature_perm = list(e[:10])\n",
    "result_feature_perm"
   ]
  },
  {
   "cell_type": "code",
   "execution_count": 22,
   "metadata": {
    "scrolled": true
   },
   "outputs": [
    {
     "data": {
      "text/plain": [
       "['V14',\n",
       " 'V4',\n",
       " 'V8',\n",
       " 'V22',\n",
       " 'Scaled_Time',\n",
       " 'V17',\n",
       " 'V19',\n",
       " 'V20',\n",
       " 'Scaled_Amount',\n",
       " 'V7']"
      ]
     },
     "execution_count": 22,
     "metadata": {},
     "output_type": "execute_result"
    }
   ],
   "source": [
    "feature_OOB10 = list(OOB_10.index)\n",
    "feature_OOB10"
   ]
  },
  {
   "cell_type": "code",
   "execution_count": 23,
   "metadata": {},
   "outputs": [],
   "source": [
    "\n",
    "def intersection(lst1, lst2): \n",
    "    lst3 = [value for value in lst1 if value in lst2] \n",
    "    return lst3"
   ]
  },
  {
   "cell_type": "code",
   "execution_count": 24,
   "metadata": {},
   "outputs": [],
   "source": [
    "intersectionFeatures= intersection(result_feature_perm,feature_OOB10)"
   ]
  },
  {
   "cell_type": "code",
   "execution_count": 25,
   "metadata": {},
   "outputs": [],
   "source": [
    "intersectionFeaturesDF = pd.DataFrame(intersectionFeatures, columns=['Features Intersection'])"
   ]
  },
  {
   "cell_type": "code",
   "execution_count": 26,
   "metadata": {
    "scrolled": true
   },
   "outputs": [
    {
     "data": {
      "text/html": [
       "<div>\n",
       "<style scoped>\n",
       "    .dataframe tbody tr th:only-of-type {\n",
       "        vertical-align: middle;\n",
       "    }\n",
       "\n",
       "    .dataframe tbody tr th {\n",
       "        vertical-align: top;\n",
       "    }\n",
       "\n",
       "    .dataframe thead th {\n",
       "        text-align: right;\n",
       "    }\n",
       "</style>\n",
       "<table border=\"1\" class=\"dataframe\">\n",
       "  <thead>\n",
       "    <tr style=\"text-align: right;\">\n",
       "      <th></th>\n",
       "      <th>Features Intersection</th>\n",
       "    </tr>\n",
       "  </thead>\n",
       "  <tbody>\n",
       "    <tr>\n",
       "      <th>0</th>\n",
       "      <td>V7</td>\n",
       "    </tr>\n",
       "    <tr>\n",
       "      <th>1</th>\n",
       "      <td>V20</td>\n",
       "    </tr>\n",
       "    <tr>\n",
       "      <th>2</th>\n",
       "      <td>V19</td>\n",
       "    </tr>\n",
       "  </tbody>\n",
       "</table>\n",
       "</div>"
      ],
      "text/plain": [
       "  Features Intersection\n",
       "0                    V7\n",
       "1                   V20\n",
       "2                   V19"
      ]
     },
     "execution_count": 26,
     "metadata": {},
     "output_type": "execute_result"
    }
   ],
   "source": [
    "intersectionFeaturesDF"
   ]
  },
  {
   "cell_type": "code",
   "execution_count": 27,
   "metadata": {},
   "outputs": [],
   "source": [
    "intersectionFeaturesDF.to_csv(\"IntersectionFeaturesAdaBoostPermutation.csv\")"
   ]
  },
  {
   "cell_type": "code",
   "execution_count": null,
   "metadata": {},
   "outputs": [],
   "source": []
  },
  {
   "cell_type": "code",
   "execution_count": null,
   "metadata": {},
   "outputs": [],
   "source": []
  },
  {
   "cell_type": "code",
   "execution_count": null,
   "metadata": {},
   "outputs": [],
   "source": []
  }
 ],
 "metadata": {
  "kernelspec": {
   "display_name": "Python 3",
   "language": "python",
   "name": "python3"
  },
  "language_info": {
   "codemirror_mode": {
    "name": "ipython",
    "version": 3
   },
   "file_extension": ".py",
   "mimetype": "text/x-python",
   "name": "python",
   "nbconvert_exporter": "python",
   "pygments_lexer": "ipython3",
   "version": "3.6.4"
  }
 },
 "nbformat": 4,
 "nbformat_minor": 2
}
