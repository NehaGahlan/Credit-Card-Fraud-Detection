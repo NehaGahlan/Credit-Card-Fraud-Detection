{
 "cells": [
  {
   "cell_type": "code",
   "execution_count": 1,
   "metadata": {},
   "outputs": [
    {
     "name": "stderr",
     "output_type": "stream",
     "text": [
      "C:\\Users\\Pappa\\Anaconda3\\lib\\site-packages\\sklearn\\externals\\joblib\\__init__.py:15: DeprecationWarning: sklearn.externals.joblib is deprecated in 0.21 and will be removed in 0.23. Please import this functionality directly from joblib, which can be installed with: pip install joblib. If this warning is raised when loading pickled models, you may need to re-serialize those models with scikit-learn 0.21+.\n",
      "  warnings.warn(msg, category=DeprecationWarning)\n"
     ]
    }
   ],
   "source": [
    "import pandas as pd\n",
    "import numpy as np\n",
    "from sklearn.ensemble import RandomForestClassifier, AdaBoostClassifier\n",
    "import matplotlib.pyplot as plt\n",
    "import matplotlib.gridspec as gridspec\n",
    "from sklearn.metrics import precision_score, recall_score, accuracy_score, classification_report, roc_curve, precision_recall_curve, confusion_matrix, f1_score, average_precision_score, cohen_kappa_score\n",
    "from inspect import signature\n",
    "from sklearn.externals import joblib\n",
    "import random\n",
    "from sklearn import metrics"
   ]
  },
  {
   "cell_type": "markdown",
   "metadata": {},
   "source": [
    "# 1. Prepare Data"
   ]
  },
  {
   "cell_type": "code",
   "execution_count": 2,
   "metadata": {},
   "outputs": [
    {
     "data": {
      "text/plain": [
       "(10, 1)"
      ]
     },
     "execution_count": 2,
     "metadata": {},
     "output_type": "execute_result"
    }
   ],
   "source": [
    "\n",
    "OOB_10=pd.read_csv(\"../7. Modeling - DecisionTree AdaBoost/AdaBoost (AllFeatures - OOB - 10).csv\", index_col=0)\n",
    "\n",
    "OOB_10.shape"
   ]
  },
  {
   "cell_type": "code",
   "execution_count": 3,
   "metadata": {},
   "outputs": [
    {
     "data": {
      "text/plain": [
       "(1848, 30)"
      ]
     },
     "execution_count": 3,
     "metadata": {},
     "output_type": "execute_result"
    }
   ],
   "source": [
    "X_train_resampled = pd.read_csv(\"../3. Data Preparation/X_train_resampled.csv\", index_col=0)\n",
    "X_train_resampled.shape"
   ]
  },
  {
   "cell_type": "code",
   "execution_count": 4,
   "metadata": {},
   "outputs": [
    {
     "data": {
      "text/plain": [
       "(1848, 1)"
      ]
     },
     "execution_count": 4,
     "metadata": {},
     "output_type": "execute_result"
    }
   ],
   "source": [
    "y_train_resampled = pd.read_csv(\"../3. Data Preparation/y_train_resampled.csv\", index_col=0)\n",
    "y_train_resampled.shape"
   ]
  },
  {
   "cell_type": "code",
   "execution_count": 5,
   "metadata": {},
   "outputs": [
    {
     "data": {
      "text/plain": [
       "(56962, 30)"
      ]
     },
     "execution_count": 5,
     "metadata": {},
     "output_type": "execute_result"
    }
   ],
   "source": [
    "X_val = pd.read_csv(\"../3. Data Preparation/X_val.csv\", index_col=0)\n",
    "X_val.shape"
   ]
  },
  {
   "cell_type": "code",
   "execution_count": 6,
   "metadata": {},
   "outputs": [
    {
     "data": {
      "text/plain": [
       "(56962, 1)"
      ]
     },
     "execution_count": 6,
     "metadata": {},
     "output_type": "execute_result"
    }
   ],
   "source": [
    "y_val = pd.read_csv(\"../3. Data Preparation/y_val.csv\", index_col=0, header=0)\n",
    "y_val.shape"
   ]
  },
  {
   "cell_type": "code",
   "execution_count": 7,
   "metadata": {},
   "outputs": [],
   "source": [
    "X_train_resampled.drop(OOB_10.index.values, inplace=True, axis=1)\n",
    "X_val.drop(OOB_10.index.values, inplace=True, axis=1)"
   ]
  },
  {
   "cell_type": "code",
   "execution_count": 8,
   "metadata": {},
   "outputs": [
    {
     "name": "stdout",
     "output_type": "stream",
     "text": [
      "(56962, 20)\n",
      "(1848, 20)\n"
     ]
    }
   ],
   "source": [
    "print(X_val.shape)\n",
    "print(X_train_resampled.shape)"
   ]
  },
  {
   "cell_type": "code",
   "execution_count": 9,
   "metadata": {},
   "outputs": [],
   "source": [
    "dTree = joblib.load('../7. Modeling - DecisionTree AdaBoost/DecisionTree-gini.pkl') "
   ]
  },
  {
   "cell_type": "code",
   "execution_count": 10,
   "metadata": {},
   "outputs": [],
   "source": [
    "dim=100"
   ]
  },
  {
   "cell_type": "markdown",
   "metadata": {},
   "source": [
    "# 2. Permutation Test\n"
   ]
  },
  {
   "cell_type": "code",
   "execution_count": 11,
   "metadata": {},
   "outputs": [
    {
     "name": "stdout",
     "output_type": "stream",
     "text": [
      "0 0.9980513324672589\n"
     ]
    },
    {
     "name": "stderr",
     "output_type": "stream",
     "text": [
      "C:\\Users\\Pappa\\Anaconda3\\lib\\site-packages\\ipykernel_launcher.py:24: FutureWarning: elementwise comparison failed; returning scalar instead, but in the future will perform elementwise comparison\n"
     ]
    },
    {
     "name": "stdout",
     "output_type": "stream",
     "text": [
      "1 0.9972262209894316\n"
     ]
    },
    {
     "name": "stderr",
     "output_type": "stream",
     "text": [
      "C:\\Users\\Pappa\\Anaconda3\\lib\\site-packages\\ipykernel_launcher.py:24: FutureWarning: elementwise comparison failed; returning scalar instead, but in the future will perform elementwise comparison\n"
     ]
    },
    {
     "name": "stdout",
     "output_type": "stream",
     "text": [
      "2 0.9953477757101226\n"
     ]
    },
    {
     "name": "stderr",
     "output_type": "stream",
     "text": [
      "C:\\Users\\Pappa\\Anaconda3\\lib\\site-packages\\ipykernel_launcher.py:24: FutureWarning: elementwise comparison failed; returning scalar instead, but in the future will perform elementwise comparison\n"
     ]
    },
    {
     "name": "stdout",
     "output_type": "stream",
     "text": [
      "3 0.9953126645834065\n"
     ]
    },
    {
     "name": "stderr",
     "output_type": "stream",
     "text": [
      "C:\\Users\\Pappa\\Anaconda3\\lib\\site-packages\\ipykernel_launcher.py:24: FutureWarning: elementwise comparison failed; returning scalar instead, but in the future will perform elementwise comparison\n"
     ]
    },
    {
     "name": "stdout",
     "output_type": "stream",
     "text": [
      "4 0.9978055545802464\n"
     ]
    },
    {
     "name": "stderr",
     "output_type": "stream",
     "text": [
      "C:\\Users\\Pappa\\Anaconda3\\lib\\site-packages\\ipykernel_launcher.py:24: FutureWarning: elementwise comparison failed; returning scalar instead, but in the future will perform elementwise comparison\n"
     ]
    },
    {
     "name": "stdout",
     "output_type": "stream",
     "text": [
      "5 0.9980688880306169\n"
     ]
    },
    {
     "name": "stderr",
     "output_type": "stream",
     "text": [
      "C:\\Users\\Pappa\\Anaconda3\\lib\\site-packages\\ipykernel_launcher.py:24: FutureWarning: elementwise comparison failed; returning scalar instead, but in the future will perform elementwise comparison\n"
     ]
    },
    {
     "name": "stdout",
     "output_type": "stream",
     "text": [
      "6 0.9977704434535304\n"
     ]
    },
    {
     "name": "stderr",
     "output_type": "stream",
     "text": [
      "C:\\Users\\Pappa\\Anaconda3\\lib\\site-packages\\ipykernel_launcher.py:24: FutureWarning: elementwise comparison failed; returning scalar instead, but in the future will perform elementwise comparison\n"
     ]
    },
    {
     "name": "stdout",
     "output_type": "stream",
     "text": [
      "7 0.9951371089498262\n"
     ]
    },
    {
     "name": "stderr",
     "output_type": "stream",
     "text": [
      "C:\\Users\\Pappa\\Anaconda3\\lib\\site-packages\\ipykernel_launcher.py:24: FutureWarning: elementwise comparison failed; returning scalar instead, but in the future will perform elementwise comparison\n"
     ]
    },
    {
     "name": "stdout",
     "output_type": "stream",
     "text": [
      "8 0.9945928864857273\n"
     ]
    },
    {
     "name": "stderr",
     "output_type": "stream",
     "text": [
      "C:\\Users\\Pappa\\Anaconda3\\lib\\site-packages\\ipykernel_launcher.py:24: FutureWarning: elementwise comparison failed; returning scalar instead, but in the future will perform elementwise comparison\n"
     ]
    },
    {
     "name": "stdout",
     "output_type": "stream",
     "text": [
      "9 0.9984375548611355\n"
     ]
    },
    {
     "name": "stderr",
     "output_type": "stream",
     "text": [
      "C:\\Users\\Pappa\\Anaconda3\\lib\\site-packages\\ipykernel_launcher.py:24: FutureWarning: elementwise comparison failed; returning scalar instead, but in the future will perform elementwise comparison\n"
     ]
    },
    {
     "name": "stdout",
     "output_type": "stream",
     "text": [
      "10 0.99501422000632\n"
     ]
    },
    {
     "name": "stderr",
     "output_type": "stream",
     "text": [
      "C:\\Users\\Pappa\\Anaconda3\\lib\\site-packages\\ipykernel_launcher.py:24: FutureWarning: elementwise comparison failed; returning scalar instead, but in the future will perform elementwise comparison\n"
     ]
    },
    {
     "name": "stdout",
     "output_type": "stream",
     "text": [
      "11 0.9956462202872091\n"
     ]
    },
    {
     "name": "stderr",
     "output_type": "stream",
     "text": [
      "C:\\Users\\Pappa\\Anaconda3\\lib\\site-packages\\ipykernel_launcher.py:24: FutureWarning: elementwise comparison failed; returning scalar instead, but in the future will perform elementwise comparison\n"
     ]
    },
    {
     "name": "stdout",
     "output_type": "stream",
     "text": [
      "12 0.9963484428215301\n"
     ]
    },
    {
     "name": "stderr",
     "output_type": "stream",
     "text": [
      "C:\\Users\\Pappa\\Anaconda3\\lib\\site-packages\\ipykernel_launcher.py:24: FutureWarning: elementwise comparison failed; returning scalar instead, but in the future will perform elementwise comparison\n"
     ]
    },
    {
     "name": "stdout",
     "output_type": "stream",
     "text": [
      "13 0.9965942207085425\n"
     ]
    },
    {
     "name": "stderr",
     "output_type": "stream",
     "text": [
      "C:\\Users\\Pappa\\Anaconda3\\lib\\site-packages\\ipykernel_launcher.py:24: FutureWarning: elementwise comparison failed; returning scalar instead, but in the future will perform elementwise comparison\n"
     ]
    },
    {
     "name": "stdout",
     "output_type": "stream",
     "text": [
      "14 0.9955759980337769\n"
     ]
    },
    {
     "name": "stderr",
     "output_type": "stream",
     "text": [
      "C:\\Users\\Pappa\\Anaconda3\\lib\\site-packages\\ipykernel_launcher.py:24: FutureWarning: elementwise comparison failed; returning scalar instead, but in the future will perform elementwise comparison\n"
     ]
    },
    {
     "name": "stdout",
     "output_type": "stream",
     "text": [
      "15 0.9970331097924933\n"
     ]
    },
    {
     "name": "stderr",
     "output_type": "stream",
     "text": [
      "C:\\Users\\Pappa\\Anaconda3\\lib\\site-packages\\ipykernel_launcher.py:24: FutureWarning: elementwise comparison failed; returning scalar instead, but in the future will perform elementwise comparison\n"
     ]
    },
    {
     "name": "stdout",
     "output_type": "stream",
     "text": [
      "16 0.995031775569678\n"
     ]
    },
    {
     "name": "stderr",
     "output_type": "stream",
     "text": [
      "C:\\Users\\Pappa\\Anaconda3\\lib\\site-packages\\ipykernel_launcher.py:24: FutureWarning: elementwise comparison failed; returning scalar instead, but in the future will perform elementwise comparison\n"
     ]
    },
    {
     "name": "stdout",
     "output_type": "stream",
     "text": [
      "17 0.9974368877497279\n"
     ]
    },
    {
     "name": "stderr",
     "output_type": "stream",
     "text": [
      "C:\\Users\\Pappa\\Anaconda3\\lib\\site-packages\\ipykernel_launcher.py:24: FutureWarning: elementwise comparison failed; returning scalar instead, but in the future will perform elementwise comparison\n"
     ]
    },
    {
     "name": "stdout",
     "output_type": "stream",
     "text": [
      "18 0.997559776693234\n"
     ]
    },
    {
     "name": "stderr",
     "output_type": "stream",
     "text": [
      "C:\\Users\\Pappa\\Anaconda3\\lib\\site-packages\\ipykernel_launcher.py:24: FutureWarning: elementwise comparison failed; returning scalar instead, but in the future will perform elementwise comparison\n"
     ]
    },
    {
     "name": "stdout",
     "output_type": "stream",
     "text": [
      "19 0.9979635546504687\n"
     ]
    },
    {
     "name": "stderr",
     "output_type": "stream",
     "text": [
      "C:\\Users\\Pappa\\Anaconda3\\lib\\site-packages\\ipykernel_launcher.py:24: FutureWarning: elementwise comparison failed; returning scalar instead, but in the future will perform elementwise comparison\n"
     ]
    },
    {
     "name": "stdout",
     "output_type": "stream",
     "text": [
      "20 0.9980864435939749\n"
     ]
    },
    {
     "name": "stderr",
     "output_type": "stream",
     "text": [
      "C:\\Users\\Pappa\\Anaconda3\\lib\\site-packages\\ipykernel_launcher.py:24: FutureWarning: elementwise comparison failed; returning scalar instead, but in the future will perform elementwise comparison\n"
     ]
    },
    {
     "name": "stdout",
     "output_type": "stream",
     "text": [
      "21 0.9973666654962958\n"
     ]
    },
    {
     "name": "stderr",
     "output_type": "stream",
     "text": [
      "C:\\Users\\Pappa\\Anaconda3\\lib\\site-packages\\ipykernel_launcher.py:24: FutureWarning: elementwise comparison failed; returning scalar instead, but in the future will perform elementwise comparison\n"
     ]
    },
    {
     "name": "stdout",
     "output_type": "stream",
     "text": [
      "22 0.9981917769741231\n"
     ]
    },
    {
     "name": "stderr",
     "output_type": "stream",
     "text": [
      "C:\\Users\\Pappa\\Anaconda3\\lib\\site-packages\\ipykernel_launcher.py:24: FutureWarning: elementwise comparison failed; returning scalar instead, but in the future will perform elementwise comparison\n"
     ]
    },
    {
     "name": "stdout",
     "output_type": "stream",
     "text": [
      "23 0.9972964432428637\n"
     ]
    },
    {
     "name": "stderr",
     "output_type": "stream",
     "text": [
      "C:\\Users\\Pappa\\Anaconda3\\lib\\site-packages\\ipykernel_launcher.py:24: FutureWarning: elementwise comparison failed; returning scalar instead, but in the future will perform elementwise comparison\n"
     ]
    },
    {
     "name": "stdout",
     "output_type": "stream",
     "text": [
      "24 0.9976299989466662\n"
     ]
    },
    {
     "name": "stderr",
     "output_type": "stream",
     "text": [
      "C:\\Users\\Pappa\\Anaconda3\\lib\\site-packages\\ipykernel_launcher.py:24: FutureWarning: elementwise comparison failed; returning scalar instead, but in the future will perform elementwise comparison\n"
     ]
    },
    {
     "name": "stdout",
     "output_type": "stream",
     "text": [
      "25 0.9973491099329378\n"
     ]
    },
    {
     "name": "stderr",
     "output_type": "stream",
     "text": [
      "C:\\Users\\Pappa\\Anaconda3\\lib\\site-packages\\ipykernel_launcher.py:24: FutureWarning: elementwise comparison failed; returning scalar instead, but in the future will perform elementwise comparison\n"
     ]
    },
    {
     "name": "stdout",
     "output_type": "stream",
     "text": [
      "26 0.9951371089498262\n"
     ]
    },
    {
     "name": "stderr",
     "output_type": "stream",
     "text": [
      "C:\\Users\\Pappa\\Anaconda3\\lib\\site-packages\\ipykernel_launcher.py:24: FutureWarning: elementwise comparison failed; returning scalar instead, but in the future will perform elementwise comparison\n"
     ]
    },
    {
     "name": "stdout",
     "output_type": "stream",
     "text": [
      "27 0.9974193321863699\n"
     ]
    },
    {
     "name": "stderr",
     "output_type": "stream",
     "text": [
      "C:\\Users\\Pappa\\Anaconda3\\lib\\site-packages\\ipykernel_launcher.py:24: FutureWarning: elementwise comparison failed; returning scalar instead, but in the future will perform elementwise comparison\n"
     ]
    },
    {
     "name": "stdout",
     "output_type": "stream",
     "text": [
      "28 0.9977879990168884\n"
     ]
    },
    {
     "name": "stderr",
     "output_type": "stream",
     "text": [
      "C:\\Users\\Pappa\\Anaconda3\\lib\\site-packages\\ipykernel_launcher.py:24: FutureWarning: elementwise comparison failed; returning scalar instead, but in the future will perform elementwise comparison\n"
     ]
    },
    {
     "name": "stdout",
     "output_type": "stream",
     "text": [
      "29 0.9961553316245918\n"
     ]
    },
    {
     "name": "stderr",
     "output_type": "stream",
     "text": [
      "C:\\Users\\Pappa\\Anaconda3\\lib\\site-packages\\ipykernel_launcher.py:24: FutureWarning: elementwise comparison failed; returning scalar instead, but in the future will perform elementwise comparison\n"
     ]
    },
    {
     "name": "stdout",
     "output_type": "stream",
     "text": [
      "30 0.9977704434535304\n"
     ]
    },
    {
     "name": "stderr",
     "output_type": "stream",
     "text": [
      "C:\\Users\\Pappa\\Anaconda3\\lib\\site-packages\\ipykernel_launcher.py:24: FutureWarning: elementwise comparison failed; returning scalar instead, but in the future will perform elementwise comparison\n"
     ]
    },
    {
     "name": "stdout",
     "output_type": "stream",
     "text": [
      "31 0.9951371089498262\n"
     ]
    },
    {
     "name": "stderr",
     "output_type": "stream",
     "text": [
      "C:\\Users\\Pappa\\Anaconda3\\lib\\site-packages\\ipykernel_launcher.py:24: FutureWarning: elementwise comparison failed; returning scalar instead, but in the future will perform elementwise comparison\n"
     ]
    },
    {
     "name": "stdout",
     "output_type": "stream",
     "text": [
      "32 0.9955233313437029\n"
     ]
    },
    {
     "name": "stderr",
     "output_type": "stream",
     "text": [
      "C:\\Users\\Pappa\\Anaconda3\\lib\\site-packages\\ipykernel_launcher.py:24: FutureWarning: elementwise comparison failed; returning scalar instead, but in the future will perform elementwise comparison\n"
     ]
    },
    {
     "name": "stdout",
     "output_type": "stream",
     "text": [
      "33 0.9960851093711597\n"
     ]
    },
    {
     "name": "stderr",
     "output_type": "stream",
     "text": [
      "C:\\Users\\Pappa\\Anaconda3\\lib\\site-packages\\ipykernel_launcher.py:24: FutureWarning: elementwise comparison failed; returning scalar instead, but in the future will perform elementwise comparison\n"
     ]
    },
    {
     "name": "stdout",
     "output_type": "stream",
     "text": [
      "34 0.9967346652154068\n"
     ]
    },
    {
     "name": "stderr",
     "output_type": "stream",
     "text": [
      "C:\\Users\\Pappa\\Anaconda3\\lib\\site-packages\\ipykernel_launcher.py:24: FutureWarning: elementwise comparison failed; returning scalar instead, but in the future will perform elementwise comparison\n"
     ]
    },
    {
     "name": "stdout",
     "output_type": "stream",
     "text": [
      "35 0.9963133316948141\n"
     ]
    },
    {
     "name": "stderr",
     "output_type": "stream",
     "text": [
      "C:\\Users\\Pappa\\Anaconda3\\lib\\site-packages\\ipykernel_launcher.py:24: FutureWarning: elementwise comparison failed; returning scalar instead, but in the future will perform elementwise comparison\n"
     ]
    },
    {
     "name": "stdout",
     "output_type": "stream",
     "text": [
      "36 0.9963484428215301\n"
     ]
    },
    {
     "name": "stderr",
     "output_type": "stream",
     "text": [
      "C:\\Users\\Pappa\\Anaconda3\\lib\\site-packages\\ipykernel_launcher.py:24: FutureWarning: elementwise comparison failed; returning scalar instead, but in the future will perform elementwise comparison\n"
     ]
    },
    {
     "name": "stdout",
     "output_type": "stream",
     "text": [
      "37 0.9888522172676522\n"
     ]
    },
    {
     "name": "stderr",
     "output_type": "stream",
     "text": [
      "C:\\Users\\Pappa\\Anaconda3\\lib\\site-packages\\ipykernel_launcher.py:24: FutureWarning: elementwise comparison failed; returning scalar instead, but in the future will perform elementwise comparison\n"
     ]
    },
    {
     "name": "stdout",
     "output_type": "stream",
     "text": [
      "38 0.9957691092307153\n"
     ]
    },
    {
     "name": "stderr",
     "output_type": "stream",
     "text": [
      "C:\\Users\\Pappa\\Anaconda3\\lib\\site-packages\\ipykernel_launcher.py:24: FutureWarning: elementwise comparison failed; returning scalar instead, but in the future will perform elementwise comparison\n"
     ]
    },
    {
     "name": "stdout",
     "output_type": "stream",
     "text": [
      "39 0.9979986657771848\n"
     ]
    },
    {
     "name": "stderr",
     "output_type": "stream",
     "text": [
      "C:\\Users\\Pappa\\Anaconda3\\lib\\site-packages\\ipykernel_launcher.py:24: FutureWarning: elementwise comparison failed; returning scalar instead, but in the future will perform elementwise comparison\n"
     ]
    },
    {
     "name": "stdout",
     "output_type": "stream",
     "text": [
      "40 0.9976124433833081\n"
     ]
    },
    {
     "name": "stderr",
     "output_type": "stream",
     "text": [
      "C:\\Users\\Pappa\\Anaconda3\\lib\\site-packages\\ipykernel_launcher.py:24: FutureWarning: elementwise comparison failed; returning scalar instead, but in the future will perform elementwise comparison\n"
     ]
    },
    {
     "name": "stdout",
     "output_type": "stream",
     "text": [
      "41 0.9957691092307153\n"
     ]
    },
    {
     "name": "stderr",
     "output_type": "stream",
     "text": [
      "C:\\Users\\Pappa\\Anaconda3\\lib\\site-packages\\ipykernel_launcher.py:24: FutureWarning: elementwise comparison failed; returning scalar instead, but in the future will perform elementwise comparison\n"
     ]
    },
    {
     "name": "stdout",
     "output_type": "stream",
     "text": [
      "42 0.9936448860643938\n"
     ]
    },
    {
     "name": "stderr",
     "output_type": "stream",
     "text": [
      "C:\\Users\\Pappa\\Anaconda3\\lib\\site-packages\\ipykernel_launcher.py:24: FutureWarning: elementwise comparison failed; returning scalar instead, but in the future will perform elementwise comparison\n"
     ]
    },
    {
     "name": "stdout",
     "output_type": "stream",
     "text": [
      "43 0.9973491099329378\n"
     ]
    },
    {
     "name": "stderr",
     "output_type": "stream",
     "text": [
      "C:\\Users\\Pappa\\Anaconda3\\lib\\site-packages\\ipykernel_launcher.py:24: FutureWarning: elementwise comparison failed; returning scalar instead, but in the future will perform elementwise comparison\n"
     ]
    },
    {
     "name": "stdout",
     "output_type": "stream",
     "text": [
      "44 0.9927671078964924\n"
     ]
    },
    {
     "name": "stderr",
     "output_type": "stream",
     "text": [
      "C:\\Users\\Pappa\\Anaconda3\\lib\\site-packages\\ipykernel_launcher.py:24: FutureWarning: elementwise comparison failed; returning scalar instead, but in the future will perform elementwise comparison\n"
     ]
    },
    {
     "name": "stdout",
     "output_type": "stream",
     "text": [
      "45 0.9979986657771848\n"
     ]
    },
    {
     "name": "stderr",
     "output_type": "stream",
     "text": [
      "C:\\Users\\Pappa\\Anaconda3\\lib\\site-packages\\ipykernel_launcher.py:24: FutureWarning: elementwise comparison failed; returning scalar instead, but in the future will perform elementwise comparison\n"
     ]
    },
    {
     "name": "stdout",
     "output_type": "stream",
     "text": [
      "46 0.9949088866261718\n"
     ]
    },
    {
     "name": "stderr",
     "output_type": "stream",
     "text": [
      "C:\\Users\\Pappa\\Anaconda3\\lib\\site-packages\\ipykernel_launcher.py:24: FutureWarning: elementwise comparison failed; returning scalar instead, but in the future will perform elementwise comparison\n"
     ]
    },
    {
     "name": "stdout",
     "output_type": "stream",
     "text": [
      "47 0.9954531090902707\n"
     ]
    },
    {
     "name": "stderr",
     "output_type": "stream",
     "text": [
      "C:\\Users\\Pappa\\Anaconda3\\lib\\site-packages\\ipykernel_launcher.py:24: FutureWarning: elementwise comparison failed; returning scalar instead, but in the future will perform elementwise comparison\n"
     ]
    },
    {
     "name": "stdout",
     "output_type": "stream",
     "text": [
      "48 0.9938555528246902\n"
     ]
    },
    {
     "name": "stderr",
     "output_type": "stream",
     "text": [
      "C:\\Users\\Pappa\\Anaconda3\\lib\\site-packages\\ipykernel_launcher.py:24: FutureWarning: elementwise comparison failed; returning scalar instead, but in the future will perform elementwise comparison\n"
     ]
    },
    {
     "name": "stdout",
     "output_type": "stream",
     "text": [
      "49 0.9977704434535304\n"
     ]
    },
    {
     "name": "stderr",
     "output_type": "stream",
     "text": [
      "C:\\Users\\Pappa\\Anaconda3\\lib\\site-packages\\ipykernel_launcher.py:24: FutureWarning: elementwise comparison failed; returning scalar instead, but in the future will perform elementwise comparison\n"
     ]
    },
    {
     "name": "stdout",
     "output_type": "stream",
     "text": [
      "50 0.9947859976826656\n"
     ]
    },
    {
     "name": "stderr",
     "output_type": "stream",
     "text": [
      "C:\\Users\\Pappa\\Anaconda3\\lib\\site-packages\\ipykernel_launcher.py:24: FutureWarning: elementwise comparison failed; returning scalar instead, but in the future will perform elementwise comparison\n"
     ]
    },
    {
     "name": "stdout",
     "output_type": "stream",
     "text": [
      "51 0.9957866647940733\n"
     ]
    },
    {
     "name": "stderr",
     "output_type": "stream",
     "text": [
      "C:\\Users\\Pappa\\Anaconda3\\lib\\site-packages\\ipykernel_launcher.py:24: FutureWarning: elementwise comparison failed; returning scalar instead, but in the future will perform elementwise comparison\n"
     ]
    },
    {
     "name": "stdout",
     "output_type": "stream",
     "text": [
      "52 0.9971033320459254\n"
     ]
    },
    {
     "name": "stderr",
     "output_type": "stream",
     "text": [
      "C:\\Users\\Pappa\\Anaconda3\\lib\\site-packages\\ipykernel_launcher.py:24: FutureWarning: elementwise comparison failed; returning scalar instead, but in the future will perform elementwise comparison\n"
     ]
    },
    {
     "name": "stdout",
     "output_type": "stream",
     "text": [
      "53 0.995628664723851\n"
     ]
    },
    {
     "name": "stderr",
     "output_type": "stream",
     "text": [
      "C:\\Users\\Pappa\\Anaconda3\\lib\\site-packages\\ipykernel_launcher.py:24: FutureWarning: elementwise comparison failed; returning scalar instead, but in the future will perform elementwise comparison\n"
     ]
    },
    {
     "name": "stdout",
     "output_type": "stream",
     "text": [
      "54 0.997559776693234\n"
     ]
    },
    {
     "name": "stderr",
     "output_type": "stream",
     "text": [
      "C:\\Users\\Pappa\\Anaconda3\\lib\\site-packages\\ipykernel_launcher.py:24: FutureWarning: elementwise comparison failed; returning scalar instead, but in the future will perform elementwise comparison\n"
     ]
    },
    {
     "name": "stdout",
     "output_type": "stream",
     "text": [
      "55 0.9959973315543695\n"
     ]
    },
    {
     "name": "stderr",
     "output_type": "stream",
     "text": [
      "C:\\Users\\Pappa\\Anaconda3\\lib\\site-packages\\ipykernel_launcher.py:24: FutureWarning: elementwise comparison failed; returning scalar instead, but in the future will perform elementwise comparison\n"
     ]
    },
    {
     "name": "stdout",
     "output_type": "stream",
     "text": [
      "56 0.9977002212000983\n"
     ]
    },
    {
     "name": "stderr",
     "output_type": "stream",
     "text": [
      "C:\\Users\\Pappa\\Anaconda3\\lib\\site-packages\\ipykernel_launcher.py:24: FutureWarning: elementwise comparison failed; returning scalar instead, but in the future will perform elementwise comparison\n"
     ]
    },
    {
     "name": "stdout",
     "output_type": "stream",
     "text": [
      "57 0.9956462202872091\n"
     ]
    },
    {
     "name": "stderr",
     "output_type": "stream",
     "text": [
      "C:\\Users\\Pappa\\Anaconda3\\lib\\site-packages\\ipykernel_launcher.py:24: FutureWarning: elementwise comparison failed; returning scalar instead, but in the future will perform elementwise comparison\n"
     ]
    },
    {
     "name": "stdout",
     "output_type": "stream",
     "text": [
      "58 0.9982795547909132\n"
     ]
    },
    {
     "name": "stderr",
     "output_type": "stream",
     "text": [
      "C:\\Users\\Pappa\\Anaconda3\\lib\\site-packages\\ipykernel_launcher.py:24: FutureWarning: elementwise comparison failed; returning scalar instead, but in the future will perform elementwise comparison\n"
     ]
    },
    {
     "name": "stdout",
     "output_type": "stream",
     "text": [
      "59 0.9939608862048384\n"
     ]
    },
    {
     "name": "stderr",
     "output_type": "stream",
     "text": [
      "C:\\Users\\Pappa\\Anaconda3\\lib\\site-packages\\ipykernel_launcher.py:24: FutureWarning: elementwise comparison failed; returning scalar instead, but in the future will perform elementwise comparison\n"
     ]
    },
    {
     "name": "stdout",
     "output_type": "stream",
     "text": [
      "60 0.9976475545100242\n"
     ]
    },
    {
     "name": "stderr",
     "output_type": "stream",
     "text": [
      "C:\\Users\\Pappa\\Anaconda3\\lib\\site-packages\\ipykernel_launcher.py:24: FutureWarning: elementwise comparison failed; returning scalar instead, but in the future will perform elementwise comparison\n"
     ]
    },
    {
     "name": "stdout",
     "output_type": "stream",
     "text": [
      "61 0.9932937747972332\n"
     ]
    },
    {
     "name": "stderr",
     "output_type": "stream",
     "text": [
      "C:\\Users\\Pappa\\Anaconda3\\lib\\site-packages\\ipykernel_launcher.py:24: FutureWarning: elementwise comparison failed; returning scalar instead, but in the future will perform elementwise comparison\n"
     ]
    },
    {
     "name": "stdout",
     "output_type": "stream",
     "text": [
      "62 0.9954531090902707\n"
     ]
    },
    {
     "name": "stderr",
     "output_type": "stream",
     "text": [
      "C:\\Users\\Pappa\\Anaconda3\\lib\\site-packages\\ipykernel_launcher.py:24: FutureWarning: elementwise comparison failed; returning scalar instead, but in the future will perform elementwise comparison\n"
     ]
    },
    {
     "name": "stdout",
     "output_type": "stream",
     "text": [
      "63 0.9961377760612338\n"
     ]
    },
    {
     "name": "stderr",
     "output_type": "stream",
     "text": [
      "C:\\Users\\Pappa\\Anaconda3\\lib\\site-packages\\ipykernel_launcher.py:24: FutureWarning: elementwise comparison failed; returning scalar instead, but in the future will perform elementwise comparison\n"
     ]
    },
    {
     "name": "stdout",
     "output_type": "stream",
     "text": [
      "64 0.9954004424001967\n"
     ]
    },
    {
     "name": "stderr",
     "output_type": "stream",
     "text": [
      "C:\\Users\\Pappa\\Anaconda3\\lib\\site-packages\\ipykernel_launcher.py:24: FutureWarning: elementwise comparison failed; returning scalar instead, but in the future will perform elementwise comparison\n"
     ]
    },
    {
     "name": "stdout",
     "output_type": "stream",
     "text": [
      "65 0.9909237737438994\n"
     ]
    },
    {
     "name": "stderr",
     "output_type": "stream",
     "text": [
      "C:\\Users\\Pappa\\Anaconda3\\lib\\site-packages\\ipykernel_launcher.py:24: FutureWarning: elementwise comparison failed; returning scalar instead, but in the future will perform elementwise comparison\n"
     ]
    },
    {
     "name": "stdout",
     "output_type": "stream",
     "text": [
      "66 0.9981039991573329\n"
     ]
    },
    {
     "name": "stderr",
     "output_type": "stream",
     "text": [
      "C:\\Users\\Pappa\\Anaconda3\\lib\\site-packages\\ipykernel_launcher.py:24: FutureWarning: elementwise comparison failed; returning scalar instead, but in the future will perform elementwise comparison\n"
     ]
    },
    {
     "name": "stdout",
     "output_type": "stream",
     "text": [
      "67 0.9959446648642954\n"
     ]
    },
    {
     "name": "stderr",
     "output_type": "stream",
     "text": [
      "C:\\Users\\Pappa\\Anaconda3\\lib\\site-packages\\ipykernel_launcher.py:24: FutureWarning: elementwise comparison failed; returning scalar instead, but in the future will perform elementwise comparison\n"
     ]
    },
    {
     "name": "stdout",
     "output_type": "stream",
     "text": [
      "68 0.9882377725501211\n"
     ]
    },
    {
     "name": "stderr",
     "output_type": "stream",
     "text": [
      "C:\\Users\\Pappa\\Anaconda3\\lib\\site-packages\\ipykernel_launcher.py:24: FutureWarning: elementwise comparison failed; returning scalar instead, but in the future will perform elementwise comparison\n"
     ]
    },
    {
     "name": "stdout",
     "output_type": "stream",
     "text": [
      "69 0.9946104420490853\n"
     ]
    },
    {
     "name": "stderr",
     "output_type": "stream",
     "text": [
      "C:\\Users\\Pappa\\Anaconda3\\lib\\site-packages\\ipykernel_launcher.py:24: FutureWarning: elementwise comparison failed; returning scalar instead, but in the future will perform elementwise comparison\n"
     ]
    },
    {
     "name": "stdout",
     "output_type": "stream",
     "text": [
      "70 0.9954706646536288\n"
     ]
    },
    {
     "name": "stderr",
     "output_type": "stream",
     "text": [
      "C:\\Users\\Pappa\\Anaconda3\\lib\\site-packages\\ipykernel_launcher.py:24: FutureWarning: elementwise comparison failed; returning scalar instead, but in the future will perform elementwise comparison\n"
     ]
    },
    {
     "name": "stdout",
     "output_type": "stream",
     "text": [
      "71 0.9972437765527896\n"
     ]
    },
    {
     "name": "stderr",
     "output_type": "stream",
     "text": [
      "C:\\Users\\Pappa\\Anaconda3\\lib\\site-packages\\ipykernel_launcher.py:24: FutureWarning: elementwise comparison failed; returning scalar instead, but in the future will perform elementwise comparison\n"
     ]
    },
    {
     "name": "stdout",
     "output_type": "stream",
     "text": [
      "72 0.9957339981039992\n"
     ]
    },
    {
     "name": "stderr",
     "output_type": "stream",
     "text": [
      "C:\\Users\\Pappa\\Anaconda3\\lib\\site-packages\\ipykernel_launcher.py:24: FutureWarning: elementwise comparison failed; returning scalar instead, but in the future will perform elementwise comparison\n"
     ]
    },
    {
     "name": "stdout",
     "output_type": "stream",
     "text": [
      "73 0.9959797759910115\n"
     ]
    },
    {
     "name": "stderr",
     "output_type": "stream",
     "text": [
      "C:\\Users\\Pappa\\Anaconda3\\lib\\site-packages\\ipykernel_launcher.py:24: FutureWarning: elementwise comparison failed; returning scalar instead, but in the future will perform elementwise comparison\n"
     ]
    },
    {
     "name": "stdout",
     "output_type": "stream",
     "text": [
      "74 0.9952775534566904\n"
     ]
    },
    {
     "name": "stderr",
     "output_type": "stream",
     "text": [
      "C:\\Users\\Pappa\\Anaconda3\\lib\\site-packages\\ipykernel_launcher.py:24: FutureWarning: elementwise comparison failed; returning scalar instead, but in the future will perform elementwise comparison\n"
     ]
    },
    {
     "name": "stdout",
     "output_type": "stream",
     "text": [
      "75 0.9958568870475053\n"
     ]
    },
    {
     "name": "stderr",
     "output_type": "stream",
     "text": [
      "C:\\Users\\Pappa\\Anaconda3\\lib\\site-packages\\ipykernel_launcher.py:24: FutureWarning: elementwise comparison failed; returning scalar instead, but in the future will perform elementwise comparison\n"
     ]
    },
    {
     "name": "stdout",
     "output_type": "stream",
     "text": [
      "76 0.9976826656367402\n"
     ]
    },
    {
     "name": "stderr",
     "output_type": "stream",
     "text": [
      "C:\\Users\\Pappa\\Anaconda3\\lib\\site-packages\\ipykernel_launcher.py:24: FutureWarning: elementwise comparison failed; returning scalar instead, but in the future will perform elementwise comparison\n"
     ]
    },
    {
     "name": "stdout",
     "output_type": "stream",
     "text": [
      "77 0.9959446648642954\n"
     ]
    },
    {
     "name": "stderr",
     "output_type": "stream",
     "text": [
      "C:\\Users\\Pappa\\Anaconda3\\lib\\site-packages\\ipykernel_launcher.py:24: FutureWarning: elementwise comparison failed; returning scalar instead, but in the future will perform elementwise comparison\n"
     ]
    },
    {
     "name": "stdout",
     "output_type": "stream",
     "text": [
      "78 0.9946982198658755\n"
     ]
    },
    {
     "name": "stderr",
     "output_type": "stream",
     "text": [
      "C:\\Users\\Pappa\\Anaconda3\\lib\\site-packages\\ipykernel_launcher.py:24: FutureWarning: elementwise comparison failed; returning scalar instead, but in the future will perform elementwise comparison\n"
     ]
    },
    {
     "name": "stdout",
     "output_type": "stream",
     "text": [
      "79 0.9945402197956532\n"
     ]
    },
    {
     "name": "stderr",
     "output_type": "stream",
     "text": [
      "C:\\Users\\Pappa\\Anaconda3\\lib\\site-packages\\ipykernel_launcher.py:24: FutureWarning: elementwise comparison failed; returning scalar instead, but in the future will perform elementwise comparison\n"
     ]
    },
    {
     "name": "stdout",
     "output_type": "stream",
     "text": [
      "80 0.9947157754292335\n"
     ]
    },
    {
     "name": "stderr",
     "output_type": "stream",
     "text": [
      "C:\\Users\\Pappa\\Anaconda3\\lib\\site-packages\\ipykernel_launcher.py:24: FutureWarning: elementwise comparison failed; returning scalar instead, but in the future will perform elementwise comparison\n"
     ]
    },
    {
     "name": "stdout",
     "output_type": "stream",
     "text": [
      "81 0.9978582212703205\n"
     ]
    },
    {
     "name": "stderr",
     "output_type": "stream",
     "text": [
      "C:\\Users\\Pappa\\Anaconda3\\lib\\site-packages\\ipykernel_launcher.py:24: FutureWarning: elementwise comparison failed; returning scalar instead, but in the future will perform elementwise comparison\n"
     ]
    },
    {
     "name": "stdout",
     "output_type": "stream",
     "text": [
      "82 0.9951371089498262\n"
     ]
    },
    {
     "name": "stderr",
     "output_type": "stream",
     "text": [
      "C:\\Users\\Pappa\\Anaconda3\\lib\\site-packages\\ipykernel_launcher.py:24: FutureWarning: elementwise comparison failed; returning scalar instead, but in the future will perform elementwise comparison\n"
     ]
    },
    {
     "name": "stdout",
     "output_type": "stream",
     "text": [
      "83 0.9971559987359995\n"
     ]
    },
    {
     "name": "stderr",
     "output_type": "stream",
     "text": [
      "C:\\Users\\Pappa\\Anaconda3\\lib\\site-packages\\ipykernel_launcher.py:24: FutureWarning: elementwise comparison failed; returning scalar instead, but in the future will perform elementwise comparison\n"
     ]
    },
    {
     "name": "stdout",
     "output_type": "stream",
     "text": [
      "84 0.9964362206383203\n"
     ]
    },
    {
     "name": "stderr",
     "output_type": "stream",
     "text": [
      "C:\\Users\\Pappa\\Anaconda3\\lib\\site-packages\\ipykernel_launcher.py:24: FutureWarning: elementwise comparison failed; returning scalar instead, but in the future will perform elementwise comparison\n"
     ]
    },
    {
     "name": "stdout",
     "output_type": "stream",
     "text": [
      "85 0.9953302201467645\n"
     ]
    },
    {
     "name": "stderr",
     "output_type": "stream",
     "text": [
      "C:\\Users\\Pappa\\Anaconda3\\lib\\site-packages\\ipykernel_launcher.py:24: FutureWarning: elementwise comparison failed; returning scalar instead, but in the future will perform elementwise comparison\n"
     ]
    },
    {
     "name": "stdout",
     "output_type": "stream",
     "text": [
      "86 0.9984902215512096\n"
     ]
    },
    {
     "name": "stderr",
     "output_type": "stream",
     "text": [
      "C:\\Users\\Pappa\\Anaconda3\\lib\\site-packages\\ipykernel_launcher.py:24: FutureWarning: elementwise comparison failed; returning scalar instead, but in the future will perform elementwise comparison\n"
     ]
    },
    {
     "name": "stdout",
     "output_type": "stream",
     "text": [
      "87 0.995031775569678\n"
     ]
    },
    {
     "name": "stderr",
     "output_type": "stream",
     "text": [
      "C:\\Users\\Pappa\\Anaconda3\\lib\\site-packages\\ipykernel_launcher.py:24: FutureWarning: elementwise comparison failed; returning scalar instead, but in the future will perform elementwise comparison\n"
     ]
    },
    {
     "name": "stdout",
     "output_type": "stream",
     "text": [
      "88 0.996892665285629\n"
     ]
    },
    {
     "name": "stderr",
     "output_type": "stream",
     "text": [
      "C:\\Users\\Pappa\\Anaconda3\\lib\\site-packages\\ipykernel_launcher.py:24: FutureWarning: elementwise comparison failed; returning scalar instead, but in the future will perform elementwise comparison\n"
     ]
    },
    {
     "name": "stdout",
     "output_type": "stream",
     "text": [
      "89 0.9979635546504687\n"
     ]
    },
    {
     "name": "stderr",
     "output_type": "stream",
     "text": [
      "C:\\Users\\Pappa\\Anaconda3\\lib\\site-packages\\ipykernel_launcher.py:24: FutureWarning: elementwise comparison failed; returning scalar instead, but in the future will perform elementwise comparison\n"
     ]
    },
    {
     "name": "stdout",
     "output_type": "stream",
     "text": [
      "90 0.9977879990168884\n"
     ]
    },
    {
     "name": "stderr",
     "output_type": "stream",
     "text": [
      "C:\\Users\\Pappa\\Anaconda3\\lib\\site-packages\\ipykernel_launcher.py:24: FutureWarning: elementwise comparison failed; returning scalar instead, but in the future will perform elementwise comparison\n"
     ]
    },
    {
     "name": "stdout",
     "output_type": "stream",
     "text": [
      "91 0.9949088866261718\n"
     ]
    },
    {
     "name": "stderr",
     "output_type": "stream",
     "text": [
      "C:\\Users\\Pappa\\Anaconda3\\lib\\site-packages\\ipykernel_launcher.py:24: FutureWarning: elementwise comparison failed; returning scalar instead, but in the future will perform elementwise comparison\n"
     ]
    },
    {
     "name": "stdout",
     "output_type": "stream",
     "text": [
      "92 0.9955408869070609\n"
     ]
    },
    {
     "name": "stderr",
     "output_type": "stream",
     "text": [
      "C:\\Users\\Pappa\\Anaconda3\\lib\\site-packages\\ipykernel_launcher.py:24: FutureWarning: elementwise comparison failed; returning scalar instead, but in the future will perform elementwise comparison\n"
     ]
    },
    {
     "name": "stdout",
     "output_type": "stream",
     "text": [
      "93 0.9961377760612338\n"
     ]
    },
    {
     "name": "stderr",
     "output_type": "stream",
     "text": [
      "C:\\Users\\Pappa\\Anaconda3\\lib\\site-packages\\ipykernel_launcher.py:24: FutureWarning: elementwise comparison failed; returning scalar instead, but in the future will perform elementwise comparison\n"
     ]
    },
    {
     "name": "stdout",
     "output_type": "stream",
     "text": [
      "94 0.9979986657771848\n"
     ]
    },
    {
     "name": "stderr",
     "output_type": "stream",
     "text": [
      "C:\\Users\\Pappa\\Anaconda3\\lib\\site-packages\\ipykernel_launcher.py:24: FutureWarning: elementwise comparison failed; returning scalar instead, but in the future will perform elementwise comparison\n"
     ]
    },
    {
     "name": "stdout",
     "output_type": "stream",
     "text": [
      "95 0.9964186650749622\n"
     ]
    },
    {
     "name": "stderr",
     "output_type": "stream",
     "text": [
      "C:\\Users\\Pappa\\Anaconda3\\lib\\site-packages\\ipykernel_launcher.py:24: FutureWarning: elementwise comparison failed; returning scalar instead, but in the future will perform elementwise comparison\n"
     ]
    },
    {
     "name": "stdout",
     "output_type": "stream",
     "text": [
      "96 0.9966468873986166\n"
     ]
    },
    {
     "name": "stderr",
     "output_type": "stream",
     "text": [
      "C:\\Users\\Pappa\\Anaconda3\\lib\\site-packages\\ipykernel_launcher.py:24: FutureWarning: elementwise comparison failed; returning scalar instead, but in the future will perform elementwise comparison\n"
     ]
    },
    {
     "name": "stdout",
     "output_type": "stream",
     "text": [
      "97 0.994399775288789\n"
     ]
    },
    {
     "name": "stderr",
     "output_type": "stream",
     "text": [
      "C:\\Users\\Pappa\\Anaconda3\\lib\\site-packages\\ipykernel_launcher.py:24: FutureWarning: elementwise comparison failed; returning scalar instead, but in the future will perform elementwise comparison\n"
     ]
    },
    {
     "name": "stdout",
     "output_type": "stream",
     "text": [
      "98 0.9951722200765423\n"
     ]
    },
    {
     "name": "stderr",
     "output_type": "stream",
     "text": [
      "C:\\Users\\Pappa\\Anaconda3\\lib\\site-packages\\ipykernel_launcher.py:24: FutureWarning: elementwise comparison failed; returning scalar instead, but in the future will perform elementwise comparison\n"
     ]
    },
    {
     "name": "stdout",
     "output_type": "stream",
     "text": [
      "99 0.9959271093009374\n"
     ]
    },
    {
     "name": "stderr",
     "output_type": "stream",
     "text": [
      "C:\\Users\\Pappa\\Anaconda3\\lib\\site-packages\\ipykernel_launcher.py:24: FutureWarning: elementwise comparison failed; returning scalar instead, but in the future will perform elementwise comparison\n"
     ]
    }
   ],
   "source": [
    "accuracy_from_features = []\n",
    "feature_list = random.sample(list(X_train_resampled.columns.values), len(OOB_10.index.values))\n",
    "\n",
    "for i in range(0, dim):\n",
    "    \n",
    "    accuracy_from_features.append(feature_list)\n",
    "    \n",
    "    X_temp = X_train_resampled[feature_list].copy()\n",
    "    \n",
    "    # Create a random forest classifier\n",
    "    clf = AdaBoostClassifier(base_estimator=dTree, n_estimators=101, learning_rate=0.05,\n",
    "                              algorithm='SAMME', random_state=42)\n",
    "\n",
    "    # Train the classifier\n",
    "    clf.fit(X_temp, y_train_resampled['Class'].values)\n",
    "    \n",
    "    # Prediction\n",
    "    X_test_temp = X_val[feature_list].copy()\n",
    "    pred_y = clf.predict(X_test_temp)\n",
    "    \n",
    "    accuracy_from_features.append(metrics.accuracy_score(pred_y, y_val['Class'].values))\n",
    "    print(i, accuracy_from_features[-1])\n",
    "    \n",
    "    while feature_list in accuracy_from_features:\n",
    "        feature_list = random.sample(list(X_train_resampled.columns.values), len(OOB_10.index.values))"
   ]
  },
  {
   "cell_type": "code",
   "execution_count": 12,
   "metadata": {},
   "outputs": [],
   "source": [
    "permutation_test_df = pd.DataFrame()\n",
    "for i in range(0, len(OOB_10.index.values)):\n",
    "    permutation_test_df['feature_'+str(i)] = \"\"\n",
    "    \n",
    "permutation_test_df['accuracy'] = 0.0\n"
   ]
  },
  {
   "cell_type": "code",
   "execution_count": 13,
   "metadata": {},
   "outputs": [],
   "source": [
    "accuracy = list()\n",
    "for i in range(0, dim):\n",
    "    accuracy.insert(i,0)\n",
    "    \n",
    "for i in range(0, len(accuracy_from_features),2):\n",
    "    accuracy.insert(i,accuracy_from_features[i+1])"
   ]
  },
  {
   "cell_type": "code",
   "execution_count": 14,
   "metadata": {},
   "outputs": [
    {
     "data": {
      "text/plain": [
       "[0.9980513324672589,\n",
       " 0,\n",
       " 0.9972262209894316,\n",
       " 0,\n",
       " 0.9953477757101226,\n",
       " 0,\n",
       " 0.9953126645834065,\n",
       " 0,\n",
       " 0.9978055545802464,\n",
       " 0,\n",
       " 0.9980688880306169,\n",
       " 0,\n",
       " 0.9977704434535304,\n",
       " 0,\n",
       " 0.9951371089498262,\n",
       " 0,\n",
       " 0.9945928864857273,\n",
       " 0,\n",
       " 0.9984375548611355,\n",
       " 0,\n",
       " 0.99501422000632,\n",
       " 0,\n",
       " 0.9956462202872091,\n",
       " 0,\n",
       " 0.9963484428215301,\n",
       " 0,\n",
       " 0.9965942207085425,\n",
       " 0,\n",
       " 0.9955759980337769,\n",
       " 0,\n",
       " 0.9970331097924933,\n",
       " 0,\n",
       " 0.995031775569678,\n",
       " 0,\n",
       " 0.9974368877497279,\n",
       " 0,\n",
       " 0.997559776693234,\n",
       " 0,\n",
       " 0.9979635546504687,\n",
       " 0,\n",
       " 0.9980864435939749,\n",
       " 0,\n",
       " 0.9973666654962958,\n",
       " 0,\n",
       " 0.9981917769741231,\n",
       " 0,\n",
       " 0.9972964432428637,\n",
       " 0,\n",
       " 0.9976299989466662,\n",
       " 0,\n",
       " 0.9973491099329378,\n",
       " 0,\n",
       " 0.9951371089498262,\n",
       " 0,\n",
       " 0.9974193321863699,\n",
       " 0,\n",
       " 0.9977879990168884,\n",
       " 0,\n",
       " 0.9961553316245918,\n",
       " 0,\n",
       " 0.9977704434535304,\n",
       " 0,\n",
       " 0.9951371089498262,\n",
       " 0,\n",
       " 0.9955233313437029,\n",
       " 0,\n",
       " 0.9960851093711597,\n",
       " 0,\n",
       " 0.9967346652154068,\n",
       " 0,\n",
       " 0.9963133316948141,\n",
       " 0,\n",
       " 0.9963484428215301,\n",
       " 0,\n",
       " 0.9888522172676522,\n",
       " 0,\n",
       " 0.9957691092307153,\n",
       " 0,\n",
       " 0.9979986657771848,\n",
       " 0,\n",
       " 0.9976124433833081,\n",
       " 0,\n",
       " 0.9957691092307153,\n",
       " 0,\n",
       " 0.9936448860643938,\n",
       " 0,\n",
       " 0.9973491099329378,\n",
       " 0,\n",
       " 0.9927671078964924,\n",
       " 0,\n",
       " 0.9979986657771848,\n",
       " 0,\n",
       " 0.9949088866261718,\n",
       " 0,\n",
       " 0.9954531090902707,\n",
       " 0,\n",
       " 0.9938555528246902,\n",
       " 0,\n",
       " 0.9977704434535304,\n",
       " 0,\n",
       " 0.9947859976826656,\n",
       " 0,\n",
       " 0.9957866647940733,\n",
       " 0,\n",
       " 0.9971033320459254,\n",
       " 0,\n",
       " 0.995628664723851,\n",
       " 0,\n",
       " 0.997559776693234,\n",
       " 0,\n",
       " 0.9959973315543695,\n",
       " 0,\n",
       " 0.9977002212000983,\n",
       " 0,\n",
       " 0.9956462202872091,\n",
       " 0,\n",
       " 0.9982795547909132,\n",
       " 0,\n",
       " 0.9939608862048384,\n",
       " 0,\n",
       " 0.9976475545100242,\n",
       " 0,\n",
       " 0.9932937747972332,\n",
       " 0,\n",
       " 0.9954531090902707,\n",
       " 0,\n",
       " 0.9961377760612338,\n",
       " 0,\n",
       " 0.9954004424001967,\n",
       " 0,\n",
       " 0.9909237737438994,\n",
       " 0,\n",
       " 0.9981039991573329,\n",
       " 0,\n",
       " 0.9959446648642954,\n",
       " 0,\n",
       " 0.9882377725501211,\n",
       " 0,\n",
       " 0.9946104420490853,\n",
       " 0,\n",
       " 0.9954706646536288,\n",
       " 0,\n",
       " 0.9972437765527896,\n",
       " 0,\n",
       " 0.9957339981039992,\n",
       " 0,\n",
       " 0.9959797759910115,\n",
       " 0,\n",
       " 0.9952775534566904,\n",
       " 0,\n",
       " 0.9958568870475053,\n",
       " 0,\n",
       " 0.9976826656367402,\n",
       " 0,\n",
       " 0.9959446648642954,\n",
       " 0,\n",
       " 0.9946982198658755,\n",
       " 0,\n",
       " 0.9945402197956532,\n",
       " 0,\n",
       " 0.9947157754292335,\n",
       " 0,\n",
       " 0.9978582212703205,\n",
       " 0,\n",
       " 0.9951371089498262,\n",
       " 0,\n",
       " 0.9971559987359995,\n",
       " 0,\n",
       " 0.9964362206383203,\n",
       " 0,\n",
       " 0.9953302201467645,\n",
       " 0,\n",
       " 0.9984902215512096,\n",
       " 0,\n",
       " 0.995031775569678,\n",
       " 0,\n",
       " 0.996892665285629,\n",
       " 0,\n",
       " 0.9979635546504687,\n",
       " 0,\n",
       " 0.9977879990168884,\n",
       " 0,\n",
       " 0.9949088866261718,\n",
       " 0,\n",
       " 0.9955408869070609,\n",
       " 0,\n",
       " 0.9961377760612338,\n",
       " 0,\n",
       " 0.9979986657771848,\n",
       " 0,\n",
       " 0.9964186650749622,\n",
       " 0,\n",
       " 0.9966468873986166,\n",
       " 0,\n",
       " 0.994399775288789,\n",
       " 0,\n",
       " 0.9951722200765423,\n",
       " 0,\n",
       " 0.9959271093009374,\n",
       " 0]"
      ]
     },
     "execution_count": 14,
     "metadata": {},
     "output_type": "execute_result"
    }
   ],
   "source": [
    "accuracy"
   ]
  },
  {
   "cell_type": "code",
   "execution_count": 15,
   "metadata": {},
   "outputs": [],
   "source": [
    "z=0\n",
    "for i in range(0, len(accuracy_from_features),2):\n",
    "    for j in range(0, len(accuracy_from_features[i])):\n",
    "        permutation_test_df.loc[i, 'feature_'+str(j)] = accuracy_from_features[i][j]\n",
    "        \n",
    "    \n",
    "    permutation_test_df.loc[i, 'accuracy'] = accuracy[i]\n",
    "\n",
    "    #z=z+1"
   ]
  },
  {
   "cell_type": "code",
   "execution_count": 16,
   "metadata": {},
   "outputs": [
    {
     "data": {
      "text/html": [
       "<div>\n",
       "<style scoped>\n",
       "    .dataframe tbody tr th:only-of-type {\n",
       "        vertical-align: middle;\n",
       "    }\n",
       "\n",
       "    .dataframe tbody tr th {\n",
       "        vertical-align: top;\n",
       "    }\n",
       "\n",
       "    .dataframe thead th {\n",
       "        text-align: right;\n",
       "    }\n",
       "</style>\n",
       "<table border=\"1\" class=\"dataframe\">\n",
       "  <thead>\n",
       "    <tr style=\"text-align: right;\">\n",
       "      <th></th>\n",
       "      <th>feature_0</th>\n",
       "      <th>feature_1</th>\n",
       "      <th>feature_2</th>\n",
       "      <th>feature_3</th>\n",
       "      <th>feature_4</th>\n",
       "      <th>feature_5</th>\n",
       "      <th>feature_6</th>\n",
       "      <th>feature_7</th>\n",
       "      <th>feature_8</th>\n",
       "      <th>feature_9</th>\n",
       "      <th>accuracy</th>\n",
       "    </tr>\n",
       "  </thead>\n",
       "  <tbody>\n",
       "    <tr>\n",
       "      <th>0</th>\n",
       "      <td>V6</td>\n",
       "      <td>V2</td>\n",
       "      <td>V15</td>\n",
       "      <td>V1</td>\n",
       "      <td>V5</td>\n",
       "      <td>V12</td>\n",
       "      <td>V16</td>\n",
       "      <td>V9</td>\n",
       "      <td>V21</td>\n",
       "      <td>V24</td>\n",
       "      <td>0.998051</td>\n",
       "    </tr>\n",
       "    <tr>\n",
       "      <th>1</th>\n",
       "      <td>V2</td>\n",
       "      <td>V27</td>\n",
       "      <td>V16</td>\n",
       "      <td>V11</td>\n",
       "      <td>V21</td>\n",
       "      <td>V23</td>\n",
       "      <td>V13</td>\n",
       "      <td>V26</td>\n",
       "      <td>V5</td>\n",
       "      <td>V24</td>\n",
       "      <td>0.997226</td>\n",
       "    </tr>\n",
       "    <tr>\n",
       "      <th>2</th>\n",
       "      <td>V18</td>\n",
       "      <td>V24</td>\n",
       "      <td>V25</td>\n",
       "      <td>V23</td>\n",
       "      <td>V5</td>\n",
       "      <td>V15</td>\n",
       "      <td>V2</td>\n",
       "      <td>V27</td>\n",
       "      <td>V10</td>\n",
       "      <td>V28</td>\n",
       "      <td>0.995348</td>\n",
       "    </tr>\n",
       "    <tr>\n",
       "      <th>3</th>\n",
       "      <td>V16</td>\n",
       "      <td>V21</td>\n",
       "      <td>V3</td>\n",
       "      <td>V24</td>\n",
       "      <td>V5</td>\n",
       "      <td>V15</td>\n",
       "      <td>V13</td>\n",
       "      <td>V23</td>\n",
       "      <td>V11</td>\n",
       "      <td>V6</td>\n",
       "      <td>0.995313</td>\n",
       "    </tr>\n",
       "    <tr>\n",
       "      <th>4</th>\n",
       "      <td>V16</td>\n",
       "      <td>V10</td>\n",
       "      <td>V12</td>\n",
       "      <td>V26</td>\n",
       "      <td>V2</td>\n",
       "      <td>V23</td>\n",
       "      <td>V18</td>\n",
       "      <td>V28</td>\n",
       "      <td>V27</td>\n",
       "      <td>V6</td>\n",
       "      <td>0.997806</td>\n",
       "    </tr>\n",
       "    <tr>\n",
       "      <th>5</th>\n",
       "      <td>V28</td>\n",
       "      <td>V5</td>\n",
       "      <td>V13</td>\n",
       "      <td>V6</td>\n",
       "      <td>V25</td>\n",
       "      <td>V16</td>\n",
       "      <td>V24</td>\n",
       "      <td>V9</td>\n",
       "      <td>V12</td>\n",
       "      <td>V11</td>\n",
       "      <td>0.998069</td>\n",
       "    </tr>\n",
       "    <tr>\n",
       "      <th>6</th>\n",
       "      <td>V10</td>\n",
       "      <td>V24</td>\n",
       "      <td>V15</td>\n",
       "      <td>V9</td>\n",
       "      <td>V12</td>\n",
       "      <td>V26</td>\n",
       "      <td>V27</td>\n",
       "      <td>V6</td>\n",
       "      <td>V25</td>\n",
       "      <td>V28</td>\n",
       "      <td>0.997770</td>\n",
       "    </tr>\n",
       "    <tr>\n",
       "      <th>7</th>\n",
       "      <td>V13</td>\n",
       "      <td>V25</td>\n",
       "      <td>V3</td>\n",
       "      <td>V15</td>\n",
       "      <td>V1</td>\n",
       "      <td>V6</td>\n",
       "      <td>V26</td>\n",
       "      <td>V10</td>\n",
       "      <td>V2</td>\n",
       "      <td>V9</td>\n",
       "      <td>0.995137</td>\n",
       "    </tr>\n",
       "    <tr>\n",
       "      <th>8</th>\n",
       "      <td>V15</td>\n",
       "      <td>V25</td>\n",
       "      <td>V10</td>\n",
       "      <td>V23</td>\n",
       "      <td>V21</td>\n",
       "      <td>V18</td>\n",
       "      <td>V1</td>\n",
       "      <td>V11</td>\n",
       "      <td>V3</td>\n",
       "      <td>V5</td>\n",
       "      <td>0.994593</td>\n",
       "    </tr>\n",
       "    <tr>\n",
       "      <th>9</th>\n",
       "      <td>V13</td>\n",
       "      <td>V15</td>\n",
       "      <td>V16</td>\n",
       "      <td>V25</td>\n",
       "      <td>V21</td>\n",
       "      <td>V12</td>\n",
       "      <td>V9</td>\n",
       "      <td>V11</td>\n",
       "      <td>V1</td>\n",
       "      <td>V24</td>\n",
       "      <td>0.998438</td>\n",
       "    </tr>\n",
       "    <tr>\n",
       "      <th>10</th>\n",
       "      <td>V3</td>\n",
       "      <td>V15</td>\n",
       "      <td>V25</td>\n",
       "      <td>V10</td>\n",
       "      <td>V21</td>\n",
       "      <td>V9</td>\n",
       "      <td>V27</td>\n",
       "      <td>V6</td>\n",
       "      <td>V5</td>\n",
       "      <td>V18</td>\n",
       "      <td>0.995014</td>\n",
       "    </tr>\n",
       "    <tr>\n",
       "      <th>11</th>\n",
       "      <td>V27</td>\n",
       "      <td>V2</td>\n",
       "      <td>V28</td>\n",
       "      <td>V11</td>\n",
       "      <td>V24</td>\n",
       "      <td>V16</td>\n",
       "      <td>V5</td>\n",
       "      <td>V15</td>\n",
       "      <td>V18</td>\n",
       "      <td>V10</td>\n",
       "      <td>0.995646</td>\n",
       "    </tr>\n",
       "    <tr>\n",
       "      <th>12</th>\n",
       "      <td>V18</td>\n",
       "      <td>V21</td>\n",
       "      <td>V16</td>\n",
       "      <td>V1</td>\n",
       "      <td>V28</td>\n",
       "      <td>V2</td>\n",
       "      <td>V10</td>\n",
       "      <td>V6</td>\n",
       "      <td>V9</td>\n",
       "      <td>V26</td>\n",
       "      <td>0.996348</td>\n",
       "    </tr>\n",
       "    <tr>\n",
       "      <th>13</th>\n",
       "      <td>V18</td>\n",
       "      <td>V11</td>\n",
       "      <td>V23</td>\n",
       "      <td>V15</td>\n",
       "      <td>V3</td>\n",
       "      <td>V12</td>\n",
       "      <td>V21</td>\n",
       "      <td>V27</td>\n",
       "      <td>V6</td>\n",
       "      <td>V24</td>\n",
       "      <td>0.996594</td>\n",
       "    </tr>\n",
       "    <tr>\n",
       "      <th>14</th>\n",
       "      <td>V15</td>\n",
       "      <td>V6</td>\n",
       "      <td>V16</td>\n",
       "      <td>V24</td>\n",
       "      <td>V25</td>\n",
       "      <td>V28</td>\n",
       "      <td>V10</td>\n",
       "      <td>V21</td>\n",
       "      <td>V27</td>\n",
       "      <td>V3</td>\n",
       "      <td>0.995576</td>\n",
       "    </tr>\n",
       "    <tr>\n",
       "      <th>15</th>\n",
       "      <td>V15</td>\n",
       "      <td>V24</td>\n",
       "      <td>V26</td>\n",
       "      <td>V12</td>\n",
       "      <td>V1</td>\n",
       "      <td>V18</td>\n",
       "      <td>V13</td>\n",
       "      <td>V16</td>\n",
       "      <td>V3</td>\n",
       "      <td>V5</td>\n",
       "      <td>0.997033</td>\n",
       "    </tr>\n",
       "    <tr>\n",
       "      <th>16</th>\n",
       "      <td>V2</td>\n",
       "      <td>V24</td>\n",
       "      <td>V27</td>\n",
       "      <td>V5</td>\n",
       "      <td>V3</td>\n",
       "      <td>V23</td>\n",
       "      <td>V25</td>\n",
       "      <td>V28</td>\n",
       "      <td>V11</td>\n",
       "      <td>V18</td>\n",
       "      <td>0.995032</td>\n",
       "    </tr>\n",
       "    <tr>\n",
       "      <th>17</th>\n",
       "      <td>V12</td>\n",
       "      <td>V10</td>\n",
       "      <td>V25</td>\n",
       "      <td>V5</td>\n",
       "      <td>V3</td>\n",
       "      <td>V11</td>\n",
       "      <td>V15</td>\n",
       "      <td>V13</td>\n",
       "      <td>V1</td>\n",
       "      <td>V21</td>\n",
       "      <td>0.997437</td>\n",
       "    </tr>\n",
       "    <tr>\n",
       "      <th>18</th>\n",
       "      <td>V1</td>\n",
       "      <td>V18</td>\n",
       "      <td>V10</td>\n",
       "      <td>V28</td>\n",
       "      <td>V27</td>\n",
       "      <td>V13</td>\n",
       "      <td>V12</td>\n",
       "      <td>V26</td>\n",
       "      <td>V25</td>\n",
       "      <td>V21</td>\n",
       "      <td>0.997560</td>\n",
       "    </tr>\n",
       "    <tr>\n",
       "      <th>19</th>\n",
       "      <td>V12</td>\n",
       "      <td>V5</td>\n",
       "      <td>V15</td>\n",
       "      <td>V21</td>\n",
       "      <td>V3</td>\n",
       "      <td>V10</td>\n",
       "      <td>V1</td>\n",
       "      <td>V13</td>\n",
       "      <td>V27</td>\n",
       "      <td>V24</td>\n",
       "      <td>0.997964</td>\n",
       "    </tr>\n",
       "    <tr>\n",
       "      <th>20</th>\n",
       "      <td>V6</td>\n",
       "      <td>V3</td>\n",
       "      <td>V10</td>\n",
       "      <td>V23</td>\n",
       "      <td>V1</td>\n",
       "      <td>V24</td>\n",
       "      <td>V12</td>\n",
       "      <td>V28</td>\n",
       "      <td>V9</td>\n",
       "      <td>V16</td>\n",
       "      <td>0.998086</td>\n",
       "    </tr>\n",
       "    <tr>\n",
       "      <th>21</th>\n",
       "      <td>V16</td>\n",
       "      <td>V23</td>\n",
       "      <td>V12</td>\n",
       "      <td>V27</td>\n",
       "      <td>V2</td>\n",
       "      <td>V11</td>\n",
       "      <td>V28</td>\n",
       "      <td>V25</td>\n",
       "      <td>V1</td>\n",
       "      <td>V18</td>\n",
       "      <td>0.997367</td>\n",
       "    </tr>\n",
       "    <tr>\n",
       "      <th>22</th>\n",
       "      <td>V2</td>\n",
       "      <td>V10</td>\n",
       "      <td>V28</td>\n",
       "      <td>V9</td>\n",
       "      <td>V16</td>\n",
       "      <td>V25</td>\n",
       "      <td>V12</td>\n",
       "      <td>V15</td>\n",
       "      <td>V6</td>\n",
       "      <td>V13</td>\n",
       "      <td>0.998192</td>\n",
       "    </tr>\n",
       "    <tr>\n",
       "      <th>23</th>\n",
       "      <td>V9</td>\n",
       "      <td>V24</td>\n",
       "      <td>V16</td>\n",
       "      <td>V10</td>\n",
       "      <td>V18</td>\n",
       "      <td>V26</td>\n",
       "      <td>V12</td>\n",
       "      <td>V11</td>\n",
       "      <td>V28</td>\n",
       "      <td>V27</td>\n",
       "      <td>0.997296</td>\n",
       "    </tr>\n",
       "    <tr>\n",
       "      <th>24</th>\n",
       "      <td>V15</td>\n",
       "      <td>V9</td>\n",
       "      <td>V21</td>\n",
       "      <td>V1</td>\n",
       "      <td>V28</td>\n",
       "      <td>V16</td>\n",
       "      <td>V6</td>\n",
       "      <td>V18</td>\n",
       "      <td>V27</td>\n",
       "      <td>V12</td>\n",
       "      <td>0.997630</td>\n",
       "    </tr>\n",
       "    <tr>\n",
       "      <th>25</th>\n",
       "      <td>V12</td>\n",
       "      <td>V26</td>\n",
       "      <td>V11</td>\n",
       "      <td>V18</td>\n",
       "      <td>V27</td>\n",
       "      <td>V21</td>\n",
       "      <td>V6</td>\n",
       "      <td>V10</td>\n",
       "      <td>V13</td>\n",
       "      <td>V23</td>\n",
       "      <td>0.997349</td>\n",
       "    </tr>\n",
       "    <tr>\n",
       "      <th>26</th>\n",
       "      <td>V11</td>\n",
       "      <td>V5</td>\n",
       "      <td>V10</td>\n",
       "      <td>V27</td>\n",
       "      <td>V3</td>\n",
       "      <td>V9</td>\n",
       "      <td>V25</td>\n",
       "      <td>V18</td>\n",
       "      <td>V16</td>\n",
       "      <td>V2</td>\n",
       "      <td>0.995137</td>\n",
       "    </tr>\n",
       "    <tr>\n",
       "      <th>27</th>\n",
       "      <td>V5</td>\n",
       "      <td>V26</td>\n",
       "      <td>V3</td>\n",
       "      <td>V28</td>\n",
       "      <td>V12</td>\n",
       "      <td>V10</td>\n",
       "      <td>V18</td>\n",
       "      <td>V27</td>\n",
       "      <td>V11</td>\n",
       "      <td>V9</td>\n",
       "      <td>0.997419</td>\n",
       "    </tr>\n",
       "    <tr>\n",
       "      <th>28</th>\n",
       "      <td>V13</td>\n",
       "      <td>V12</td>\n",
       "      <td>V10</td>\n",
       "      <td>V3</td>\n",
       "      <td>V26</td>\n",
       "      <td>V18</td>\n",
       "      <td>V24</td>\n",
       "      <td>V15</td>\n",
       "      <td>V5</td>\n",
       "      <td>V28</td>\n",
       "      <td>0.997788</td>\n",
       "    </tr>\n",
       "    <tr>\n",
       "      <th>29</th>\n",
       "      <td>V18</td>\n",
       "      <td>V21</td>\n",
       "      <td>V10</td>\n",
       "      <td>V23</td>\n",
       "      <td>V5</td>\n",
       "      <td>V2</td>\n",
       "      <td>V9</td>\n",
       "      <td>V11</td>\n",
       "      <td>V15</td>\n",
       "      <td>V1</td>\n",
       "      <td>0.996155</td>\n",
       "    </tr>\n",
       "    <tr>\n",
       "      <th>...</th>\n",
       "      <td>...</td>\n",
       "      <td>...</td>\n",
       "      <td>...</td>\n",
       "      <td>...</td>\n",
       "      <td>...</td>\n",
       "      <td>...</td>\n",
       "      <td>...</td>\n",
       "      <td>...</td>\n",
       "      <td>...</td>\n",
       "      <td>...</td>\n",
       "      <td>...</td>\n",
       "    </tr>\n",
       "    <tr>\n",
       "      <th>70</th>\n",
       "      <td>V23</td>\n",
       "      <td>V5</td>\n",
       "      <td>V2</td>\n",
       "      <td>V27</td>\n",
       "      <td>V3</td>\n",
       "      <td>V26</td>\n",
       "      <td>V21</td>\n",
       "      <td>V24</td>\n",
       "      <td>V16</td>\n",
       "      <td>V10</td>\n",
       "      <td>0.995471</td>\n",
       "    </tr>\n",
       "    <tr>\n",
       "      <th>71</th>\n",
       "      <td>V26</td>\n",
       "      <td>V12</td>\n",
       "      <td>V24</td>\n",
       "      <td>V1</td>\n",
       "      <td>V6</td>\n",
       "      <td>V15</td>\n",
       "      <td>V18</td>\n",
       "      <td>V23</td>\n",
       "      <td>V5</td>\n",
       "      <td>V3</td>\n",
       "      <td>0.997244</td>\n",
       "    </tr>\n",
       "    <tr>\n",
       "      <th>72</th>\n",
       "      <td>V3</td>\n",
       "      <td>V1</td>\n",
       "      <td>V13</td>\n",
       "      <td>V11</td>\n",
       "      <td>V16</td>\n",
       "      <td>V18</td>\n",
       "      <td>V5</td>\n",
       "      <td>V9</td>\n",
       "      <td>V21</td>\n",
       "      <td>V2</td>\n",
       "      <td>0.995734</td>\n",
       "    </tr>\n",
       "    <tr>\n",
       "      <th>73</th>\n",
       "      <td>V10</td>\n",
       "      <td>V15</td>\n",
       "      <td>V21</td>\n",
       "      <td>V9</td>\n",
       "      <td>V16</td>\n",
       "      <td>V1</td>\n",
       "      <td>V5</td>\n",
       "      <td>V23</td>\n",
       "      <td>V25</td>\n",
       "      <td>V18</td>\n",
       "      <td>0.995980</td>\n",
       "    </tr>\n",
       "    <tr>\n",
       "      <th>74</th>\n",
       "      <td>V6</td>\n",
       "      <td>V16</td>\n",
       "      <td>V21</td>\n",
       "      <td>V9</td>\n",
       "      <td>V15</td>\n",
       "      <td>V11</td>\n",
       "      <td>V25</td>\n",
       "      <td>V13</td>\n",
       "      <td>V5</td>\n",
       "      <td>V3</td>\n",
       "      <td>0.995278</td>\n",
       "    </tr>\n",
       "    <tr>\n",
       "      <th>75</th>\n",
       "      <td>V12</td>\n",
       "      <td>V6</td>\n",
       "      <td>V27</td>\n",
       "      <td>V1</td>\n",
       "      <td>V28</td>\n",
       "      <td>V26</td>\n",
       "      <td>V23</td>\n",
       "      <td>V18</td>\n",
       "      <td>V9</td>\n",
       "      <td>V13</td>\n",
       "      <td>0.995857</td>\n",
       "    </tr>\n",
       "    <tr>\n",
       "      <th>76</th>\n",
       "      <td>V12</td>\n",
       "      <td>V27</td>\n",
       "      <td>V25</td>\n",
       "      <td>V24</td>\n",
       "      <td>V15</td>\n",
       "      <td>V9</td>\n",
       "      <td>V2</td>\n",
       "      <td>V28</td>\n",
       "      <td>V13</td>\n",
       "      <td>V16</td>\n",
       "      <td>0.997683</td>\n",
       "    </tr>\n",
       "    <tr>\n",
       "      <th>77</th>\n",
       "      <td>V21</td>\n",
       "      <td>V16</td>\n",
       "      <td>V5</td>\n",
       "      <td>V1</td>\n",
       "      <td>V24</td>\n",
       "      <td>V23</td>\n",
       "      <td>V13</td>\n",
       "      <td>V10</td>\n",
       "      <td>V6</td>\n",
       "      <td>V9</td>\n",
       "      <td>0.995945</td>\n",
       "    </tr>\n",
       "    <tr>\n",
       "      <th>78</th>\n",
       "      <td>V5</td>\n",
       "      <td>V10</td>\n",
       "      <td>V1</td>\n",
       "      <td>V18</td>\n",
       "      <td>V13</td>\n",
       "      <td>V16</td>\n",
       "      <td>V2</td>\n",
       "      <td>V25</td>\n",
       "      <td>V11</td>\n",
       "      <td>V3</td>\n",
       "      <td>0.994698</td>\n",
       "    </tr>\n",
       "    <tr>\n",
       "      <th>79</th>\n",
       "      <td>V25</td>\n",
       "      <td>V21</td>\n",
       "      <td>V26</td>\n",
       "      <td>V2</td>\n",
       "      <td>V28</td>\n",
       "      <td>V24</td>\n",
       "      <td>V16</td>\n",
       "      <td>V13</td>\n",
       "      <td>V23</td>\n",
       "      <td>V6</td>\n",
       "      <td>0.994540</td>\n",
       "    </tr>\n",
       "    <tr>\n",
       "      <th>80</th>\n",
       "      <td>V27</td>\n",
       "      <td>V9</td>\n",
       "      <td>V21</td>\n",
       "      <td>V16</td>\n",
       "      <td>V23</td>\n",
       "      <td>V3</td>\n",
       "      <td>V26</td>\n",
       "      <td>V5</td>\n",
       "      <td>V1</td>\n",
       "      <td>V6</td>\n",
       "      <td>0.994716</td>\n",
       "    </tr>\n",
       "    <tr>\n",
       "      <th>81</th>\n",
       "      <td>V10</td>\n",
       "      <td>V15</td>\n",
       "      <td>V5</td>\n",
       "      <td>V13</td>\n",
       "      <td>V11</td>\n",
       "      <td>V16</td>\n",
       "      <td>V6</td>\n",
       "      <td>V12</td>\n",
       "      <td>V1</td>\n",
       "      <td>V21</td>\n",
       "      <td>0.997858</td>\n",
       "    </tr>\n",
       "    <tr>\n",
       "      <th>82</th>\n",
       "      <td>V25</td>\n",
       "      <td>V1</td>\n",
       "      <td>V21</td>\n",
       "      <td>V5</td>\n",
       "      <td>V27</td>\n",
       "      <td>V18</td>\n",
       "      <td>V28</td>\n",
       "      <td>V23</td>\n",
       "      <td>V16</td>\n",
       "      <td>V13</td>\n",
       "      <td>0.995137</td>\n",
       "    </tr>\n",
       "    <tr>\n",
       "      <th>83</th>\n",
       "      <td>V12</td>\n",
       "      <td>V24</td>\n",
       "      <td>V28</td>\n",
       "      <td>V23</td>\n",
       "      <td>V5</td>\n",
       "      <td>V18</td>\n",
       "      <td>V27</td>\n",
       "      <td>V3</td>\n",
       "      <td>V2</td>\n",
       "      <td>V9</td>\n",
       "      <td>0.997156</td>\n",
       "    </tr>\n",
       "    <tr>\n",
       "      <th>84</th>\n",
       "      <td>V27</td>\n",
       "      <td>V28</td>\n",
       "      <td>V25</td>\n",
       "      <td>V26</td>\n",
       "      <td>V2</td>\n",
       "      <td>V23</td>\n",
       "      <td>V12</td>\n",
       "      <td>V21</td>\n",
       "      <td>V9</td>\n",
       "      <td>V16</td>\n",
       "      <td>0.996436</td>\n",
       "    </tr>\n",
       "    <tr>\n",
       "      <th>85</th>\n",
       "      <td>V10</td>\n",
       "      <td>V9</td>\n",
       "      <td>V2</td>\n",
       "      <td>V13</td>\n",
       "      <td>V21</td>\n",
       "      <td>V18</td>\n",
       "      <td>V23</td>\n",
       "      <td>V25</td>\n",
       "      <td>V27</td>\n",
       "      <td>V28</td>\n",
       "      <td>0.995330</td>\n",
       "    </tr>\n",
       "    <tr>\n",
       "      <th>86</th>\n",
       "      <td>V23</td>\n",
       "      <td>V16</td>\n",
       "      <td>V2</td>\n",
       "      <td>V21</td>\n",
       "      <td>V25</td>\n",
       "      <td>V9</td>\n",
       "      <td>V13</td>\n",
       "      <td>V12</td>\n",
       "      <td>V5</td>\n",
       "      <td>V11</td>\n",
       "      <td>0.998490</td>\n",
       "    </tr>\n",
       "    <tr>\n",
       "      <th>87</th>\n",
       "      <td>V6</td>\n",
       "      <td>V11</td>\n",
       "      <td>V3</td>\n",
       "      <td>V23</td>\n",
       "      <td>V5</td>\n",
       "      <td>V15</td>\n",
       "      <td>V18</td>\n",
       "      <td>V2</td>\n",
       "      <td>V21</td>\n",
       "      <td>V27</td>\n",
       "      <td>0.995032</td>\n",
       "    </tr>\n",
       "    <tr>\n",
       "      <th>88</th>\n",
       "      <td>V16</td>\n",
       "      <td>V10</td>\n",
       "      <td>V9</td>\n",
       "      <td>V26</td>\n",
       "      <td>V21</td>\n",
       "      <td>V24</td>\n",
       "      <td>V28</td>\n",
       "      <td>V27</td>\n",
       "      <td>V5</td>\n",
       "      <td>V11</td>\n",
       "      <td>0.996893</td>\n",
       "    </tr>\n",
       "    <tr>\n",
       "      <th>89</th>\n",
       "      <td>V1</td>\n",
       "      <td>V13</td>\n",
       "      <td>V10</td>\n",
       "      <td>V12</td>\n",
       "      <td>V9</td>\n",
       "      <td>V11</td>\n",
       "      <td>V27</td>\n",
       "      <td>V26</td>\n",
       "      <td>V28</td>\n",
       "      <td>V5</td>\n",
       "      <td>0.997964</td>\n",
       "    </tr>\n",
       "    <tr>\n",
       "      <th>90</th>\n",
       "      <td>V27</td>\n",
       "      <td>V2</td>\n",
       "      <td>V9</td>\n",
       "      <td>V18</td>\n",
       "      <td>V21</td>\n",
       "      <td>V23</td>\n",
       "      <td>V12</td>\n",
       "      <td>V28</td>\n",
       "      <td>V10</td>\n",
       "      <td>V5</td>\n",
       "      <td>0.997788</td>\n",
       "    </tr>\n",
       "    <tr>\n",
       "      <th>91</th>\n",
       "      <td>V15</td>\n",
       "      <td>V3</td>\n",
       "      <td>V10</td>\n",
       "      <td>V18</td>\n",
       "      <td>V11</td>\n",
       "      <td>V23</td>\n",
       "      <td>V26</td>\n",
       "      <td>V24</td>\n",
       "      <td>V9</td>\n",
       "      <td>V21</td>\n",
       "      <td>0.994909</td>\n",
       "    </tr>\n",
       "    <tr>\n",
       "      <th>92</th>\n",
       "      <td>V24</td>\n",
       "      <td>V9</td>\n",
       "      <td>V10</td>\n",
       "      <td>V16</td>\n",
       "      <td>V27</td>\n",
       "      <td>V13</td>\n",
       "      <td>V5</td>\n",
       "      <td>V28</td>\n",
       "      <td>V21</td>\n",
       "      <td>V23</td>\n",
       "      <td>0.995541</td>\n",
       "    </tr>\n",
       "    <tr>\n",
       "      <th>93</th>\n",
       "      <td>V15</td>\n",
       "      <td>V25</td>\n",
       "      <td>V27</td>\n",
       "      <td>V26</td>\n",
       "      <td>V28</td>\n",
       "      <td>V9</td>\n",
       "      <td>V2</td>\n",
       "      <td>V10</td>\n",
       "      <td>V16</td>\n",
       "      <td>V1</td>\n",
       "      <td>0.996138</td>\n",
       "    </tr>\n",
       "    <tr>\n",
       "      <th>94</th>\n",
       "      <td>V5</td>\n",
       "      <td>V27</td>\n",
       "      <td>V12</td>\n",
       "      <td>V18</td>\n",
       "      <td>V26</td>\n",
       "      <td>V28</td>\n",
       "      <td>V10</td>\n",
       "      <td>V25</td>\n",
       "      <td>V1</td>\n",
       "      <td>V9</td>\n",
       "      <td>0.997999</td>\n",
       "    </tr>\n",
       "    <tr>\n",
       "      <th>95</th>\n",
       "      <td>V15</td>\n",
       "      <td>V10</td>\n",
       "      <td>V24</td>\n",
       "      <td>V2</td>\n",
       "      <td>V9</td>\n",
       "      <td>V5</td>\n",
       "      <td>V21</td>\n",
       "      <td>V18</td>\n",
       "      <td>V1</td>\n",
       "      <td>V11</td>\n",
       "      <td>0.996419</td>\n",
       "    </tr>\n",
       "    <tr>\n",
       "      <th>96</th>\n",
       "      <td>V12</td>\n",
       "      <td>V9</td>\n",
       "      <td>V11</td>\n",
       "      <td>V6</td>\n",
       "      <td>V5</td>\n",
       "      <td>V2</td>\n",
       "      <td>V18</td>\n",
       "      <td>V3</td>\n",
       "      <td>V24</td>\n",
       "      <td>V26</td>\n",
       "      <td>0.996647</td>\n",
       "    </tr>\n",
       "    <tr>\n",
       "      <th>97</th>\n",
       "      <td>V11</td>\n",
       "      <td>V9</td>\n",
       "      <td>V5</td>\n",
       "      <td>V18</td>\n",
       "      <td>V6</td>\n",
       "      <td>V24</td>\n",
       "      <td>V10</td>\n",
       "      <td>V15</td>\n",
       "      <td>V25</td>\n",
       "      <td>V3</td>\n",
       "      <td>0.994400</td>\n",
       "    </tr>\n",
       "    <tr>\n",
       "      <th>98</th>\n",
       "      <td>V6</td>\n",
       "      <td>V2</td>\n",
       "      <td>V11</td>\n",
       "      <td>V10</td>\n",
       "      <td>V1</td>\n",
       "      <td>V3</td>\n",
       "      <td>V21</td>\n",
       "      <td>V15</td>\n",
       "      <td>V26</td>\n",
       "      <td>V5</td>\n",
       "      <td>0.995172</td>\n",
       "    </tr>\n",
       "    <tr>\n",
       "      <th>99</th>\n",
       "      <td>V3</td>\n",
       "      <td>V1</td>\n",
       "      <td>V5</td>\n",
       "      <td>V11</td>\n",
       "      <td>V18</td>\n",
       "      <td>V27</td>\n",
       "      <td>V12</td>\n",
       "      <td>V25</td>\n",
       "      <td>V2</td>\n",
       "      <td>V24</td>\n",
       "      <td>0.995927</td>\n",
       "    </tr>\n",
       "  </tbody>\n",
       "</table>\n",
       "<p>100 rows × 11 columns</p>\n",
       "</div>"
      ],
      "text/plain": [
       "   feature_0 feature_1 feature_2 feature_3 feature_4 feature_5 feature_6  \\\n",
       "0         V6        V2       V15        V1        V5       V12       V16   \n",
       "1         V2       V27       V16       V11       V21       V23       V13   \n",
       "2        V18       V24       V25       V23        V5       V15        V2   \n",
       "3        V16       V21        V3       V24        V5       V15       V13   \n",
       "4        V16       V10       V12       V26        V2       V23       V18   \n",
       "5        V28        V5       V13        V6       V25       V16       V24   \n",
       "6        V10       V24       V15        V9       V12       V26       V27   \n",
       "7        V13       V25        V3       V15        V1        V6       V26   \n",
       "8        V15       V25       V10       V23       V21       V18        V1   \n",
       "9        V13       V15       V16       V25       V21       V12        V9   \n",
       "10        V3       V15       V25       V10       V21        V9       V27   \n",
       "11       V27        V2       V28       V11       V24       V16        V5   \n",
       "12       V18       V21       V16        V1       V28        V2       V10   \n",
       "13       V18       V11       V23       V15        V3       V12       V21   \n",
       "14       V15        V6       V16       V24       V25       V28       V10   \n",
       "15       V15       V24       V26       V12        V1       V18       V13   \n",
       "16        V2       V24       V27        V5        V3       V23       V25   \n",
       "17       V12       V10       V25        V5        V3       V11       V15   \n",
       "18        V1       V18       V10       V28       V27       V13       V12   \n",
       "19       V12        V5       V15       V21        V3       V10        V1   \n",
       "20        V6        V3       V10       V23        V1       V24       V12   \n",
       "21       V16       V23       V12       V27        V2       V11       V28   \n",
       "22        V2       V10       V28        V9       V16       V25       V12   \n",
       "23        V9       V24       V16       V10       V18       V26       V12   \n",
       "24       V15        V9       V21        V1       V28       V16        V6   \n",
       "25       V12       V26       V11       V18       V27       V21        V6   \n",
       "26       V11        V5       V10       V27        V3        V9       V25   \n",
       "27        V5       V26        V3       V28       V12       V10       V18   \n",
       "28       V13       V12       V10        V3       V26       V18       V24   \n",
       "29       V18       V21       V10       V23        V5        V2        V9   \n",
       "..       ...       ...       ...       ...       ...       ...       ...   \n",
       "70       V23        V5        V2       V27        V3       V26       V21   \n",
       "71       V26       V12       V24        V1        V6       V15       V18   \n",
       "72        V3        V1       V13       V11       V16       V18        V5   \n",
       "73       V10       V15       V21        V9       V16        V1        V5   \n",
       "74        V6       V16       V21        V9       V15       V11       V25   \n",
       "75       V12        V6       V27        V1       V28       V26       V23   \n",
       "76       V12       V27       V25       V24       V15        V9        V2   \n",
       "77       V21       V16        V5        V1       V24       V23       V13   \n",
       "78        V5       V10        V1       V18       V13       V16        V2   \n",
       "79       V25       V21       V26        V2       V28       V24       V16   \n",
       "80       V27        V9       V21       V16       V23        V3       V26   \n",
       "81       V10       V15        V5       V13       V11       V16        V6   \n",
       "82       V25        V1       V21        V5       V27       V18       V28   \n",
       "83       V12       V24       V28       V23        V5       V18       V27   \n",
       "84       V27       V28       V25       V26        V2       V23       V12   \n",
       "85       V10        V9        V2       V13       V21       V18       V23   \n",
       "86       V23       V16        V2       V21       V25        V9       V13   \n",
       "87        V6       V11        V3       V23        V5       V15       V18   \n",
       "88       V16       V10        V9       V26       V21       V24       V28   \n",
       "89        V1       V13       V10       V12        V9       V11       V27   \n",
       "90       V27        V2        V9       V18       V21       V23       V12   \n",
       "91       V15        V3       V10       V18       V11       V23       V26   \n",
       "92       V24        V9       V10       V16       V27       V13        V5   \n",
       "93       V15       V25       V27       V26       V28        V9        V2   \n",
       "94        V5       V27       V12       V18       V26       V28       V10   \n",
       "95       V15       V10       V24        V2        V9        V5       V21   \n",
       "96       V12        V9       V11        V6        V5        V2       V18   \n",
       "97       V11        V9        V5       V18        V6       V24       V10   \n",
       "98        V6        V2       V11       V10        V1        V3       V21   \n",
       "99        V3        V1        V5       V11       V18       V27       V12   \n",
       "\n",
       "   feature_7 feature_8 feature_9  accuracy  \n",
       "0         V9       V21       V24  0.998051  \n",
       "1        V26        V5       V24  0.997226  \n",
       "2        V27       V10       V28  0.995348  \n",
       "3        V23       V11        V6  0.995313  \n",
       "4        V28       V27        V6  0.997806  \n",
       "5         V9       V12       V11  0.998069  \n",
       "6         V6       V25       V28  0.997770  \n",
       "7        V10        V2        V9  0.995137  \n",
       "8        V11        V3        V5  0.994593  \n",
       "9        V11        V1       V24  0.998438  \n",
       "10        V6        V5       V18  0.995014  \n",
       "11       V15       V18       V10  0.995646  \n",
       "12        V6        V9       V26  0.996348  \n",
       "13       V27        V6       V24  0.996594  \n",
       "14       V21       V27        V3  0.995576  \n",
       "15       V16        V3        V5  0.997033  \n",
       "16       V28       V11       V18  0.995032  \n",
       "17       V13        V1       V21  0.997437  \n",
       "18       V26       V25       V21  0.997560  \n",
       "19       V13       V27       V24  0.997964  \n",
       "20       V28        V9       V16  0.998086  \n",
       "21       V25        V1       V18  0.997367  \n",
       "22       V15        V6       V13  0.998192  \n",
       "23       V11       V28       V27  0.997296  \n",
       "24       V18       V27       V12  0.997630  \n",
       "25       V10       V13       V23  0.997349  \n",
       "26       V18       V16        V2  0.995137  \n",
       "27       V27       V11        V9  0.997419  \n",
       "28       V15        V5       V28  0.997788  \n",
       "29       V11       V15        V1  0.996155  \n",
       "..       ...       ...       ...       ...  \n",
       "70       V24       V16       V10  0.995471  \n",
       "71       V23        V5        V3  0.997244  \n",
       "72        V9       V21        V2  0.995734  \n",
       "73       V23       V25       V18  0.995980  \n",
       "74       V13        V5        V3  0.995278  \n",
       "75       V18        V9       V13  0.995857  \n",
       "76       V28       V13       V16  0.997683  \n",
       "77       V10        V6        V9  0.995945  \n",
       "78       V25       V11        V3  0.994698  \n",
       "79       V13       V23        V6  0.994540  \n",
       "80        V5        V1        V6  0.994716  \n",
       "81       V12        V1       V21  0.997858  \n",
       "82       V23       V16       V13  0.995137  \n",
       "83        V3        V2        V9  0.997156  \n",
       "84       V21        V9       V16  0.996436  \n",
       "85       V25       V27       V28  0.995330  \n",
       "86       V12        V5       V11  0.998490  \n",
       "87        V2       V21       V27  0.995032  \n",
       "88       V27        V5       V11  0.996893  \n",
       "89       V26       V28        V5  0.997964  \n",
       "90       V28       V10        V5  0.997788  \n",
       "91       V24        V9       V21  0.994909  \n",
       "92       V28       V21       V23  0.995541  \n",
       "93       V10       V16        V1  0.996138  \n",
       "94       V25        V1        V9  0.997999  \n",
       "95       V18        V1       V11  0.996419  \n",
       "96        V3       V24       V26  0.996647  \n",
       "97       V15       V25        V3  0.994400  \n",
       "98       V15       V26        V5  0.995172  \n",
       "99       V25        V2       V24  0.995927  \n",
       "\n",
       "[100 rows x 11 columns]"
      ]
     },
     "execution_count": 16,
     "metadata": {},
     "output_type": "execute_result"
    }
   ],
   "source": [
    "permutation_test_df.reset_index(drop=True)\n"
   ]
  },
  {
   "cell_type": "code",
   "execution_count": 17,
   "metadata": {},
   "outputs": [],
   "source": [
    "permutation_test_df.sort_values(\"accuracy\", ascending=False, inplace=True)"
   ]
  },
  {
   "cell_type": "code",
   "execution_count": 18,
   "metadata": {},
   "outputs": [],
   "source": [
    "permutation_test_df.to_csv(\"PermutationTest (without OOB_10 Features).csv\")"
   ]
  },
  {
   "cell_type": "markdown",
   "metadata": {},
   "source": [
    "# 3. Compare Results"
   ]
  },
  {
   "cell_type": "code",
   "execution_count": 19,
   "metadata": {},
   "outputs": [],
   "source": [
    "OOB_10=pd.read_csv(\"../7. Modeling - DecisionTree AdaBoost/AdaBoost (AllFeatures - OOB - 10).csv\", index_col=0)\n",
    "df_permutation_Test = pd.read_csv(\"PermutationTest (without OOB_10 Features).csv\", index_col=0)"
   ]
  },
  {
   "cell_type": "code",
   "execution_count": 20,
   "metadata": {
    "scrolled": true
   },
   "outputs": [
    {
     "data": {
      "text/html": [
       "<div>\n",
       "<style scoped>\n",
       "    .dataframe tbody tr th:only-of-type {\n",
       "        vertical-align: middle;\n",
       "    }\n",
       "\n",
       "    .dataframe tbody tr th {\n",
       "        vertical-align: top;\n",
       "    }\n",
       "\n",
       "    .dataframe thead th {\n",
       "        text-align: right;\n",
       "    }\n",
       "</style>\n",
       "<table border=\"1\" class=\"dataframe\">\n",
       "  <thead>\n",
       "    <tr style=\"text-align: right;\">\n",
       "      <th></th>\n",
       "      <th>feature_0</th>\n",
       "      <th>feature_1</th>\n",
       "      <th>feature_2</th>\n",
       "      <th>feature_3</th>\n",
       "      <th>feature_4</th>\n",
       "      <th>feature_5</th>\n",
       "      <th>feature_6</th>\n",
       "      <th>feature_7</th>\n",
       "      <th>feature_8</th>\n",
       "      <th>feature_9</th>\n",
       "      <th>accuracy</th>\n",
       "    </tr>\n",
       "  </thead>\n",
       "  <tbody>\n",
       "    <tr>\n",
       "      <th>172</th>\n",
       "      <td>V23</td>\n",
       "      <td>V16</td>\n",
       "      <td>V2</td>\n",
       "      <td>V21</td>\n",
       "      <td>V25</td>\n",
       "      <td>V9</td>\n",
       "      <td>V13</td>\n",
       "      <td>V12</td>\n",
       "      <td>V5</td>\n",
       "      <td>V11</td>\n",
       "      <td>0.99849</td>\n",
       "    </tr>\n",
       "  </tbody>\n",
       "</table>\n",
       "</div>"
      ],
      "text/plain": [
       "    feature_0 feature_1 feature_2 feature_3 feature_4 feature_5 feature_6  \\\n",
       "172       V23       V16        V2       V21       V25        V9       V13   \n",
       "\n",
       "    feature_7 feature_8 feature_9  accuracy  \n",
       "172       V12        V5       V11   0.99849  "
      ]
     },
     "execution_count": 20,
     "metadata": {},
     "output_type": "execute_result"
    }
   ],
   "source": [
    "df_permutation_Test[df_permutation_Test['accuracy'] == df_permutation_Test['accuracy'].max()]"
   ]
  },
  {
   "cell_type": "code",
   "execution_count": 21,
   "metadata": {
    "scrolled": true
   },
   "outputs": [
    {
     "data": {
      "text/html": [
       "<div>\n",
       "<style scoped>\n",
       "    .dataframe tbody tr th:only-of-type {\n",
       "        vertical-align: middle;\n",
       "    }\n",
       "\n",
       "    .dataframe tbody tr th {\n",
       "        vertical-align: top;\n",
       "    }\n",
       "\n",
       "    .dataframe thead th {\n",
       "        text-align: right;\n",
       "    }\n",
       "</style>\n",
       "<table border=\"1\" class=\"dataframe\">\n",
       "  <thead>\n",
       "    <tr style=\"text-align: right;\">\n",
       "      <th></th>\n",
       "      <th>OOB</th>\n",
       "    </tr>\n",
       "    <tr>\n",
       "      <th>Name</th>\n",
       "      <th></th>\n",
       "    </tr>\n",
       "  </thead>\n",
       "  <tbody>\n",
       "    <tr>\n",
       "      <th>V14</th>\n",
       "      <td>0.224588</td>\n",
       "    </tr>\n",
       "    <tr>\n",
       "      <th>V4</th>\n",
       "      <td>0.128590</td>\n",
       "    </tr>\n",
       "    <tr>\n",
       "      <th>V8</th>\n",
       "      <td>0.070321</td>\n",
       "    </tr>\n",
       "    <tr>\n",
       "      <th>V22</th>\n",
       "      <td>0.066843</td>\n",
       "    </tr>\n",
       "    <tr>\n",
       "      <th>Scaled_Time</th>\n",
       "      <td>0.063753</td>\n",
       "    </tr>\n",
       "    <tr>\n",
       "      <th>V17</th>\n",
       "      <td>0.063116</td>\n",
       "    </tr>\n",
       "    <tr>\n",
       "      <th>V19</th>\n",
       "      <td>0.052250</td>\n",
       "    </tr>\n",
       "    <tr>\n",
       "      <th>V20</th>\n",
       "      <td>0.051026</td>\n",
       "    </tr>\n",
       "    <tr>\n",
       "      <th>Scaled_Amount</th>\n",
       "      <td>0.047106</td>\n",
       "    </tr>\n",
       "    <tr>\n",
       "      <th>V7</th>\n",
       "      <td>0.044566</td>\n",
       "    </tr>\n",
       "  </tbody>\n",
       "</table>\n",
       "</div>"
      ],
      "text/plain": [
       "                    OOB\n",
       "Name                   \n",
       "V14            0.224588\n",
       "V4             0.128590\n",
       "V8             0.070321\n",
       "V22            0.066843\n",
       "Scaled_Time    0.063753\n",
       "V17            0.063116\n",
       "V19            0.052250\n",
       "V20            0.051026\n",
       "Scaled_Amount  0.047106\n",
       "V7             0.044566"
      ]
     },
     "execution_count": 21,
     "metadata": {},
     "output_type": "execute_result"
    }
   ],
   "source": [
    "OOB_10"
   ]
  },
  {
   "cell_type": "code",
   "execution_count": 22,
   "metadata": {},
   "outputs": [
    {
     "data": {
      "text/plain": [
       "['V23', 'V16', 'V2', 'V21', 'V25', 'V9', 'V13', 'V12', 'V5', 'V11']"
      ]
     },
     "execution_count": 22,
     "metadata": {},
     "output_type": "execute_result"
    }
   ],
   "source": [
    "feature_permutationTest = df_permutation_Test[df_permutation_Test['accuracy'] == df_permutation_Test['accuracy'].max()].values\n",
    "for e in feature_permutationTest:\n",
    "    result_feature_perm = list(e[:10])\n",
    "result_feature_perm"
   ]
  },
  {
   "cell_type": "code",
   "execution_count": 23,
   "metadata": {},
   "outputs": [
    {
     "data": {
      "text/plain": [
       "['V23', 'V16', 'V2', 'V21', 'V25', 'V9', 'V13', 'V12', 'V5', 'V11']"
      ]
     },
     "execution_count": 23,
     "metadata": {},
     "output_type": "execute_result"
    }
   ],
   "source": [
    "result_feature_perm"
   ]
  },
  {
   "cell_type": "code",
   "execution_count": 24,
   "metadata": {},
   "outputs": [],
   "source": [
    "intersectionFeaturesDF = pd.DataFrame(result_feature_perm, columns=['Features Intersection'])"
   ]
  },
  {
   "cell_type": "code",
   "execution_count": 26,
   "metadata": {},
   "outputs": [],
   "source": [
    "intersectionFeaturesDF.to_csv(\"IntersectionFeaturesAdaBoostPermutationwithoutOOB.csv\")"
   ]
  },
  {
   "cell_type": "code",
   "execution_count": null,
   "metadata": {},
   "outputs": [],
   "source": []
  }
 ],
 "metadata": {
  "kernelspec": {
   "display_name": "Python 3",
   "language": "python",
   "name": "python3"
  },
  "language_info": {
   "codemirror_mode": {
    "name": "ipython",
    "version": 3
   },
   "file_extension": ".py",
   "mimetype": "text/x-python",
   "name": "python",
   "nbconvert_exporter": "python",
   "pygments_lexer": "ipython3",
   "version": "3.6.4"
  }
 },
 "nbformat": 4,
 "nbformat_minor": 2
}
