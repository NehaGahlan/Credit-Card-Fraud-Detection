{
 "cells": [
  {
   "cell_type": "code",
   "execution_count": 1,
   "metadata": {},
   "outputs": [
    {
     "name": "stderr",
     "output_type": "stream",
     "text": [
      "C:\\Users\\Pappa\\Anaconda3\\lib\\site-packages\\sklearn\\externals\\joblib\\__init__.py:15: DeprecationWarning: sklearn.externals.joblib is deprecated in 0.21 and will be removed in 0.23. Please import this functionality directly from joblib, which can be installed with: pip install joblib. If this warning is raised when loading pickled models, you may need to re-serialize those models with scikit-learn 0.21+.\n",
      "  warnings.warn(msg, category=DeprecationWarning)\n"
     ]
    }
   ],
   "source": [
    "import pandas as pd\n",
    "import numpy as np\n",
    "from sklearn.ensemble import RandomForestClassifier\n",
    "import matplotlib.pyplot as plt\n",
    "import matplotlib.gridspec as gridspec\n",
    "from sklearn.metrics import precision_score, recall_score, accuracy_score, classification_report, roc_curve, precision_recall_curve, confusion_matrix, f1_score, average_precision_score, cohen_kappa_score\n",
    "from inspect import signature\n",
    "from sklearn.externals import joblib\n",
    "from sklearn.metrics import classification_report"
   ]
  },
  {
   "cell_type": "markdown",
   "metadata": {},
   "source": [
    "# 1. Prepare Data"
   ]
  },
  {
   "cell_type": "code",
   "execution_count": 2,
   "metadata": {},
   "outputs": [
    {
     "data": {
      "text/plain": [
       "(9, 1)"
      ]
     },
     "execution_count": 2,
     "metadata": {},
     "output_type": "execute_result"
    }
   ],
   "source": [
    "OOB_9 = pd.read_csv(\"../5. Modeling - Random Forest/Random Forest (AllFeatures - OOB - 9).csv\", index_col=0)\n",
    "OOB_9.shape"
   ]
  },
  {
   "cell_type": "code",
   "execution_count": 3,
   "metadata": {},
   "outputs": [
    {
     "data": {
      "text/plain": [
       "(1848, 30)"
      ]
     },
     "execution_count": 3,
     "metadata": {},
     "output_type": "execute_result"
    }
   ],
   "source": [
    "X_train_resampled = pd.read_csv(\"../3. Data Preparation/X_train_resampled.csv\", index_col=0)\n",
    "X_train_resampled.shape"
   ]
  },
  {
   "cell_type": "code",
   "execution_count": 4,
   "metadata": {},
   "outputs": [
    {
     "data": {
      "text/plain": [
       "(1848, 1)"
      ]
     },
     "execution_count": 4,
     "metadata": {},
     "output_type": "execute_result"
    }
   ],
   "source": [
    "y_train_resampled = pd.read_csv(\"../3. Data Preparation/y_train_resampled.csv\", index_col=0)\n",
    "y_train_resampled.shape"
   ]
  },
  {
   "cell_type": "code",
   "execution_count": 5,
   "metadata": {},
   "outputs": [
    {
     "data": {
      "text/plain": [
       "(56962, 30)"
      ]
     },
     "execution_count": 5,
     "metadata": {},
     "output_type": "execute_result"
    }
   ],
   "source": [
    "X_val = pd.read_csv(\"../3. Data Preparation/X_val.csv\", index_col=0)\n",
    "X_val.shape"
   ]
  },
  {
   "cell_type": "code",
   "execution_count": 6,
   "metadata": {},
   "outputs": [
    {
     "data": {
      "text/plain": [
       "(56962, 1)"
      ]
     },
     "execution_count": 6,
     "metadata": {},
     "output_type": "execute_result"
    }
   ],
   "source": [
    "y_val = pd.read_csv(\"../3. Data Preparation/y_val.csv\", index_col=0, header=0)\n",
    "y_val.shape"
   ]
  },
  {
   "cell_type": "code",
   "execution_count": 9,
   "metadata": {},
   "outputs": [],
   "source": [
    "target_names=['Not Fraud 0', 'Fraud 1']"
   ]
  },
  {
   "cell_type": "code",
   "execution_count": 7,
   "metadata": {},
   "outputs": [],
   "source": [
    "dim=100"
   ]
  },
  {
   "cell_type": "markdown",
   "metadata": {},
   "source": [
    "# 2. Grid Search "
   ]
  },
  {
   "cell_type": "code",
   "execution_count": 8,
   "metadata": {
    "scrolled": true
   },
   "outputs": [
    {
     "name": "stdout",
     "output_type": "stream",
     "text": [
      "21 0 0.9745670995670995\n",
      "21 1 0.9745670995670995\n",
      "21 2 0.9745670995670995\n",
      "21 3 0.9745670995670995\n",
      "21 4 0.9745670995670995\n",
      "21 5 0.9745670995670995\n",
      "21 6 0.9745670995670995\n",
      "21 7 0.9745670995670995\n",
      "21 8 0.9745670995670995\n",
      "21 9 0.9745670995670995\n",
      "21 10 0.9745670995670995\n",
      "21 11 0.9745670995670995\n",
      "21 12 0.9745670995670995\n",
      "21 13 0.9745670995670995\n",
      "21 14 0.9745670995670995\n",
      "21 15 0.9745670995670995\n",
      "21 16 0.9745670995670995\n",
      "21 17 0.9745670995670995\n",
      "21 18 0.9745670995670995\n",
      "21 19 0.9745670995670995\n",
      "21 20 0.9745670995670995\n",
      "21 21 0.9745670995670995\n",
      "21 22 0.9745670995670995\n",
      "21 23 0.9745670995670995\n",
      "21 24 0.9745670995670995\n",
      "21 25 0.9745670995670995\n",
      "21 26 0.9745670995670995\n",
      "21 27 0.9745670995670995\n",
      "21 28 0.9745670995670995\n",
      "21 29 0.9745670995670995\n",
      "21 30 0.9745670995670995\n",
      "21 31 0.9745670995670995\n",
      "21 32 0.9745670995670995\n",
      "21 33 0.9745670995670995\n",
      "21 34 0.9745670995670995\n",
      "21 35 0.9745670995670995\n",
      "21 36 0.9745670995670995\n",
      "21 37 0.9745670995670995\n",
      "21 38 0.9745670995670995\n",
      "21 39 0.9745670995670995\n",
      "21 40 0.9745670995670995\n",
      "21 41 0.9745670995670995\n",
      "21 42 0.9745670995670995\n",
      "21 43 0.9745670995670995\n",
      "21 44 0.9745670995670995\n",
      "21 45 0.9745670995670995\n",
      "21 46 0.9745670995670995\n",
      "21 47 0.9745670995670995\n",
      "21 48 0.9745670995670995\n",
      "21 49 0.9745670995670995\n",
      "21 50 0.9745670995670995\n",
      "21 51 0.9745670995670995\n",
      "21 52 0.9745670995670995\n",
      "21 53 0.9745670995670995\n",
      "21 54 0.9745670995670995\n",
      "21 55 0.9745670995670995\n",
      "21 56 0.9745670995670995\n",
      "21 57 0.9745670995670995\n",
      "21 58 0.9745670995670995\n",
      "21 59 0.9745670995670995\n",
      "21 60 0.9745670995670995\n",
      "21 61 0.9745670995670995\n",
      "21 62 0.9745670995670995\n",
      "21 63 0.9745670995670995\n",
      "21 64 0.9745670995670995\n",
      "21 65 0.9745670995670995\n",
      "21 66 0.9745670995670995\n",
      "21 67 0.9745670995670995\n",
      "21 68 0.9745670995670995\n",
      "21 69 0.9745670995670995\n",
      "21 70 0.9745670995670995\n",
      "21 71 0.9745670995670995\n",
      "21 72 0.9745670995670995\n",
      "21 73 0.9745670995670995\n",
      "21 74 0.9745670995670995\n",
      "21 75 0.9745670995670995\n",
      "21 76 0.9745670995670995\n",
      "21 77 0.9745670995670995\n",
      "21 78 0.9745670995670995\n",
      "21 79 0.9745670995670995\n",
      "21 80 0.9745670995670995\n",
      "21 81 0.9745670995670995\n",
      "21 82 0.9745670995670995\n",
      "21 83 0.9745670995670995\n",
      "21 84 0.9745670995670995\n",
      "21 85 0.9745670995670995\n",
      "21 86 0.9745670995670995\n",
      "21 87 0.9745670995670995\n",
      "21 88 0.9745670995670995\n",
      "21 89 0.9745670995670995\n",
      "21 90 0.9745670995670995\n",
      "21 91 0.9745670995670995\n",
      "21 92 0.9745670995670995\n",
      "21 93 0.9745670995670995\n",
      "21 94 0.9745670995670995\n",
      "21 95 0.9745670995670995\n",
      "21 96 0.9745670995670995\n",
      "21 97 0.9745670995670995\n",
      "21 98 0.9745670995670995\n",
      "21 99 0.9745670995670995\n",
      "27 0 0.9756493506493507\n",
      "27 1 0.9756493506493507\n",
      "27 2 0.9756493506493507\n",
      "27 3 0.9756493506493507\n",
      "27 4 0.9756493506493507\n",
      "27 5 0.9756493506493507\n",
      "27 6 0.9756493506493507\n",
      "27 7 0.9756493506493507\n",
      "27 8 0.9756493506493507\n",
      "27 9 0.9756493506493507\n",
      "27 10 0.9756493506493507\n",
      "27 11 0.9756493506493507\n",
      "27 12 0.9756493506493507\n",
      "27 13 0.9756493506493507\n",
      "27 14 0.9756493506493507\n",
      "27 15 0.9756493506493507\n",
      "27 16 0.9756493506493507\n",
      "27 17 0.9756493506493507\n",
      "27 18 0.9756493506493507\n",
      "27 19 0.9756493506493507\n",
      "27 20 0.9756493506493507\n",
      "27 21 0.9756493506493507\n",
      "27 22 0.9756493506493507\n",
      "27 23 0.9756493506493507\n",
      "27 24 0.9756493506493507\n",
      "27 25 0.9756493506493507\n",
      "27 26 0.9756493506493507\n",
      "27 27 0.9756493506493507\n",
      "27 28 0.9756493506493507\n",
      "27 29 0.9756493506493507\n",
      "27 30 0.9756493506493507\n",
      "27 31 0.9756493506493507\n",
      "27 32 0.9756493506493507\n",
      "27 33 0.9756493506493507\n",
      "27 34 0.9756493506493507\n",
      "27 35 0.9756493506493507\n",
      "27 36 0.9756493506493507\n",
      "27 37 0.9756493506493507\n",
      "27 38 0.9756493506493507\n",
      "27 39 0.9756493506493507\n",
      "27 40 0.9756493506493507\n",
      "27 41 0.9756493506493507\n",
      "27 42 0.9756493506493507\n",
      "27 43 0.9756493506493507\n",
      "27 44 0.9756493506493507\n",
      "27 45 0.9756493506493507\n",
      "27 46 0.9756493506493507\n",
      "27 47 0.9756493506493507\n",
      "27 48 0.9756493506493507\n",
      "27 49 0.9756493506493507\n",
      "27 50 0.9756493506493507\n",
      "27 51 0.9756493506493507\n",
      "27 52 0.9756493506493507\n",
      "27 53 0.9756493506493507\n",
      "27 54 0.9756493506493507\n",
      "27 55 0.9756493506493507\n",
      "27 56 0.9756493506493507\n",
      "27 57 0.9756493506493507\n",
      "27 58 0.9756493506493507\n",
      "27 59 0.9756493506493507\n",
      "27 60 0.9756493506493507\n",
      "27 61 0.9756493506493507\n",
      "27 62 0.9756493506493507\n",
      "27 63 0.9756493506493507\n",
      "27 64 0.9756493506493507\n",
      "27 65 0.9756493506493507\n",
      "27 66 0.9756493506493507\n",
      "27 67 0.9756493506493507\n",
      "27 68 0.9756493506493507\n",
      "27 69 0.9756493506493507\n",
      "27 70 0.9756493506493507\n",
      "27 71 0.9756493506493507\n",
      "27 72 0.9756493506493507\n",
      "27 73 0.9756493506493507\n",
      "27 74 0.9756493506493507\n",
      "27 75 0.9756493506493507\n",
      "27 76 0.9756493506493507\n",
      "27 77 0.9756493506493507\n",
      "27 78 0.9756493506493507\n",
      "27 79 0.9756493506493507\n",
      "27 80 0.9756493506493507\n",
      "27 81 0.9756493506493507\n",
      "27 82 0.9756493506493507\n",
      "27 83 0.9756493506493507\n",
      "27 84 0.9756493506493507\n",
      "27 85 0.9756493506493507\n",
      "27 86 0.9756493506493507\n",
      "27 87 0.9756493506493507\n",
      "27 88 0.9756493506493507\n",
      "27 89 0.9756493506493507\n",
      "27 90 0.9756493506493507\n",
      "27 91 0.9756493506493507\n",
      "27 92 0.9756493506493507\n",
      "27 93 0.9756493506493507\n",
      "27 94 0.9756493506493507\n",
      "27 95 0.9756493506493507\n",
      "27 96 0.9756493506493507\n",
      "27 97 0.9756493506493507\n",
      "27 98 0.9756493506493507\n",
      "27 99 0.9756493506493507\n",
      "31 0 0.9745670995670995\n",
      "31 1 0.9745670995670995\n",
      "31 2 0.9745670995670995\n",
      "31 3 0.9745670995670995\n",
      "31 4 0.9745670995670995\n",
      "31 5 0.9745670995670995\n",
      "31 6 0.9745670995670995\n",
      "31 7 0.9745670995670995\n",
      "31 8 0.9745670995670995\n",
      "31 9 0.9745670995670995\n",
      "31 10 0.9745670995670995\n",
      "31 11 0.9745670995670995\n",
      "31 12 0.9745670995670995\n",
      "31 13 0.9745670995670995\n",
      "31 14 0.9745670995670995\n",
      "31 15 0.9745670995670995\n",
      "31 16 0.9745670995670995\n",
      "31 17 0.9745670995670995\n",
      "31 18 0.9745670995670995\n",
      "31 19 0.9745670995670995\n",
      "31 20 0.9745670995670995\n",
      "31 21 0.9745670995670995\n",
      "31 22 0.9745670995670995\n",
      "31 23 0.9745670995670995\n",
      "31 24 0.9745670995670995\n",
      "31 25 0.9745670995670995\n",
      "31 26 0.9745670995670995\n",
      "31 27 0.9745670995670995\n",
      "31 28 0.9745670995670995\n",
      "31 29 0.9745670995670995\n",
      "31 30 0.9745670995670995\n",
      "31 31 0.9745670995670995\n",
      "31 32 0.9745670995670995\n",
      "31 33 0.9745670995670995\n",
      "31 34 0.9745670995670995\n",
      "31 35 0.9745670995670995\n",
      "31 36 0.9745670995670995\n",
      "31 37 0.9745670995670995\n",
      "31 38 0.9745670995670995\n",
      "31 39 0.9745670995670995\n",
      "31 40 0.9745670995670995\n",
      "31 41 0.9745670995670995\n",
      "31 42 0.9745670995670995\n",
      "31 43 0.9745670995670995\n",
      "31 44 0.9745670995670995\n",
      "31 45 0.9745670995670995\n",
      "31 46 0.9745670995670995\n",
      "31 47 0.9745670995670995\n",
      "31 48 0.9745670995670995\n",
      "31 49 0.9745670995670995\n",
      "31 50 0.9745670995670995\n",
      "31 51 0.9745670995670995\n",
      "31 52 0.9745670995670995\n",
      "31 53 0.9745670995670995\n",
      "31 54 0.9745670995670995\n",
      "31 55 0.9745670995670995\n",
      "31 56 0.9745670995670995\n",
      "31 57 0.9745670995670995\n",
      "31 58 0.9745670995670995\n",
      "31 59 0.9745670995670995\n",
      "31 60 0.9745670995670995\n",
      "31 61 0.9745670995670995\n",
      "31 62 0.9745670995670995\n",
      "31 63 0.9745670995670995\n",
      "31 64 0.9745670995670995\n",
      "31 65 0.9745670995670995\n",
      "31 66 0.9745670995670995\n",
      "31 67 0.9745670995670995\n",
      "31 68 0.9745670995670995\n",
      "31 69 0.9745670995670995\n",
      "31 70 0.9745670995670995\n",
      "31 71 0.9745670995670995\n",
      "31 72 0.9745670995670995\n",
      "31 73 0.9745670995670995\n",
      "31 74 0.9745670995670995\n",
      "31 75 0.9745670995670995\n",
      "31 76 0.9745670995670995\n",
      "31 77 0.9745670995670995\n",
      "31 78 0.9745670995670995\n",
      "31 79 0.9745670995670995\n",
      "31 80 0.9745670995670995\n",
      "31 81 0.9745670995670995\n",
      "31 82 0.9745670995670995\n",
      "31 83 0.9745670995670995\n",
      "31 84 0.9745670995670995\n",
      "31 85 0.9745670995670995\n",
      "31 86 0.9745670995670995\n",
      "31 87 0.9745670995670995\n",
      "31 88 0.9745670995670995\n",
      "31 89 0.9745670995670995\n",
      "31 90 0.9745670995670995\n",
      "31 91 0.9745670995670995\n",
      "31 92 0.9745670995670995\n",
      "31 93 0.9745670995670995\n",
      "31 94 0.9745670995670995\n",
      "31 95 0.9745670995670995\n",
      "31 96 0.9745670995670995\n",
      "31 97 0.9745670995670995\n",
      "31 98 0.9745670995670995\n",
      "31 99 0.9745670995670995\n",
      "35 0 0.9751082251082251\n",
      "35 1 0.9751082251082251\n",
      "35 2 0.9751082251082251\n",
      "35 3 0.9751082251082251\n",
      "35 4 0.9751082251082251\n",
      "35 5 0.9751082251082251\n",
      "35 6 0.9751082251082251\n",
      "35 7 0.9751082251082251\n",
      "35 8 0.9751082251082251\n",
      "35 9 0.9751082251082251\n",
      "35 10 0.9751082251082251\n",
      "35 11 0.9751082251082251\n",
      "35 12 0.9751082251082251\n",
      "35 13 0.9751082251082251\n",
      "35 14 0.9751082251082251\n",
      "35 15 0.9751082251082251\n",
      "35 16 0.9751082251082251\n",
      "35 17 0.9751082251082251\n",
      "35 18 0.9751082251082251\n",
      "35 19 0.9751082251082251\n",
      "35 20 0.9751082251082251\n",
      "35 21 0.9751082251082251\n",
      "35 22 0.9751082251082251\n",
      "35 23 0.9751082251082251\n",
      "35 24 0.9751082251082251\n",
      "35 25 0.9751082251082251\n",
      "35 26 0.9751082251082251\n",
      "35 27 0.9751082251082251\n",
      "35 28 0.9751082251082251\n",
      "35 29 0.9751082251082251\n"
     ]
    },
    {
     "name": "stdout",
     "output_type": "stream",
     "text": [
      "35 30 0.9751082251082251\n",
      "35 31 0.9751082251082251\n",
      "35 32 0.9751082251082251\n",
      "35 33 0.9751082251082251\n",
      "35 34 0.9751082251082251\n",
      "35 35 0.9751082251082251\n",
      "35 36 0.9751082251082251\n",
      "35 37 0.9751082251082251\n",
      "35 38 0.9751082251082251\n",
      "35 39 0.9751082251082251\n",
      "35 40 0.9751082251082251\n",
      "35 41 0.9751082251082251\n",
      "35 42 0.9751082251082251\n",
      "35 43 0.9751082251082251\n",
      "35 44 0.9751082251082251\n",
      "35 45 0.9751082251082251\n",
      "35 46 0.9751082251082251\n",
      "35 47 0.9751082251082251\n",
      "35 48 0.9751082251082251\n",
      "35 49 0.9751082251082251\n",
      "35 50 0.9751082251082251\n",
      "35 51 0.9751082251082251\n",
      "35 52 0.9751082251082251\n",
      "35 53 0.9751082251082251\n",
      "35 54 0.9751082251082251\n",
      "35 55 0.9751082251082251\n",
      "35 56 0.9751082251082251\n",
      "35 57 0.9751082251082251\n",
      "35 58 0.9751082251082251\n",
      "35 59 0.9751082251082251\n",
      "35 60 0.9751082251082251\n",
      "35 61 0.9751082251082251\n",
      "35 62 0.9751082251082251\n",
      "35 63 0.9751082251082251\n",
      "35 64 0.9751082251082251\n",
      "35 65 0.9751082251082251\n",
      "35 66 0.9751082251082251\n",
      "35 67 0.9751082251082251\n",
      "35 68 0.9751082251082251\n",
      "35 69 0.9751082251082251\n",
      "35 70 0.9751082251082251\n",
      "35 71 0.9751082251082251\n",
      "35 72 0.9751082251082251\n",
      "35 73 0.9751082251082251\n",
      "35 74 0.9751082251082251\n",
      "35 75 0.9751082251082251\n",
      "35 76 0.9751082251082251\n",
      "35 77 0.9751082251082251\n",
      "35 78 0.9751082251082251\n",
      "35 79 0.9751082251082251\n",
      "35 80 0.9751082251082251\n",
      "35 81 0.9751082251082251\n",
      "35 82 0.9751082251082251\n",
      "35 83 0.9751082251082251\n",
      "35 84 0.9751082251082251\n",
      "35 85 0.9751082251082251\n",
      "35 86 0.9751082251082251\n",
      "35 87 0.9751082251082251\n",
      "35 88 0.9751082251082251\n",
      "35 89 0.9751082251082251\n",
      "35 90 0.9751082251082251\n",
      "35 91 0.9751082251082251\n",
      "35 92 0.9751082251082251\n",
      "35 93 0.9751082251082251\n",
      "35 94 0.9751082251082251\n",
      "35 95 0.9751082251082251\n",
      "35 96 0.9751082251082251\n",
      "35 97 0.9751082251082251\n",
      "35 98 0.9751082251082251\n",
      "35 99 0.9751082251082251\n",
      "41 0 0.9751082251082251\n",
      "41 1 0.9751082251082251\n",
      "41 2 0.9751082251082251\n",
      "41 3 0.9751082251082251\n",
      "41 4 0.9751082251082251\n",
      "41 5 0.9751082251082251\n",
      "41 6 0.9751082251082251\n",
      "41 7 0.9751082251082251\n",
      "41 8 0.9751082251082251\n",
      "41 9 0.9751082251082251\n",
      "41 10 0.9751082251082251\n",
      "41 11 0.9751082251082251\n",
      "41 12 0.9751082251082251\n",
      "41 13 0.9751082251082251\n",
      "41 14 0.9751082251082251\n",
      "41 15 0.9751082251082251\n",
      "41 16 0.9751082251082251\n",
      "41 17 0.9751082251082251\n",
      "41 18 0.9751082251082251\n",
      "41 19 0.9751082251082251\n",
      "41 20 0.9751082251082251\n",
      "41 21 0.9751082251082251\n",
      "41 22 0.9751082251082251\n",
      "41 23 0.9751082251082251\n",
      "41 24 0.9751082251082251\n",
      "41 25 0.9751082251082251\n",
      "41 26 0.9751082251082251\n",
      "41 27 0.9751082251082251\n",
      "41 28 0.9751082251082251\n",
      "41 29 0.9751082251082251\n",
      "41 30 0.9751082251082251\n",
      "41 31 0.9751082251082251\n",
      "41 32 0.9751082251082251\n",
      "41 33 0.9751082251082251\n",
      "41 34 0.9751082251082251\n",
      "41 35 0.9751082251082251\n",
      "41 36 0.9751082251082251\n",
      "41 37 0.9751082251082251\n",
      "41 38 0.9751082251082251\n",
      "41 39 0.9751082251082251\n",
      "41 40 0.9751082251082251\n",
      "41 41 0.9751082251082251\n",
      "41 42 0.9751082251082251\n",
      "41 43 0.9751082251082251\n",
      "41 44 0.9751082251082251\n",
      "41 45 0.9751082251082251\n",
      "41 46 0.9751082251082251\n",
      "41 47 0.9751082251082251\n",
      "41 48 0.9751082251082251\n",
      "41 49 0.9751082251082251\n",
      "41 50 0.9751082251082251\n",
      "41 51 0.9751082251082251\n",
      "41 52 0.9751082251082251\n",
      "41 53 0.9751082251082251\n",
      "41 54 0.9751082251082251\n",
      "41 55 0.9751082251082251\n",
      "41 56 0.9751082251082251\n",
      "41 57 0.9751082251082251\n",
      "41 58 0.9751082251082251\n",
      "41 59 0.9751082251082251\n",
      "41 60 0.9751082251082251\n",
      "41 61 0.9751082251082251\n",
      "41 62 0.9751082251082251\n",
      "41 63 0.9751082251082251\n",
      "41 64 0.9751082251082251\n",
      "41 65 0.9751082251082251\n",
      "41 66 0.9751082251082251\n",
      "41 67 0.9751082251082251\n",
      "41 68 0.9751082251082251\n",
      "41 69 0.9751082251082251\n",
      "41 70 0.9751082251082251\n",
      "41 71 0.9751082251082251\n",
      "41 72 0.9751082251082251\n",
      "41 73 0.9751082251082251\n",
      "41 74 0.9751082251082251\n",
      "41 75 0.9751082251082251\n",
      "41 76 0.9751082251082251\n",
      "41 77 0.9751082251082251\n",
      "41 78 0.9751082251082251\n",
      "41 79 0.9751082251082251\n",
      "41 80 0.9751082251082251\n",
      "41 81 0.9751082251082251\n",
      "41 82 0.9751082251082251\n",
      "41 83 0.9751082251082251\n",
      "41 84 0.9751082251082251\n",
      "41 85 0.9751082251082251\n",
      "41 86 0.9751082251082251\n",
      "41 87 0.9751082251082251\n",
      "41 88 0.9751082251082251\n",
      "41 89 0.9751082251082251\n",
      "41 90 0.9751082251082251\n",
      "41 91 0.9751082251082251\n",
      "41 92 0.9751082251082251\n",
      "41 93 0.9751082251082251\n",
      "41 94 0.9751082251082251\n",
      "41 95 0.9751082251082251\n",
      "41 96 0.9751082251082251\n",
      "41 97 0.9751082251082251\n",
      "41 98 0.9751082251082251\n",
      "41 99 0.9751082251082251\n",
      "47 0 0.974025974025974\n",
      "47 1 0.974025974025974\n",
      "47 2 0.974025974025974\n",
      "47 3 0.974025974025974\n",
      "47 4 0.974025974025974\n",
      "47 5 0.974025974025974\n",
      "47 6 0.974025974025974\n",
      "47 7 0.974025974025974\n",
      "47 8 0.974025974025974\n",
      "47 9 0.974025974025974\n",
      "47 10 0.974025974025974\n",
      "47 11 0.974025974025974\n",
      "47 12 0.974025974025974\n",
      "47 13 0.974025974025974\n",
      "47 14 0.974025974025974\n",
      "47 15 0.974025974025974\n",
      "47 16 0.974025974025974\n",
      "47 17 0.974025974025974\n",
      "47 18 0.974025974025974\n",
      "47 19 0.974025974025974\n",
      "47 20 0.974025974025974\n",
      "47 21 0.974025974025974\n",
      "47 22 0.974025974025974\n",
      "47 23 0.974025974025974\n",
      "47 24 0.974025974025974\n",
      "47 25 0.974025974025974\n",
      "47 26 0.974025974025974\n",
      "47 27 0.974025974025974\n",
      "47 28 0.974025974025974\n",
      "47 29 0.974025974025974\n",
      "47 30 0.974025974025974\n",
      "47 31 0.974025974025974\n",
      "47 32 0.974025974025974\n",
      "47 33 0.974025974025974\n",
      "47 34 0.974025974025974\n",
      "47 35 0.974025974025974\n",
      "47 36 0.974025974025974\n",
      "47 37 0.974025974025974\n",
      "47 38 0.974025974025974\n",
      "47 39 0.974025974025974\n",
      "47 40 0.974025974025974\n",
      "47 41 0.974025974025974\n",
      "47 42 0.974025974025974\n",
      "47 43 0.974025974025974\n",
      "47 44 0.974025974025974\n",
      "47 45 0.974025974025974\n",
      "47 46 0.974025974025974\n",
      "47 47 0.974025974025974\n",
      "47 48 0.974025974025974\n",
      "47 49 0.974025974025974\n",
      "47 50 0.974025974025974\n",
      "47 51 0.974025974025974\n",
      "47 52 0.974025974025974\n",
      "47 53 0.974025974025974\n",
      "47 54 0.974025974025974\n",
      "47 55 0.974025974025974\n",
      "47 56 0.974025974025974\n",
      "47 57 0.974025974025974\n",
      "47 58 0.974025974025974\n",
      "47 59 0.974025974025974\n",
      "47 60 0.974025974025974\n",
      "47 61 0.974025974025974\n",
      "47 62 0.974025974025974\n",
      "47 63 0.974025974025974\n",
      "47 64 0.974025974025974\n",
      "47 65 0.974025974025974\n",
      "47 66 0.974025974025974\n",
      "47 67 0.974025974025974\n",
      "47 68 0.974025974025974\n",
      "47 69 0.974025974025974\n",
      "47 70 0.974025974025974\n",
      "47 71 0.974025974025974\n",
      "47 72 0.974025974025974\n",
      "47 73 0.974025974025974\n",
      "47 74 0.974025974025974\n",
      "47 75 0.974025974025974\n",
      "47 76 0.974025974025974\n",
      "47 77 0.974025974025974\n",
      "47 78 0.974025974025974\n",
      "47 79 0.974025974025974\n",
      "47 80 0.974025974025974\n",
      "47 81 0.974025974025974\n",
      "47 82 0.974025974025974\n",
      "47 83 0.974025974025974\n",
      "47 84 0.974025974025974\n",
      "47 85 0.974025974025974\n",
      "47 86 0.974025974025974\n",
      "47 87 0.974025974025974\n",
      "47 88 0.974025974025974\n",
      "47 89 0.974025974025974\n",
      "47 90 0.974025974025974\n",
      "47 91 0.974025974025974\n",
      "47 92 0.974025974025974\n",
      "47 93 0.974025974025974\n",
      "47 94 0.974025974025974\n",
      "47 95 0.974025974025974\n",
      "47 96 0.974025974025974\n",
      "47 97 0.974025974025974\n",
      "47 98 0.974025974025974\n",
      "47 99 0.974025974025974\n",
      "51 0 0.9734848484848485\n",
      "51 1 0.9734848484848485\n",
      "51 2 0.9734848484848485\n",
      "51 3 0.9734848484848485\n",
      "51 4 0.9734848484848485\n",
      "51 5 0.9734848484848485\n",
      "51 6 0.9734848484848485\n",
      "51 7 0.9734848484848485\n",
      "51 8 0.9734848484848485\n",
      "51 9 0.9734848484848485\n",
      "51 10 0.9734848484848485\n",
      "51 11 0.9734848484848485\n",
      "51 12 0.9734848484848485\n",
      "51 13 0.9734848484848485\n",
      "51 14 0.9734848484848485\n",
      "51 15 0.9734848484848485\n",
      "51 16 0.9734848484848485\n",
      "51 17 0.9734848484848485\n",
      "51 18 0.9734848484848485\n",
      "51 19 0.9734848484848485\n",
      "51 20 0.9734848484848485\n",
      "51 21 0.9734848484848485\n",
      "51 22 0.9734848484848485\n",
      "51 23 0.9734848484848485\n",
      "51 24 0.9734848484848485\n",
      "51 25 0.9734848484848485\n",
      "51 26 0.9734848484848485\n",
      "51 27 0.9734848484848485\n",
      "51 28 0.9734848484848485\n",
      "51 29 0.9734848484848485\n",
      "51 30 0.9734848484848485\n",
      "51 31 0.9734848484848485\n",
      "51 32 0.9734848484848485\n",
      "51 33 0.9734848484848485\n",
      "51 34 0.9734848484848485\n",
      "51 35 0.9734848484848485\n",
      "51 36 0.9734848484848485\n",
      "51 37 0.9734848484848485\n",
      "51 38 0.9734848484848485\n",
      "51 39 0.9734848484848485\n",
      "51 40 0.9734848484848485\n",
      "51 41 0.9734848484848485\n",
      "51 42 0.9734848484848485\n",
      "51 43 0.9734848484848485\n",
      "51 44 0.9734848484848485\n",
      "51 45 0.9734848484848485\n",
      "51 46 0.9734848484848485\n",
      "51 47 0.9734848484848485\n",
      "51 48 0.9734848484848485\n",
      "51 49 0.9734848484848485\n",
      "51 50 0.9734848484848485\n",
      "51 51 0.9734848484848485\n",
      "51 52 0.9734848484848485\n",
      "51 53 0.9734848484848485\n",
      "51 54 0.9734848484848485\n",
      "51 55 0.9734848484848485\n",
      "51 56 0.9734848484848485\n",
      "51 57 0.9734848484848485\n",
      "51 58 0.9734848484848485\n",
      "51 59 0.9734848484848485\n",
      "51 60 0.9734848484848485\n",
      "51 61 0.9734848484848485\n",
      "51 62 0.9734848484848485\n"
     ]
    },
    {
     "name": "stdout",
     "output_type": "stream",
     "text": [
      "51 63 0.9734848484848485\n",
      "51 64 0.9734848484848485\n",
      "51 65 0.9734848484848485\n",
      "51 66 0.9734848484848485\n",
      "51 67 0.9734848484848485\n",
      "51 68 0.9734848484848485\n",
      "51 69 0.9734848484848485\n",
      "51 70 0.9734848484848485\n",
      "51 71 0.9734848484848485\n",
      "51 72 0.9734848484848485\n",
      "51 73 0.9734848484848485\n",
      "51 74 0.9734848484848485\n",
      "51 75 0.9734848484848485\n",
      "51 76 0.9734848484848485\n",
      "51 77 0.9734848484848485\n",
      "51 78 0.9734848484848485\n",
      "51 79 0.9734848484848485\n",
      "51 80 0.9734848484848485\n",
      "51 81 0.9734848484848485\n",
      "51 82 0.9734848484848485\n",
      "51 83 0.9734848484848485\n",
      "51 84 0.9734848484848485\n",
      "51 85 0.9734848484848485\n",
      "51 86 0.9734848484848485\n",
      "51 87 0.9734848484848485\n",
      "51 88 0.9734848484848485\n",
      "51 89 0.9734848484848485\n",
      "51 90 0.9734848484848485\n",
      "51 91 0.9734848484848485\n",
      "51 92 0.9734848484848485\n",
      "51 93 0.9734848484848485\n",
      "51 94 0.9734848484848485\n",
      "51 95 0.9734848484848485\n",
      "51 96 0.9734848484848485\n",
      "51 97 0.9734848484848485\n",
      "51 98 0.9734848484848485\n",
      "51 99 0.9734848484848485\n"
     ]
    }
   ],
   "source": [
    "#n_estimators_list = [21, 27, 31, 35, 41, 51, 71, 91, 101, 131, 155, 161, 165, 191, 201]\n",
    "n_estimators_list = [21, 27, 31, 35, 41, 47, 51]\n",
    "\n",
    "avg_per_estimator = []\n",
    "\n",
    "for n_estimators in n_estimators_list:\n",
    "    \n",
    "    avg = []\n",
    "    for i in range(0, dim):\n",
    "        clf = RandomForestClassifier(n_estimators=n_estimators, \n",
    "                                     random_state=0, n_jobs=-1, \n",
    "                                     verbose=False, oob_score=True)\n",
    "        oob_score = clf.fit(X_train_resampled[OOB_9.index.values].copy(), y_train_resampled['Class'].values)\n",
    "        print(n_estimators, i, oob_score.oob_score_)\n",
    "        avg.append(oob_score.oob_score_)\n",
    "        \n",
    "    avg_per_estimator.append(np.mean(avg))"
   ]
  },
  {
   "cell_type": "code",
   "execution_count": 10,
   "metadata": {},
   "outputs": [
    {
     "data": {
      "text/plain": [
       "[0.9745670995670995,\n",
       " 0.9756493506493503,\n",
       " 0.9745670995670995,\n",
       " 0.9751082251082255,\n",
       " 0.9751082251082255,\n",
       " 0.9740259740259741,\n",
       " 0.9734848484848482]"
      ]
     },
     "execution_count": 10,
     "metadata": {},
     "output_type": "execute_result"
    }
   ],
   "source": [
    "avg_per_estimator"
   ]
  },
  {
   "cell_type": "code",
   "execution_count": 11,
   "metadata": {},
   "outputs": [
    {
     "name": "stdout",
     "output_type": "stream",
     "text": [
      "n_est 27 OOB 0.9756493506493503\n"
     ]
    }
   ],
   "source": [
    "final_n_estimator = n_estimators_list[avg_per_estimator.index(max(avg_per_estimator))]\n",
    "print(\"n_est\", final_n_estimator, \"OOB\",max(avg_per_estimator))"
   ]
  },
  {
   "cell_type": "markdown",
   "metadata": {},
   "source": [
    "# 3. Random Forest Classifier with n=27"
   ]
  },
  {
   "cell_type": "code",
   "execution_count": 12,
   "metadata": {},
   "outputs": [
    {
     "name": "stdout",
     "output_type": "stream",
     "text": [
      "0.9756493506493507\n"
     ]
    }
   ],
   "source": [
    "clf = RandomForestClassifier(n_estimators=27, #final_n_estimator, \n",
    "                                     random_state=0, n_jobs=25, \n",
    "                                     verbose=False, oob_score=True)\n",
    "oob_score = clf.fit(X_train_resampled[OOB_9.index.values].copy(), y_train_resampled['Class'].values)\n",
    "print(oob_score.oob_score_)"
   ]
  },
  {
   "cell_type": "code",
   "execution_count": 13,
   "metadata": {},
   "outputs": [],
   "source": [
    "\n",
    "y_pred_val = clf.predict(X_val[OOB_9.index.values].copy())"
   ]
  },
  {
   "cell_type": "code",
   "execution_count": 14,
   "metadata": {},
   "outputs": [],
   "source": [
    "x = pd.DataFrame\n",
    "x = y_pred_val"
   ]
  },
  {
   "cell_type": "code",
   "execution_count": 15,
   "metadata": {},
   "outputs": [
    {
     "name": "stdout",
     "output_type": "stream",
     "text": [
      "[(0, 56544), (1, 418)]\n"
     ]
    }
   ],
   "source": [
    "from collections import Counter\n",
    "print(sorted(Counter(y_pred_val).items()))"
   ]
  },
  {
   "cell_type": "markdown",
   "metadata": {},
   "source": [
    "# 4. Confusion Matrix\n"
   ]
  },
  {
   "cell_type": "code",
   "execution_count": 17,
   "metadata": {},
   "outputs": [],
   "source": [
    "from sklearn.metrics import confusion_matrix\n",
    "\n",
    "import itertools\n",
    "def plot_confusion_matrix(cm, classes,\n",
    "                          normalize=False,\n",
    "                          title='Confusion matrix',\n",
    "                          cmap=plt.cm.Blues):\n",
    "    \"\"\"\n",
    "    This function prints and plots the confusion matrix.\n",
    "    Normalization can be applied by setting `normalize=True`.\n",
    "    \"\"\"\n",
    "    if normalize:\n",
    "        cm = cm.astype('float') / cm.sum(axis=1)[:, np.newaxis]\n",
    "        print(\"Normalized confusion matrix\")\n",
    "    else:\n",
    "        print('Confusion matrix, without normalization')\n",
    "\n",
    "    print(cm)\n",
    "\n",
    "    plt.imshow(cm, interpolation='nearest', cmap=cmap)\n",
    "    plt.title(title)\n",
    "    plt.colorbar()\n",
    "    tick_marks = np.arange(len(classes))\n",
    "    plt.xticks(tick_marks, classes, rotation=45)\n",
    "    plt.yticks(tick_marks, classes)\n",
    "\n",
    "    fmt = '.2f' if normalize else 'd'\n",
    "    thresh = cm.max() / 2.\n",
    "    for i, j in itertools.product(range(cm.shape[0]), range(cm.shape[1])):\n",
    "        plt.text(j, i, format(cm[i, j], fmt),\n",
    "                 horizontalalignment=\"center\",\n",
    "                 color=\"white\" if cm[i, j] > thresh else \"black\")\n",
    "\n",
    "    plt.tight_layout()\n",
    "    plt.ylabel('True label')\n",
    "    plt.xlabel('Predicted label')\n",
    "\n",
    "\n",
    "np.set_printoptions(precision=2)\n"
   ]
  },
  {
   "cell_type": "code",
   "execution_count": 18,
   "metadata": {
    "scrolled": false
   },
   "outputs": [
    {
     "name": "stdout",
     "output_type": "stream",
     "text": [
      "Confusion matrix, without normalization\n",
      "[[56531   334]\n",
      " [   13    84]]\n"
     ]
    },
    {
     "data": {
      "image/png": "[encoded data removed]",
      "text/plain": [
       "<matplotlib.figure.Figure at 0x28a61cb4b70>"
      ]
     },
     "metadata": {},
     "output_type": "display_data"
    },
    {
     "name": "stdout",
     "output_type": "stream",
     "text": [
      "Normalized confusion matrix\n",
      "[[0.99 0.01]\n",
      " [0.13 0.87]]\n"
     ]
    },
    {
     "data": {
      "image/png": "[encoded data removed]",
      "text/plain": [
       "<matplotlib.figure.Figure at 0x28a61d92ef0>"
      ]
     },
     "metadata": {},
     "output_type": "display_data"
    }
   ],
   "source": [
    "cm = confusion_matrix(y_val['Class'].values, y_pred_val)\n",
    "\n",
    "class_names = ['Not-Fraud','Fraud']\n",
    "plt.figure()\n",
    "plot_confusion_matrix(cm, \n",
    "                      classes = class_names , \n",
    "                      title = 'RF Confusion matrix without Normalization')\n",
    "plt.show()\n",
    "\n",
    "plot_confusion_matrix(cm, \n",
    "                      classes = class_names , \n",
    "                      normalize = True,\n",
    "                      title = 'RF Confusion matrix with Normalization')\n",
    "plt.show()\n"
   ]
  },
  {
   "cell_type": "markdown",
   "metadata": {},
   "source": [
    "# 5. Metrics Results "
   ]
  },
  {
   "cell_type": "code",
   "execution_count": 19,
   "metadata": {},
   "outputs": [
    {
     "name": "stdout",
     "output_type": "stream",
     "text": [
      "              precision    recall  f1-score   support\n",
      "\n",
      " Not Fraud 0       1.00      0.99      1.00     56865\n",
      "     Fraud 1       0.20      0.87      0.33        97\n",
      "\n",
      "    accuracy                           0.99     56962\n",
      "   macro avg       0.60      0.93      0.66     56962\n",
      "weighted avg       1.00      0.99      1.00     56962\n",
      "\n"
     ]
    }
   ],
   "source": [
    "print(classification_report(y_val['Class'].values, y_pred_val, target_names=target_names))"
   ]
  },
  {
   "cell_type": "markdown",
   "metadata": {},
   "source": [
    "# Sensitivity and Specificity "
   ]
  },
  {
   "cell_type": "code",
   "execution_count": 20,
   "metadata": {
    "scrolled": true
   },
   "outputs": [
    {
     "name": "stdout",
     "output_type": "stream",
     "text": [
      "Sensitivity :  0.9941264398135936\n",
      "Specificity :  0.865979381443299\n"
     ]
    }
   ],
   "source": [
    "total1=sum(sum(cm))\n",
    "\n",
    "\n",
    "sensitivity1 = cm[0,0]/(cm[0,0]+cm[0,1])\n",
    "print('Sensitivity : ', sensitivity1 )\n",
    "\n",
    "specificity1 = cm[1,1]/(cm[1,0]+cm[1,1])\n",
    "print('Specificity : ', specificity1)"
   ]
  },
  {
   "cell_type": "markdown",
   "metadata": {},
   "source": [
    "# Metrics"
   ]
  },
  {
   "cell_type": "code",
   "execution_count": 21,
   "metadata": {},
   "outputs": [
    {
     "name": "stdout",
     "output_type": "stream",
     "text": [
      "Accuracy 0.9939082195147643\n",
      "Recall score 0.865979381443299\n",
      "Precision 0.20095693779904306\n",
      "f1_score 0.3262135922330097\n",
      "Average precision-recall score: 0.17\n",
      "Kappa Score 0.3243458799170229\n"
     ]
    }
   ],
   "source": [
    "\n",
    "acc= accuracy_score( y_val['Class'].values, y_pred_val)\n",
    "recall = recall_score(y_val['Class'].values, y_pred_val,  average='binary')\n",
    "precision = precision_score( y_val['Class'].values, y_pred_val)\n",
    "f1 = f1_score( y_val['Class'].values, y_pred_val, average='binary')\n",
    "average = average_precision_score( y_val['Class'].values, y_pred_val)\n",
    "kappa = cohen_kappa_score( y_val['Class'].values, y_pred_val)\n",
    "\n",
    "print('Accuracy', acc)\n",
    "print('Recall score', recall)\n",
    "print('Precision', precision)\n",
    "print('f1_score', f1)\n",
    "print ('Average precision-recall score: {0:0.2f}'.format(average))\n",
    "print('Kappa Score', kappa)"
   ]
  },
  {
   "cell_type": "code",
   "execution_count": 22,
   "metadata": {},
   "outputs": [],
   "source": [
    "result = pd.read_csv(\"../Results/model_Result_final.csv\", index_col=0)"
   ]
  },
  {
   "cell_type": "code",
   "execution_count": 23,
   "metadata": {},
   "outputs": [],
   "source": [
    "model_Results = pd.DataFrame([['Random Forest (n=27) with OOB_9', acc, precision, recall, f1, average, kappa, specificity1, sensitivity1]],\n",
    "               columns = ['Model', 'Accuracy', 'Precision', 'Recall', 'F1 Score', 'Average', 'Kappa Cohen', 'Specificity', 'Sensitivity'])"
   ]
  },
  {
   "cell_type": "code",
   "execution_count": 24,
   "metadata": {},
   "outputs": [
    {
     "data": {
      "text/plain": [
       "Index(['Model', 'Accuracy', 'Precision', 'Recall', 'F1 Score', 'Average',\n",
       "       'Kappa Cohen', 'Sensitivity', 'Specificity'],\n",
       "      dtype='object')"
      ]
     },
     "execution_count": 24,
     "metadata": {},
     "output_type": "execute_result"
    }
   ],
   "source": [
    "result.columns"
   ]
  },
  {
   "cell_type": "code",
   "execution_count": 25,
   "metadata": {},
   "outputs": [],
   "source": [
    "x = result.append(model_Results, ignore_index=True)"
   ]
  },
  {
   "cell_type": "code",
   "execution_count": 26,
   "metadata": {},
   "outputs": [
    {
     "data": {
      "text/html": [
       "<div>\n",
       "<style scoped>\n",
       "    .dataframe tbody tr th:only-of-type {\n",
       "        vertical-align: middle;\n",
       "    }\n",
       "\n",
       "    .dataframe tbody tr th {\n",
       "        vertical-align: top;\n",
       "    }\n",
       "\n",
       "    .dataframe thead th {\n",
       "        text-align: right;\n",
       "    }\n",
       "</style>\n",
       "<table border=\"1\" class=\"dataframe\">\n",
       "  <thead>\n",
       "    <tr style=\"text-align: right;\">\n",
       "      <th></th>\n",
       "      <th>Accuracy</th>\n",
       "      <th>Average</th>\n",
       "      <th>F1 Score</th>\n",
       "      <th>Kappa Cohen</th>\n",
       "      <th>Model</th>\n",
       "      <th>Precision</th>\n",
       "      <th>Recall</th>\n",
       "      <th>Sensitivity</th>\n",
       "      <th>Specificity</th>\n",
       "    </tr>\n",
       "  </thead>\n",
       "  <tbody>\n",
       "    <tr>\n",
       "      <th>0</th>\n",
       "      <td>0.996647</td>\n",
       "      <td>0.277870</td>\n",
       "      <td>0.467967</td>\n",
       "      <td>0.466641</td>\n",
       "      <td>Random Forest All Features</td>\n",
       "      <td>0.320611</td>\n",
       "      <td>0.865979</td>\n",
       "      <td>0.996870</td>\n",
       "      <td>0.865979</td>\n",
       "    </tr>\n",
       "    <tr>\n",
       "      <th>1</th>\n",
       "      <td>0.993908</td>\n",
       "      <td>0.174253</td>\n",
       "      <td>0.326214</td>\n",
       "      <td>0.324346</td>\n",
       "      <td>Random Forest (n=27) with OOB_9</td>\n",
       "      <td>0.200957</td>\n",
       "      <td>0.865979</td>\n",
       "      <td>0.994126</td>\n",
       "      <td>0.865979</td>\n",
       "    </tr>\n",
       "  </tbody>\n",
       "</table>\n",
       "</div>"
      ],
      "text/plain": [
       "   Accuracy   Average  F1 Score  Kappa Cohen                            Model  \\\n",
       "0  0.996647  0.277870  0.467967     0.466641       Random Forest All Features   \n",
       "1  0.993908  0.174253  0.326214     0.324346  Random Forest (n=27) with OOB_9   \n",
       "\n",
       "   Precision    Recall  Sensitivity  Specificity  \n",
       "0   0.320611  0.865979     0.996870     0.865979  \n",
       "1   0.200957  0.865979     0.994126     0.865979  "
      ]
     },
     "execution_count": 26,
     "metadata": {},
     "output_type": "execute_result"
    }
   ],
   "source": [
    "x"
   ]
  },
  {
   "cell_type": "markdown",
   "metadata": {},
   "source": [
    "# Precision Recall Curve"
   ]
  },
  {
   "cell_type": "code",
   "execution_count": 27,
   "metadata": {
    "scrolled": true
   },
   "outputs": [
    {
     "data": {
      "text/plain": [
       "Text(0.5,1,'Precision-Recall curve: AP=0.17')"
      ]
     },
     "execution_count": 27,
     "metadata": {},
     "output_type": "execute_result"
    },
    {
     "data": {
      "image/png": "[encoded data removed]",
      "text/plain": [
       "<matplotlib.figure.Figure at 0x28a61e43080>"
      ]
     },
     "metadata": {},
     "output_type": "display_data"
    }
   ],
   "source": [
    "# plot precision-recall score\n",
    "\n",
    "\n",
    "precision, recall, _ = precision_recall_curve( y_val['Class'].values, y_pred_val)\n",
    "\n",
    "# In matplotlib < 1.5, plt.fill_between does not have a 'step' argument\n",
    "step_kwargs = ({'step': 'post'}\n",
    "               if 'step' in signature(plt.fill_between).parameters\n",
    "               else {})\n",
    "plt.step(recall, precision, color='r', alpha=0.2,\n",
    "         where='post')\n",
    "plt.fill_between(recall, precision, alpha=0.2, color='b', **step_kwargs)\n",
    "\n",
    "plt.xlabel('Recall')\n",
    "plt.ylabel('Precision')\n",
    "plt.ylim([0.0, 1.05])\n",
    "plt.xlim([0.0, 1.0])\n",
    "plt.title('Precision-Recall curve: AP={0:0.2f}'.format(\n",
    "          average))"
   ]
  },
  {
   "cell_type": "code",
   "execution_count": 28,
   "metadata": {},
   "outputs": [],
   "source": [
    "def plot_roc():\n",
    "    plt.plot(fpr, tpr, label = 'ROC curve' , linewidth = 2, color= 'darkorange')\n",
    "    plt.plot([0,1],[0,1], 'k--', linewidth = 2, color ='navy', linestyle='--')\n",
    "    plt.xlim([0.0,0.001])\n",
    "    plt.ylim([0.0,1.05])\n",
    "    plt.xlabel('False Positive Rate')\n",
    "    plt.ylabel('True Positive Rate')\n",
    "    plt.title('ROC Curve')\n",
    "    plt.show();"
   ]
  },
  {
   "cell_type": "code",
   "execution_count": 29,
   "metadata": {},
   "outputs": [
    {
     "data": {
      "image/png": "[encoded data removed]",
      "text/plain": [
       "<matplotlib.figure.Figure at 0x28a61eb2cc0>"
      ]
     },
     "metadata": {},
     "output_type": "display_data"
    }
   ],
   "source": [
    "fpr, tpr, t = roc_curve( y_val['Class'].values, y_pred_val)\n",
    "plot_roc()"
   ]
  },
  {
   "cell_type": "markdown",
   "metadata": {},
   "source": [
    "# 6. Save Model"
   ]
  },
  {
   "cell_type": "code",
   "execution_count": 30,
   "metadata": {},
   "outputs": [],
   "source": [
    "x.to_csv(\"../Results/model_Result_final.csv\")"
   ]
  },
  {
   "cell_type": "code",
   "execution_count": 31,
   "metadata": {},
   "outputs": [
    {
     "data": {
      "text/plain": [
       "['RandomForest (OOB_9 Features - Optimal Parameters).pkl']"
      ]
     },
     "execution_count": 31,
     "metadata": {},
     "output_type": "execute_result"
    }
   ],
   "source": [
    "joblib.dump(clf, 'RandomForest (OOB_9 Features - Optimal Parameters).pkl') "
   ]
  },
  {
   "cell_type": "code",
   "execution_count": null,
   "metadata": {},
   "outputs": [],
   "source": []
  }
 ],
 "metadata": {
  "kernelspec": {
   "display_name": "Python 3",
   "language": "python",
   "name": "python3"
  },
  "language_info": {
   "codemirror_mode": {
    "name": "ipython",
    "version": 3
   },
   "file_extension": ".py",
   "mimetype": "text/x-python",
   "name": "python",
   "nbconvert_exporter": "python",
   "pygments_lexer": "ipython3",
   "version": "3.6.4"
  }
 },
 "nbformat": 4,
 "nbformat_minor": 2
}
