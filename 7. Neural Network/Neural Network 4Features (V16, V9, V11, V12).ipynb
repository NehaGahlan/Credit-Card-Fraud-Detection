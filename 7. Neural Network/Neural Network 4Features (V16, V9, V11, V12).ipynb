{
 "cells": [
  {
   "cell_type": "code",
   "execution_count": 1,
   "metadata": {
    "scrolled": true
   },
   "outputs": [
    {
     "name": "stderr",
     "output_type": "stream",
     "text": [
      "C:\\Users\\Pappa\\Anaconda3\\lib\\site-packages\\h5py\\__init__.py:36: FutureWarning: Conversion of the second argument of issubdtype from `float` to `np.floating` is deprecated. In future, it will be treated as `np.float64 == np.dtype(float).type`.\n",
      "  from ._conv import register_converters as _register_converters\n",
      "Using TensorFlow backend.\n",
      "C:\\Users\\Pappa\\Anaconda3\\lib\\site-packages\\sklearn\\externals\\joblib\\__init__.py:15: DeprecationWarning: sklearn.externals.joblib is deprecated in 0.21 and will be removed in 0.23. Please import this functionality directly from joblib, which can be installed with: pip install joblib. If this warning is raised when loading pickled models, you may need to re-serialize those models with scikit-learn 0.21+.\n",
      "  warnings.warn(msg, category=DeprecationWarning)\n"
     ]
    }
   ],
   "source": [
    "import pandas as pd\n",
    "import keras\n",
    "from keras.models import Sequential\n",
    "from keras.layers import Dense, Dropout\n",
    "import numpy as np\n",
    "from IPython.display import SVG\n",
    "from sklearn.externals import joblib\n",
    "from ann_visualizer.visualize import ann_viz;\n",
    "from sklearn.metrics import confusion_matrix\n",
    "import matplotlib.pyplot as plt\n",
    "import matplotlib.gridspec as gridspec\n",
    "from sklearn.metrics import precision_score, recall_score, accuracy_score, roc_auc_score, classification_report, roc_curve, precision_recall_curve, confusion_matrix, f1_score, average_precision_score, cohen_kappa_score\n",
    "from inspect import signature\n",
    "from sklearn.externals import joblib\n",
    "from matplotlib import pyplot\n",
    "from collections import Counter\n"
   ]
  },
  {
   "cell_type": "markdown",
   "metadata": {},
   "source": [
    "## 1. Prepare Data"
   ]
  },
  {
   "cell_type": "code",
   "execution_count": 2,
   "metadata": {},
   "outputs": [
    {
     "data": {
      "text/plain": [
       "(1848, 30)"
      ]
     },
     "execution_count": 2,
     "metadata": {},
     "output_type": "execute_result"
    }
   ],
   "source": [
    "X_train_resampled = pd.read_csv(\"../3. Data Preparation/X_train_resampled.csv\", index_col=0)\n",
    "X_train_resampled.shape"
   ]
  },
  {
   "cell_type": "code",
   "execution_count": 3,
   "metadata": {},
   "outputs": [
    {
     "data": {
      "text/plain": [
       "(1848, 1)"
      ]
     },
     "execution_count": 3,
     "metadata": {},
     "output_type": "execute_result"
    }
   ],
   "source": [
    "y_train_resampled = pd.read_csv(\"../3. Data Preparation/y_train_resampled.csv\", index_col=0)\n",
    "y_train_resampled.shape"
   ]
  },
  {
   "cell_type": "code",
   "execution_count": 4,
   "metadata": {
    "scrolled": true
   },
   "outputs": [
    {
     "data": {
      "text/plain": [
       "(56962, 30)"
      ]
     },
     "execution_count": 4,
     "metadata": {},
     "output_type": "execute_result"
    }
   ],
   "source": [
    "X_val = pd.read_csv(\"../3. Data Preparation/X_val.csv\", index_col=0)\n",
    "X_val.shape"
   ]
  },
  {
   "cell_type": "code",
   "execution_count": 5,
   "metadata": {},
   "outputs": [
    {
     "data": {
      "text/plain": [
       "(56962, 1)"
      ]
     },
     "execution_count": 5,
     "metadata": {},
     "output_type": "execute_result"
    }
   ],
   "source": [
    "y_val = pd.read_csv(\"../3. Data Preparation/y_val.csv\", index_col=0)\n",
    "y_val.shape"
   ]
  },
  {
   "cell_type": "code",
   "execution_count": 6,
   "metadata": {
    "scrolled": true
   },
   "outputs": [
    {
     "data": {
      "text/plain": [
       "(4, 1)"
      ]
     },
     "execution_count": 6,
     "metadata": {},
     "output_type": "execute_result"
    }
   ],
   "source": [
    "fourfeatures = pd.read_csv('../12. Final Evaluate/4 ImportantFeaturesFinal.csv', index_col=0)\n",
    "fourfeatures.shape"
   ]
  },
  {
   "cell_type": "code",
   "execution_count": 15,
   "metadata": {},
   "outputs": [
    {
     "data": {
      "text/plain": [
       "array([0, 1, 2, 3], dtype=int64)"
      ]
     },
     "execution_count": 15,
     "metadata": {},
     "output_type": "execute_result"
    }
   ],
   "source": [
    "fourfeatures.index.values"
   ]
  },
  {
   "cell_type": "code",
   "execution_count": 7,
   "metadata": {},
   "outputs": [],
   "source": [
    "X_train_resampled = X_train_resampled[['V9','V16','V11','V12','V13','V2','V21','V25','V23','V5']]\n"
   ]
  },
  {
   "cell_type": "code",
   "execution_count": 8,
   "metadata": {},
   "outputs": [
    {
     "data": {
      "text/plain": [
       "10"
      ]
     },
     "execution_count": 8,
     "metadata": {},
     "output_type": "execute_result"
    }
   ],
   "source": [
    " X_train_resampled.shape[1]\n"
   ]
  },
  {
   "cell_type": "code",
   "execution_count": 9,
   "metadata": {},
   "outputs": [],
   "source": [
    "X_val = X_val[['V9','V16','V11','V12','V13','V2','V21','V25','V23','V5']]"
   ]
  },
  {
   "cell_type": "code",
   "execution_count": 10,
   "metadata": {},
   "outputs": [
    {
     "data": {
      "text/plain": [
       "(56962, 10)"
      ]
     },
     "execution_count": 10,
     "metadata": {},
     "output_type": "execute_result"
    }
   ],
   "source": [
    "X_val.shape"
   ]
  },
  {
   "cell_type": "markdown",
   "metadata": {},
   "source": [
    "## 2. Find the best number of neurons through the recall value"
   ]
  },
  {
   "cell_type": "code",
   "execution_count": 12,
   "metadata": {
    "scrolled": false
   },
   "outputs": [
    {
     "name": "stdout",
     "output_type": "stream",
     "text": [
      "Enter in: 1\n",
      "I:  1 Best_I:  1 Best_Score:  0.01212504098052709 Actual_Score:  0.01212504098052709\n",
      "Enter in: 2\n",
      "I:  2 Best_I:  2 Best_Score:  0.01418021201931141 Actual_Score:  0.01418021201931141\n",
      "Enter in: 3\n",
      "I:  3 Best_I:  2 Best_Score:  0.01418021201931141 Actual_Score:  0.01307070054734812\n",
      "Enter in: 4\n",
      "I:  4 Best_I:  2 Best_Score:  0.01418021201931141 Actual_Score:  0.013920389712585829\n",
      "Enter in: 5\n",
      "I:  5 Best_I:  5 Best_Score:  0.014324167621686392 Actual_Score:  0.014324167621686392\n",
      "Enter in: 6\n",
      "I:  6 Best_I:  6 Best_Score:  0.01448567878532662 Actual_Score:  0.01448567878532662\n",
      "Enter in: 7\n",
      "I:  7 Best_I:  6 Best_Score:  0.01448567878532662 Actual_Score:  0.014317145397180297\n",
      "Enter in: 8\n",
      "I:  8 Best_I:  6 Best_Score:  0.01448567878532662 Actual_Score:  0.014345234295204682\n",
      "Enter in: 9\n",
      "I:  9 Best_I:  6 Best_Score:  0.01448567878532662 Actual_Score:  0.01439907134975142\n",
      "Enter in: 10\n",
      "I:  10 Best_I:  6 Best_Score:  0.01448567878532662 Actual_Score:  0.0144119454280126\n",
      "Enter in: 11\n",
      "I:  11 Best_I:  6 Best_Score:  0.01448567878532662 Actual_Score:  0.014440034326036987\n",
      "Enter in: 12\n",
      "I:  12 Best_I:  12 Best_Score:  0.014558241771889623 Actual_Score:  0.014558241771889623\n",
      "Enter in: 13\n",
      "I:  13 Best_I:  12 Best_Score:  0.014558241771889623 Actual_Score:  0.014532493615367266\n",
      "Enter in: 14\n",
      "I:  14 Best_I:  14 Best_Score:  0.014591012152918073 Actual_Score:  0.014591012152918073\n",
      "Enter in: 15\n",
      "I:  15 Best_I:  14 Best_Score:  0.014591012152918073 Actual_Score:  0.014580478816158926\n",
      "Enter in: 16\n",
      "I:  16 Best_I:  14 Best_Score:  0.014591012152918073 Actual_Score:  0.014532493615367261\n",
      "Enter in: 17\n",
      "I:  17 Best_I:  14 Best_Score:  0.014591012152918073 Actual_Score:  0.014396730608249392\n",
      "Enter in: 18\n",
      "I:  18 Best_I:  14 Best_Score:  0.014591012152918073 Actual_Score:  0.014416626911016668\n",
      "Enter in: 19\n",
      "I:  19 Best_I:  14 Best_Score:  0.014591012152918073 Actual_Score:  0.014463441741057308\n",
      "Best_I:  14 Best_Score:  0.014591012152918073\n"
     ]
    }
   ],
   "source": [
    "from keras import backend as K\n",
    "def recall(y_true, y_pred): \n",
    "    true_positives = K.sum(K.round(K.clip(y_true * y_pred, 0, 1)))\n",
    "    possible_positives = K.sum(K.round(K.clip(y_true, 0, 1)))\n",
    "    recall = true_positives / (possible_positives + K.epsilon())\n",
    "    return recall\n",
    "\n",
    "\n",
    "best_score_sl = actual_score = 0 #single layer\n",
    "best_i_sl = 0\n",
    "for i in range(1,20,1):\n",
    "    print('Enter in:', i)\n",
    "    model = Sequential()\n",
    "    model.add(Dense(i, input_dim=X_train_resampled.shape[1], activation='relu'))\n",
    "    model.add(Dense(1, activation='sigmoid'))\n",
    "    model.compile(loss='binary_crossentropy', optimizer='adam', metrics=['accuracy', recall])\n",
    "    history = model.fit(X_train_resampled.values, y_train_resampled.values, \n",
    "                    validation_data=(X_val.values, y_val['Class'].values),\n",
    "                    epochs=150, batch_size=10, verbose=False)\n",
    "    actual_score = np.mean(history.history['val_recall'])\n",
    "    if actual_score > best_score_sl:\n",
    "        best_score_sl = actual_score\n",
    "        best_i_sl = i\n",
    "    print(\"I: \", i, \"Best_I: \",best_i_sl,\"Best_Score: \", best_score_sl,\"Actual_Score: \", actual_score)\n",
    "print(\"Best_I: \",best_i_sl,\"Best_Score: \", best_score_sl)"
   ]
  },
  {
   "cell_type": "markdown",
   "metadata": {},
   "source": [
    "## 3. Neural Network with number of neurons equal to 14"
   ]
  },
  {
   "cell_type": "code",
   "execution_count": 13,
   "metadata": {
    "scrolled": true
   },
   "outputs": [
    {
     "name": "stdout",
     "output_type": "stream",
     "text": [
      "Epoch 1/350\n",
      "1848/1848 [==============================] - 1s 456us/step - loss: 0.6165 - acc: 0.9275 - recall: 0.6556\n",
      "Epoch 2/350\n",
      "1848/1848 [==============================] - 0s 68us/step - loss: 0.3809 - acc: 0.9616 - recall: 0.7095\n",
      "Epoch 3/350\n",
      "1848/1848 [==============================] - 0s 73us/step - loss: 0.2215 - acc: 0.9637 - recall: 0.7423\n",
      "Epoch 4/350\n",
      "1848/1848 [==============================] - 0s 71us/step - loss: 0.1610 - acc: 0.9654 - recall: 0.7564\n",
      "Epoch 5/350\n",
      "1848/1848 [==============================] - 0s 67us/step - loss: 0.1387 - acc: 0.9665 - recall: 0.7611\n",
      "Epoch 6/350\n",
      "1848/1848 [==============================] - 0s 65us/step - loss: 0.1285 - acc: 0.9675 - recall: 0.7196\n",
      "Epoch 7/350\n",
      "1848/1848 [==============================] - 0s 63us/step - loss: 0.1231 - acc: 0.9675 - recall: 0.7018\n",
      "Epoch 8/350\n",
      "1848/1848 [==============================] - 0s 62us/step - loss: 0.1199 - acc: 0.9665 - recall: 0.7844\n",
      "Epoch 9/350\n",
      "1848/1848 [==============================] - 0s 61us/step - loss: 0.1180 - acc: 0.9675 - recall: 0.7834\n",
      "Epoch 10/350\n",
      "1848/1848 [==============================] - 0s 59us/step - loss: 0.1161 - acc: 0.9675 - recall: 0.7785\n",
      "Epoch 11/350\n",
      "1848/1848 [==============================] - 0s 64us/step - loss: 0.1149 - acc: 0.9686 - recall: 0.8073\n",
      "Epoch 12/350\n",
      "1848/1848 [==============================] - 0s 60us/step - loss: 0.1139 - acc: 0.9686 - recall: 0.7682\n",
      "Epoch 13/350\n",
      "1848/1848 [==============================] - 0s 62us/step - loss: 0.1130 - acc: 0.9681 - recall: 0.7110\n",
      "Epoch 14/350\n",
      "1848/1848 [==============================] - 0s 60us/step - loss: 0.1122 - acc: 0.9697 - recall: 0.8017\n",
      "Epoch 15/350\n",
      "1848/1848 [==============================] - 0s 59us/step - loss: 0.1116 - acc: 0.9681 - recall: 0.7781\n",
      "Epoch 16/350\n",
      "1848/1848 [==============================] - 0s 62us/step - loss: 0.1105 - acc: 0.9681 - recall: 0.7710\n",
      "Epoch 17/350\n",
      "1848/1848 [==============================] - 0s 62us/step - loss: 0.1098 - acc: 0.9697 - recall: 0.7484\n",
      "Epoch 18/350\n",
      "1848/1848 [==============================] - 0s 61us/step - loss: 0.1091 - acc: 0.9702 - recall: 0.7826\n",
      "Epoch 19/350\n",
      "1848/1848 [==============================] - 0s 60us/step - loss: 0.1084 - acc: 0.9697 - recall: 0.7829\n",
      "Epoch 20/350\n",
      "1848/1848 [==============================] - 0s 63us/step - loss: 0.1077 - acc: 0.9702 - recall: 0.7932\n",
      "Epoch 21/350\n",
      "1848/1848 [==============================] - 0s 62us/step - loss: 0.1073 - acc: 0.9702 - recall: 0.7760\n",
      "Epoch 22/350\n",
      "1848/1848 [==============================] - 0s 60us/step - loss: 0.1065 - acc: 0.9708 - recall: 0.7788\n",
      "Epoch 23/350\n",
      "1848/1848 [==============================] - 0s 64us/step - loss: 0.1060 - acc: 0.9702 - recall: 0.7768\n",
      "Epoch 24/350\n",
      "1848/1848 [==============================] - 0s 65us/step - loss: 0.1048 - acc: 0.9697 - recall: 0.7760\n",
      "Epoch 25/350\n",
      "1848/1848 [==============================] - 0s 71us/step - loss: 0.1041 - acc: 0.9702 - recall: 0.7656\n",
      "Epoch 26/350\n",
      "1848/1848 [==============================] - 0s 70us/step - loss: 0.1036 - acc: 0.9708 - recall: 0.8029\n",
      "Epoch 27/350\n",
      "1848/1848 [==============================] - 0s 72us/step - loss: 0.1028 - acc: 0.9708 - recall: 0.7960\n",
      "Epoch 28/350\n",
      "1848/1848 [==============================] - 0s 72us/step - loss: 0.1023 - acc: 0.9686 - recall: 0.7926\n",
      "Epoch 29/350\n",
      "1848/1848 [==============================] - 0s 72us/step - loss: 0.1014 - acc: 0.9708 - recall: 0.7908\n",
      "Epoch 30/350\n",
      "1848/1848 [==============================] - 0s 69us/step - loss: 0.1008 - acc: 0.9708 - recall: 0.7960\n",
      "Epoch 31/350\n",
      "1848/1848 [==============================] - 0s 69us/step - loss: 0.0999 - acc: 0.9702 - recall: 0.8098\n",
      "Epoch 32/350\n",
      "1848/1848 [==============================] - 0s 100us/step - loss: 0.0994 - acc: 0.9713 - recall: 0.8156\n",
      "Epoch 33/350\n",
      "1848/1848 [==============================] - 0s 91us/step - loss: 0.0989 - acc: 0.9708 - recall: 0.8014\n",
      "Epoch 34/350\n",
      "1848/1848 [==============================] - 0s 66us/step - loss: 0.0977 - acc: 0.9713 - recall: 0.8134\n",
      "Epoch 35/350\n",
      "1848/1848 [==============================] - 0s 76us/step - loss: 0.0973 - acc: 0.9713 - recall: 0.7737\n",
      "Epoch 36/350\n",
      "1848/1848 [==============================] - 0s 76us/step - loss: 0.0969 - acc: 0.9708 - recall: 0.7913\n",
      "Epoch 37/350\n",
      "1848/1848 [==============================] - 0s 58us/step - loss: 0.0958 - acc: 0.9719 - recall: 0.8217\n",
      "Epoch 38/350\n",
      "1848/1848 [==============================] - 0s 59us/step - loss: 0.0952 - acc: 0.9713 - recall: 0.7925\n",
      "Epoch 39/350\n",
      "1848/1848 [==============================] - 0s 64us/step - loss: 0.0947 - acc: 0.9708 - recall: 0.7740\n",
      "Epoch 40/350\n",
      "1848/1848 [==============================] - 0s 64us/step - loss: 0.0944 - acc: 0.9708 - recall: 0.7878\n",
      "Epoch 41/350\n",
      "1848/1848 [==============================] - 0s 66us/step - loss: 0.0936 - acc: 0.9713 - recall: 0.8212\n",
      "Epoch 42/350\n",
      "1848/1848 [==============================] - 0s 62us/step - loss: 0.0931 - acc: 0.9719 - recall: 0.7976\n",
      "Epoch 43/350\n",
      "1848/1848 [==============================] - 0s 77us/step - loss: 0.0925 - acc: 0.9719 - recall: 0.8098\n",
      "Epoch 44/350\n",
      "1848/1848 [==============================] - 0s 67us/step - loss: 0.0922 - acc: 0.9708 - recall: 0.7469\n",
      "Epoch 45/350\n",
      "1848/1848 [==============================] - 0s 60us/step - loss: 0.0916 - acc: 0.9708 - recall: 0.7786\n",
      "Epoch 46/350\n",
      "1848/1848 [==============================] - 0s 60us/step - loss: 0.0911 - acc: 0.9713 - recall: 0.7869\n",
      "Epoch 47/350\n",
      "1848/1848 [==============================] - 0s 60us/step - loss: 0.0909 - acc: 0.9708 - recall: 0.7851\n",
      "Epoch 48/350\n",
      "1848/1848 [==============================] - 0s 65us/step - loss: 0.0904 - acc: 0.9713 - recall: 0.8178\n",
      "Epoch 49/350\n",
      "1848/1848 [==============================] - 0s 80us/step - loss: 0.0899 - acc: 0.9724 - recall: 0.8182\n",
      "Epoch 50/350\n",
      "1848/1848 [==============================] - 0s 73us/step - loss: 0.0901 - acc: 0.9719 - recall: 0.8294\n",
      "Epoch 51/350\n",
      "1848/1848 [==============================] - 0s 67us/step - loss: 0.0890 - acc: 0.9719 - recall: 0.7785\n",
      "Epoch 52/350\n",
      "1848/1848 [==============================] - 0s 59us/step - loss: 0.0888 - acc: 0.9729 - recall: 0.8009\n",
      "Epoch 53/350\n",
      "1848/1848 [==============================] - 0s 61us/step - loss: 0.0885 - acc: 0.9719 - recall: 0.8218\n",
      "Epoch 54/350\n",
      "1848/1848 [==============================] - 0s 58us/step - loss: 0.0880 - acc: 0.9724 - recall: 0.8074\n",
      "Epoch 55/350\n",
      "1848/1848 [==============================] - 0s 61us/step - loss: 0.0876 - acc: 0.9729 - recall: 0.7962\n",
      "Epoch 56/350\n",
      "1848/1848 [==============================] - 0s 61us/step - loss: 0.0874 - acc: 0.9713 - recall: 0.7704\n",
      "Epoch 57/350\n",
      "1848/1848 [==============================] - 0s 60us/step - loss: 0.0868 - acc: 0.9740 - recall: 0.7968\n",
      "Epoch 58/350\n",
      "1848/1848 [==============================] - 0s 61us/step - loss: 0.0867 - acc: 0.9719 - recall: 0.8001\n",
      "Epoch 59/350\n",
      "1848/1848 [==============================] - 0s 60us/step - loss: 0.0861 - acc: 0.9735 - recall: 0.7868\n",
      "Epoch 60/350\n",
      "1848/1848 [==============================] - 0s 61us/step - loss: 0.0858 - acc: 0.9724 - recall: 0.7750\n",
      "Epoch 61/350\n",
      "1848/1848 [==============================] - 0s 77us/step - loss: 0.0856 - acc: 0.9724 - recall: 0.8026\n",
      "Epoch 62/350\n",
      "1848/1848 [==============================] - 0s 77us/step - loss: 0.0854 - acc: 0.9735 - recall: 0.7708\n",
      "Epoch 63/350\n",
      "1848/1848 [==============================] - 0s 58us/step - loss: 0.0851 - acc: 0.9735 - recall: 0.8006\n",
      "Epoch 64/350\n",
      "1848/1848 [==============================] - 0s 60us/step - loss: 0.0846 - acc: 0.9735 - recall: 0.8304\n",
      "Epoch 65/350\n",
      "1848/1848 [==============================] - 0s 61us/step - loss: 0.0846 - acc: 0.9740 - recall: 0.7811\n",
      "Epoch 66/350\n",
      "1848/1848 [==============================] - 0s 62us/step - loss: 0.0843 - acc: 0.9740 - recall: 0.8373\n",
      "Epoch 67/350\n",
      "1848/1848 [==============================] - 0s 72us/step - loss: 0.0840 - acc: 0.9740 - recall: 0.7913\n",
      "Epoch 68/350\n",
      "1848/1848 [==============================] - 0s 66us/step - loss: 0.0840 - acc: 0.9735 - recall: 0.7849\n",
      "Epoch 69/350\n",
      "1848/1848 [==============================] - 0s 69us/step - loss: 0.0835 - acc: 0.9735 - recall: 0.8088\n",
      "Epoch 70/350\n",
      "1848/1848 [==============================] - 0s 71us/step - loss: 0.0836 - acc: 0.9729 - recall: 0.8419\n",
      "Epoch 71/350\n"
     ]
    },
    {
     "name": "stdout",
     "output_type": "stream",
     "text": [
      "1848/1848 [==============================] - 0s 70us/step - loss: 0.0836 - acc: 0.9746 - recall: 0.7727\n",
      "Epoch 72/350\n",
      "1848/1848 [==============================] - 0s 62us/step - loss: 0.0834 - acc: 0.9740 - recall: 0.8057\n",
      "Epoch 73/350\n",
      "1848/1848 [==============================] - 0s 64us/step - loss: 0.0830 - acc: 0.9740 - recall: 0.8143\n",
      "Epoch 74/350\n",
      "1848/1848 [==============================] - 0s 58us/step - loss: 0.0828 - acc: 0.9740 - recall: 0.8176\n",
      "Epoch 75/350\n",
      "1848/1848 [==============================] - 0s 59us/step - loss: 0.0826 - acc: 0.9740 - recall: 0.8185\n",
      "Epoch 76/350\n",
      "1848/1848 [==============================] - 0s 60us/step - loss: 0.0825 - acc: 0.9729 - recall: 0.8090\n",
      "Epoch 77/350\n",
      "1848/1848 [==============================] - 0s 62us/step - loss: 0.0824 - acc: 0.9751 - recall: 0.7804\n",
      "Epoch 78/350\n",
      "1848/1848 [==============================] - 0s 61us/step - loss: 0.0817 - acc: 0.9751 - recall: 0.7982\n",
      "Epoch 79/350\n",
      "1848/1848 [==============================] - 0s 61us/step - loss: 0.0821 - acc: 0.9735 - recall: 0.8136\n",
      "Epoch 80/350\n",
      "1848/1848 [==============================] - 0s 59us/step - loss: 0.0820 - acc: 0.9740 - recall: 0.7807\n",
      "Epoch 81/350\n",
      "1848/1848 [==============================] - 0s 59us/step - loss: 0.0815 - acc: 0.9735 - recall: 0.7938\n",
      "Epoch 82/350\n",
      "1848/1848 [==============================] - 0s 59us/step - loss: 0.0815 - acc: 0.9746 - recall: 0.8191\n",
      "Epoch 83/350\n",
      "1848/1848 [==============================] - 0s 59us/step - loss: 0.0812 - acc: 0.9746 - recall: 0.7946\n",
      "Epoch 84/350\n",
      "1848/1848 [==============================] - 0s 61us/step - loss: 0.0810 - acc: 0.9751 - recall: 0.8270\n",
      "Epoch 85/350\n",
      "1848/1848 [==============================] - 0s 59us/step - loss: 0.0813 - acc: 0.9746 - recall: 0.8095\n",
      "Epoch 86/350\n",
      "1848/1848 [==============================] - 0s 60us/step - loss: 0.0811 - acc: 0.9740 - recall: 0.8119\n",
      "Epoch 87/350\n",
      "1848/1848 [==============================] - 0s 60us/step - loss: 0.0808 - acc: 0.9746 - recall: 0.8103\n",
      "Epoch 88/350\n",
      "1848/1848 [==============================] - 0s 60us/step - loss: 0.0805 - acc: 0.9751 - recall: 0.8070\n",
      "Epoch 89/350\n",
      "1848/1848 [==============================] - 0s 59us/step - loss: 0.0804 - acc: 0.9746 - recall: 0.8193\n",
      "Epoch 90/350\n",
      "1848/1848 [==============================] - 0s 60us/step - loss: 0.0804 - acc: 0.9751 - recall: 0.8206\n",
      "Epoch 91/350\n",
      "1848/1848 [==============================] - 0s 60us/step - loss: 0.0803 - acc: 0.9746 - recall: 0.7923\n",
      "Epoch 92/350\n",
      "1848/1848 [==============================] - 0s 61us/step - loss: 0.0803 - acc: 0.9740 - recall: 0.8421\n",
      "Epoch 93/350\n",
      "1848/1848 [==============================] - 0s 62us/step - loss: 0.0806 - acc: 0.9746 - recall: 0.7547\n",
      "Epoch 94/350\n",
      "1848/1848 [==============================] - 0s 60us/step - loss: 0.0798 - acc: 0.9751 - recall: 0.8159\n",
      "Epoch 95/350\n",
      "1848/1848 [==============================] - 0s 60us/step - loss: 0.0797 - acc: 0.9751 - recall: 0.8281\n",
      "Epoch 96/350\n",
      "1848/1848 [==============================] - 0s 63us/step - loss: 0.0797 - acc: 0.9746 - recall: 0.8063\n",
      "Epoch 97/350\n",
      "1848/1848 [==============================] - 0s 63us/step - loss: 0.0796 - acc: 0.9740 - recall: 0.7709\n",
      "Epoch 98/350\n",
      "1848/1848 [==============================] - 0s 61us/step - loss: 0.0795 - acc: 0.9756 - recall: 0.8189\n",
      "Epoch 99/350\n",
      "1848/1848 [==============================] - 0s 61us/step - loss: 0.0794 - acc: 0.9756 - recall: 0.8074\n",
      "Epoch 100/350\n",
      "1848/1848 [==============================] - 0s 61us/step - loss: 0.0794 - acc: 0.9735 - recall: 0.8267\n",
      "Epoch 101/350\n",
      "1848/1848 [==============================] - 0s 59us/step - loss: 0.0792 - acc: 0.9751 - recall: 0.7831\n",
      "Epoch 102/350\n",
      "1848/1848 [==============================] - 0s 63us/step - loss: 0.0794 - acc: 0.9751 - recall: 0.8290\n",
      "Epoch 103/350\n",
      "1848/1848 [==============================] - 0s 61us/step - loss: 0.0789 - acc: 0.9746 - recall: 0.8128\n",
      "Epoch 104/350\n",
      "1848/1848 [==============================] - 0s 59us/step - loss: 0.0784 - acc: 0.9751 - recall: 0.8195\n",
      "Epoch 105/350\n",
      "1848/1848 [==============================] - 0s 60us/step - loss: 0.0785 - acc: 0.9762 - recall: 0.8083\n",
      "Epoch 106/350\n",
      "1848/1848 [==============================] - 0s 60us/step - loss: 0.0784 - acc: 0.9746 - recall: 0.7909\n",
      "Epoch 107/350\n",
      "1848/1848 [==============================] - 0s 61us/step - loss: 0.0783 - acc: 0.9740 - recall: 0.8190\n",
      "Epoch 108/350\n",
      "1848/1848 [==============================] - 0s 61us/step - loss: 0.0782 - acc: 0.9751 - recall: 0.8138\n",
      "Epoch 109/350\n",
      "1848/1848 [==============================] - 0s 59us/step - loss: 0.0783 - acc: 0.9746 - recall: 0.7965\n",
      "Epoch 110/350\n",
      "1848/1848 [==============================] - 0s 59us/step - loss: 0.0777 - acc: 0.9746 - recall: 0.8044\n",
      "Epoch 111/350\n",
      "1848/1848 [==============================] - 0s 60us/step - loss: 0.0780 - acc: 0.9746 - recall: 0.7986\n",
      "Epoch 112/350\n",
      "1848/1848 [==============================] - 0s 60us/step - loss: 0.0779 - acc: 0.9756 - recall: 0.8278\n",
      "Epoch 113/350\n",
      "1848/1848 [==============================] - 0s 61us/step - loss: 0.0779 - acc: 0.9746 - recall: 0.8201\n",
      "Epoch 114/350\n",
      "1848/1848 [==============================] - 0s 60us/step - loss: 0.0772 - acc: 0.9740 - recall: 0.8227\n",
      "Epoch 115/350\n",
      "1848/1848 [==============================] - 0s 60us/step - loss: 0.0775 - acc: 0.9746 - recall: 0.8176\n",
      "Epoch 116/350\n",
      "1848/1848 [==============================] - 0s 62us/step - loss: 0.0773 - acc: 0.9746 - recall: 0.8129\n",
      "Epoch 117/350\n",
      "1848/1848 [==============================] - 0s 63us/step - loss: 0.0772 - acc: 0.9740 - recall: 0.8489\n",
      "Epoch 118/350\n",
      "1848/1848 [==============================] - 0s 60us/step - loss: 0.0778 - acc: 0.9751 - recall: 0.8409\n",
      "Epoch 119/350\n",
      "1848/1848 [==============================] - 0s 62us/step - loss: 0.0766 - acc: 0.9746 - recall: 0.7877\n",
      "Epoch 120/350\n",
      "1848/1848 [==============================] - 0s 61us/step - loss: 0.0768 - acc: 0.9746 - recall: 0.7921\n",
      "Epoch 121/350\n",
      "1848/1848 [==============================] - 0s 59us/step - loss: 0.0765 - acc: 0.9740 - recall: 0.8152\n",
      "Epoch 122/350\n",
      "1848/1848 [==============================] - 0s 60us/step - loss: 0.0764 - acc: 0.9740 - recall: 0.8341\n",
      "Epoch 123/350\n",
      "1848/1848 [==============================] - 0s 60us/step - loss: 0.0763 - acc: 0.9751 - recall: 0.7873\n",
      "Epoch 124/350\n",
      "1848/1848 [==============================] - 0s 61us/step - loss: 0.0763 - acc: 0.9740 - recall: 0.7584\n",
      "Epoch 125/350\n",
      "1848/1848 [==============================] - 0s 61us/step - loss: 0.0760 - acc: 0.9740 - recall: 0.7941\n",
      "Epoch 126/350\n",
      "1848/1848 [==============================] - 0s 60us/step - loss: 0.0762 - acc: 0.9746 - recall: 0.8171\n",
      "Epoch 127/350\n",
      "1848/1848 [==============================] - 0s 62us/step - loss: 0.0763 - acc: 0.9746 - recall: 0.8263\n",
      "Epoch 128/350\n",
      "1848/1848 [==============================] - 0s 60us/step - loss: 0.0762 - acc: 0.9746 - recall: 0.8101\n",
      "Epoch 129/350\n",
      "1848/1848 [==============================] - 0s 61us/step - loss: 0.0760 - acc: 0.9746 - recall: 0.7840\n",
      "Epoch 130/350\n",
      "1848/1848 [==============================] - 0s 62us/step - loss: 0.0758 - acc: 0.9746 - recall: 0.8150\n",
      "Epoch 131/350\n",
      "1848/1848 [==============================] - 0s 67us/step - loss: 0.0759 - acc: 0.9746 - recall: 0.8057\n",
      "Epoch 132/350\n",
      "1848/1848 [==============================] - 0s 66us/step - loss: 0.0757 - acc: 0.9751 - recall: 0.7787\n",
      "Epoch 133/350\n",
      "1848/1848 [==============================] - 0s 64us/step - loss: 0.0757 - acc: 0.9740 - recall: 0.8297\n",
      "Epoch 134/350\n",
      "1848/1848 [==============================] - 0s 72us/step - loss: 0.0753 - acc: 0.9740 - recall: 0.8224\n",
      "Epoch 135/350\n",
      "1848/1848 [==============================] - 0s 70us/step - loss: 0.0754 - acc: 0.9751 - recall: 0.7824\n",
      "Epoch 136/350\n",
      "1848/1848 [==============================] - 0s 64us/step - loss: 0.0755 - acc: 0.9751 - recall: 0.8223\n",
      "Epoch 137/350\n",
      "1848/1848 [==============================] - 0s 56us/step - loss: 0.0755 - acc: 0.9746 - recall: 0.8220\n",
      "Epoch 138/350\n",
      "1848/1848 [==============================] - 0s 56us/step - loss: 0.0752 - acc: 0.9746 - recall: 0.8120\n",
      "Epoch 139/350\n",
      "1848/1848 [==============================] - 0s 59us/step - loss: 0.0750 - acc: 0.9740 - recall: 0.8039\n",
      "Epoch 140/350\n",
      "1848/1848 [==============================] - 0s 52us/step - loss: 0.0755 - acc: 0.9756 - recall: 0.8007\n",
      "Epoch 141/350\n",
      "1848/1848 [==============================] - 0s 64us/step - loss: 0.0748 - acc: 0.9751 - recall: 0.7847\n",
      "Epoch 142/350\n",
      "1848/1848 [==============================] - 0s 57us/step - loss: 0.0749 - acc: 0.9756 - recall: 0.8087\n",
      "Epoch 143/350\n",
      "1848/1848 [==============================] - 0s 60us/step - loss: 0.0746 - acc: 0.9740 - recall: 0.8097\n",
      "Epoch 144/350\n",
      "1848/1848 [==============================] - 0s 61us/step - loss: 0.0748 - acc: 0.9751 - recall: 0.8421\n",
      "Epoch 145/350\n",
      "1848/1848 [==============================] - 0s 60us/step - loss: 0.0745 - acc: 0.9756 - recall: 0.7915\n",
      "Epoch 146/350\n",
      "1848/1848 [==============================] - 0s 60us/step - loss: 0.0748 - acc: 0.9751 - recall: 0.8120\n",
      "Epoch 147/350\n",
      "1848/1848 [==============================] - 0s 60us/step - loss: 0.0745 - acc: 0.9740 - recall: 0.7862\n",
      "Epoch 148/350\n",
      "1848/1848 [==============================] - 0s 59us/step - loss: 0.0743 - acc: 0.9746 - recall: 0.8314\n",
      "Epoch 149/350\n",
      "1848/1848 [==============================] - 0s 60us/step - loss: 0.0745 - acc: 0.9746 - recall: 0.8220\n",
      "Epoch 150/350\n",
      "1848/1848 [==============================] - 0s 59us/step - loss: 0.0753 - acc: 0.9746 - recall: 0.8159\n",
      "Epoch 151/350\n",
      "1848/1848 [==============================] - 0s 59us/step - loss: 0.0740 - acc: 0.9746 - recall: 0.8113\n",
      "Epoch 152/350\n",
      "1848/1848 [==============================] - 0s 59us/step - loss: 0.0740 - acc: 0.9740 - recall: 0.8080\n",
      "Epoch 153/350\n",
      "1848/1848 [==============================] - 0s 60us/step - loss: 0.0739 - acc: 0.9756 - recall: 0.8680\n",
      "Epoch 154/350\n",
      "1848/1848 [==============================] - 0s 60us/step - loss: 0.0737 - acc: 0.9756 - recall: 0.8678\n",
      "Epoch 155/350\n",
      "1848/1848 [==============================] - 0s 59us/step - loss: 0.0740 - acc: 0.9751 - recall: 0.8270\n",
      "Epoch 156/350\n",
      "1848/1848 [==============================] - 0s 59us/step - loss: 0.0739 - acc: 0.9740 - recall: 0.8267\n",
      "Epoch 157/350\n",
      "1848/1848 [==============================] - 0s 59us/step - loss: 0.0740 - acc: 0.9756 - recall: 0.8663\n",
      "Epoch 158/350\n",
      "1848/1848 [==============================] - 0s 60us/step - loss: 0.0732 - acc: 0.9746 - recall: 0.7880\n",
      "Epoch 159/350\n",
      "1848/1848 [==============================] - 0s 60us/step - loss: 0.0738 - acc: 0.9751 - recall: 0.8258\n",
      "Epoch 160/350\n",
      "1848/1848 [==============================] - 0s 60us/step - loss: 0.0735 - acc: 0.9740 - recall: 0.8243\n",
      "Epoch 161/350\n",
      "1848/1848 [==============================] - 0s 60us/step - loss: 0.0735 - acc: 0.9740 - recall: 0.8178\n",
      "Epoch 162/350\n",
      "1848/1848 [==============================] - 0s 60us/step - loss: 0.0732 - acc: 0.9756 - recall: 0.7872\n",
      "Epoch 163/350\n",
      "1848/1848 [==============================] - 0s 60us/step - loss: 0.0731 - acc: 0.9751 - recall: 0.8063\n",
      "Epoch 164/350\n",
      "1848/1848 [==============================] - 0s 59us/step - loss: 0.0730 - acc: 0.9740 - recall: 0.8075\n",
      "Epoch 165/350\n",
      "1848/1848 [==============================] - 0s 60us/step - loss: 0.0729 - acc: 0.9751 - recall: 0.8155\n",
      "Epoch 166/350\n",
      "1848/1848 [==============================] - 0s 59us/step - loss: 0.0729 - acc: 0.9751 - recall: 0.8143\n",
      "Epoch 167/350\n",
      "1848/1848 [==============================] - 0s 58us/step - loss: 0.0728 - acc: 0.9751 - recall: 0.8395\n",
      "Epoch 168/350\n",
      "1848/1848 [==============================] - 0s 61us/step - loss: 0.0733 - acc: 0.9756 - recall: 0.8017\n",
      "Epoch 169/350\n",
      "1848/1848 [==============================] - 0s 60us/step - loss: 0.0731 - acc: 0.9756 - recall: 0.8034\n",
      "Epoch 170/350\n",
      "1848/1848 [==============================] - 0s 62us/step - loss: 0.0728 - acc: 0.9762 - recall: 0.8026\n",
      "Epoch 171/350\n",
      "1848/1848 [==============================] - 0s 63us/step - loss: 0.0721 - acc: 0.9751 - recall: 0.8433\n",
      "Epoch 172/350\n",
      "1848/1848 [==============================] - 0s 61us/step - loss: 0.0730 - acc: 0.9746 - recall: 0.7964\n",
      "Epoch 173/350\n",
      "1848/1848 [==============================] - 0s 61us/step - loss: 0.0723 - acc: 0.9746 - recall: 0.7881\n",
      "Epoch 174/350\n",
      "1848/1848 [==============================] - 0s 60us/step - loss: 0.0721 - acc: 0.9756 - recall: 0.8107\n",
      "Epoch 175/350\n",
      "1848/1848 [==============================] - 0s 60us/step - loss: 0.0722 - acc: 0.9756 - recall: 0.7969\n",
      "Epoch 176/350\n",
      "1848/1848 [==============================] - 0s 61us/step - loss: 0.0726 - acc: 0.9756 - recall: 0.8149\n",
      "Epoch 177/350\n",
      "1848/1848 [==============================] - 0s 62us/step - loss: 0.0725 - acc: 0.9762 - recall: 0.7804\n",
      "Epoch 178/350\n",
      "1848/1848 [==============================] - 0s 61us/step - loss: 0.0721 - acc: 0.9756 - recall: 0.8180\n",
      "Epoch 179/350\n",
      "1848/1848 [==============================] - 0s 60us/step - loss: 0.0721 - acc: 0.9751 - recall: 0.8151\n",
      "Epoch 180/350\n",
      "1848/1848 [==============================] - 0s 60us/step - loss: 0.0717 - acc: 0.9756 - recall: 0.8143\n",
      "Epoch 181/350\n",
      "1848/1848 [==============================] - 0s 59us/step - loss: 0.0720 - acc: 0.9746 - recall: 0.8119\n",
      "Epoch 182/350\n",
      "1848/1848 [==============================] - 0s 60us/step - loss: 0.0716 - acc: 0.9756 - recall: 0.8135\n",
      "Epoch 183/350\n",
      "1848/1848 [==============================] - 0s 62us/step - loss: 0.0720 - acc: 0.9751 - recall: 0.8094\n",
      "Epoch 184/350\n",
      "1848/1848 [==============================] - 0s 61us/step - loss: 0.0713 - acc: 0.9751 - recall: 0.8047\n",
      "Epoch 185/350\n",
      "1848/1848 [==============================] - 0s 63us/step - loss: 0.0716 - acc: 0.9751 - recall: 0.8194\n",
      "Epoch 186/350\n",
      "1848/1848 [==============================] - 0s 64us/step - loss: 0.0712 - acc: 0.9751 - recall: 0.7908\n",
      "Epoch 187/350\n",
      "1848/1848 [==============================] - 0s 65us/step - loss: 0.0710 - acc: 0.9756 - recall: 0.8402\n",
      "Epoch 188/350\n",
      "1848/1848 [==============================] - 0s 64us/step - loss: 0.0716 - acc: 0.9751 - recall: 0.8240\n",
      "Epoch 189/350\n",
      "1848/1848 [==============================] - 0s 60us/step - loss: 0.0713 - acc: 0.9751 - recall: 0.8111\n",
      "Epoch 190/350\n",
      "1848/1848 [==============================] - 0s 63us/step - loss: 0.0710 - acc: 0.9751 - recall: 0.8061\n",
      "Epoch 191/350\n",
      "1848/1848 [==============================] - 0s 63us/step - loss: 0.0710 - acc: 0.9746 - recall: 0.8172\n",
      "Epoch 192/350\n",
      "1848/1848 [==============================] - 0s 61us/step - loss: 0.0709 - acc: 0.9756 - recall: 0.8331\n",
      "Epoch 193/350\n",
      "1848/1848 [==============================] - 0s 63us/step - loss: 0.0706 - acc: 0.9751 - recall: 0.8076\n",
      "Epoch 194/350\n",
      "1848/1848 [==============================] - 0s 62us/step - loss: 0.0705 - acc: 0.9767 - recall: 0.8182\n",
      "Epoch 195/350\n",
      "1848/1848 [==============================] - 0s 60us/step - loss: 0.0706 - acc: 0.9746 - recall: 0.8099\n",
      "Epoch 196/350\n",
      "1848/1848 [==============================] - 0s 60us/step - loss: 0.0705 - acc: 0.9762 - recall: 0.8300\n",
      "Epoch 197/350\n",
      "1848/1848 [==============================] - 0s 60us/step - loss: 0.0704 - acc: 0.9756 - recall: 0.8650\n",
      "Epoch 198/350\n",
      "1848/1848 [==============================] - 0s 60us/step - loss: 0.0707 - acc: 0.9767 - recall: 0.8477\n",
      "Epoch 199/350\n",
      "1848/1848 [==============================] - 0s 60us/step - loss: 0.0703 - acc: 0.9773 - recall: 0.8489\n",
      "Epoch 200/350\n",
      "1848/1848 [==============================] - 0s 60us/step - loss: 0.0708 - acc: 0.9767 - recall: 0.7802\n",
      "Epoch 201/350\n",
      "1848/1848 [==============================] - 0s 61us/step - loss: 0.0705 - acc: 0.9756 - recall: 0.8496\n",
      "Epoch 202/350\n",
      "1848/1848 [==============================] - 0s 59us/step - loss: 0.0700 - acc: 0.9762 - recall: 0.8143\n",
      "Epoch 203/350\n",
      "1848/1848 [==============================] - 0s 60us/step - loss: 0.0703 - acc: 0.9762 - recall: 0.8059\n",
      "Epoch 204/350\n",
      "1848/1848 [==============================] - 0s 60us/step - loss: 0.0699 - acc: 0.9767 - recall: 0.8194\n",
      "Epoch 205/350\n",
      "1848/1848 [==============================] - 0s 61us/step - loss: 0.0701 - acc: 0.9762 - recall: 0.8698\n",
      "Epoch 206/350\n",
      "1848/1848 [==============================] - 0s 60us/step - loss: 0.0697 - acc: 0.9756 - recall: 0.8284\n",
      "Epoch 207/350\n",
      "1848/1848 [==============================] - 0s 61us/step - loss: 0.0697 - acc: 0.9767 - recall: 0.8364\n",
      "Epoch 208/350\n",
      "1848/1848 [==============================] - 0s 62us/step - loss: 0.0695 - acc: 0.9762 - recall: 0.8067\n",
      "Epoch 209/350\n"
     ]
    },
    {
     "name": "stdout",
     "output_type": "stream",
     "text": [
      "1848/1848 [==============================] - 0s 61us/step - loss: 0.0696 - acc: 0.9773 - recall: 0.8068\n",
      "Epoch 210/350\n",
      "1848/1848 [==============================] - 0s 61us/step - loss: 0.0698 - acc: 0.9762 - recall: 0.8159\n",
      "Epoch 211/350\n",
      "1848/1848 [==============================] - 0s 61us/step - loss: 0.0695 - acc: 0.9767 - recall: 0.8239\n",
      "Epoch 212/350\n",
      "1848/1848 [==============================] - 0s 61us/step - loss: 0.0693 - acc: 0.9789 - recall: 0.8160\n",
      "Epoch 213/350\n",
      "1848/1848 [==============================] - 0s 61us/step - loss: 0.0691 - acc: 0.9756 - recall: 0.8402\n",
      "Epoch 214/350\n",
      "1848/1848 [==============================] - 0s 60us/step - loss: 0.0691 - acc: 0.9778 - recall: 0.8454\n",
      "Epoch 215/350\n",
      "1848/1848 [==============================] - 0s 60us/step - loss: 0.0693 - acc: 0.9778 - recall: 0.8390\n",
      "Epoch 216/350\n",
      "1848/1848 [==============================] - 0s 61us/step - loss: 0.0689 - acc: 0.9778 - recall: 0.7988\n",
      "Epoch 217/350\n",
      "1848/1848 [==============================] - 0s 60us/step - loss: 0.0691 - acc: 0.9762 - recall: 0.8190\n",
      "Epoch 218/350\n",
      "1848/1848 [==============================] - 0s 60us/step - loss: 0.0694 - acc: 0.9767 - recall: 0.8040\n",
      "Epoch 219/350\n",
      "1848/1848 [==============================] - 0s 60us/step - loss: 0.0686 - acc: 0.9762 - recall: 0.8195\n",
      "Epoch 220/350\n",
      "1848/1848 [==============================] - 0s 60us/step - loss: 0.0683 - acc: 0.9767 - recall: 0.8103\n",
      "Epoch 221/350\n",
      "1848/1848 [==============================] - 0s 59us/step - loss: 0.0687 - acc: 0.9778 - recall: 0.7935\n",
      "Epoch 222/350\n",
      "1848/1848 [==============================] - 0s 58us/step - loss: 0.0684 - acc: 0.9784 - recall: 0.8221\n",
      "Epoch 223/350\n",
      "1848/1848 [==============================] - 0s 65us/step - loss: 0.0688 - acc: 0.9767 - recall: 0.8298\n",
      "Epoch 224/350\n",
      "1848/1848 [==============================] - 0s 61us/step - loss: 0.0685 - acc: 0.9778 - recall: 0.7952\n",
      "Epoch 225/350\n",
      "1848/1848 [==============================] - 0s 60us/step - loss: 0.0688 - acc: 0.9767 - recall: 0.8279\n",
      "Epoch 226/350\n",
      "1848/1848 [==============================] - 0s 59us/step - loss: 0.0686 - acc: 0.9773 - recall: 0.8176\n",
      "Epoch 227/350\n",
      "1848/1848 [==============================] - 0s 59us/step - loss: 0.0681 - acc: 0.9767 - recall: 0.8229\n",
      "Epoch 228/350\n",
      "1848/1848 [==============================] - 0s 62us/step - loss: 0.0681 - acc: 0.9756 - recall: 0.8390\n",
      "Epoch 229/350\n",
      "1848/1848 [==============================] - 0s 60us/step - loss: 0.0681 - acc: 0.9778 - recall: 0.8300\n",
      "Epoch 230/350\n",
      "1848/1848 [==============================] - 0s 60us/step - loss: 0.0680 - acc: 0.9773 - recall: 0.8402\n",
      "Epoch 231/350\n",
      "1848/1848 [==============================] - 0s 63us/step - loss: 0.0679 - acc: 0.9784 - recall: 0.8233\n",
      "Epoch 232/350\n",
      "1848/1848 [==============================] - 0s 74us/step - loss: 0.0679 - acc: 0.9762 - recall: 0.8057\n",
      "Epoch 233/350\n",
      "1848/1848 [==============================] - 0s 63us/step - loss: 0.0682 - acc: 0.9762 - recall: 0.7799\n",
      "Epoch 234/350\n",
      "1848/1848 [==============================] - 0s 63us/step - loss: 0.0676 - acc: 0.9784 - recall: 0.8501\n",
      "Epoch 235/350\n",
      "1848/1848 [==============================] - 0s 61us/step - loss: 0.0674 - acc: 0.9789 - recall: 0.8385\n",
      "Epoch 236/350\n",
      "1848/1848 [==============================] - 0s 60us/step - loss: 0.0685 - acc: 0.9778 - recall: 0.8216\n",
      "Epoch 237/350\n",
      "1848/1848 [==============================] - 0s 60us/step - loss: 0.0676 - acc: 0.9767 - recall: 0.8697\n",
      "Epoch 238/350\n",
      "1848/1848 [==============================] - 0s 62us/step - loss: 0.0673 - acc: 0.9778 - recall: 0.8126\n",
      "Epoch 239/350\n",
      "1848/1848 [==============================] - 0s 60us/step - loss: 0.0673 - acc: 0.9773 - recall: 0.8230\n",
      "Epoch 240/350\n",
      "1848/1848 [==============================] - 0s 61us/step - loss: 0.0677 - acc: 0.9784 - recall: 0.8208\n",
      "Epoch 241/350\n",
      "1848/1848 [==============================] - 0s 61us/step - loss: 0.0671 - acc: 0.9778 - recall: 0.8222\n",
      "Epoch 242/350\n",
      "1848/1848 [==============================] - 0s 61us/step - loss: 0.0673 - acc: 0.9773 - recall: 0.7802\n",
      "Epoch 243/350\n",
      "1848/1848 [==============================] - 0s 60us/step - loss: 0.0672 - acc: 0.9789 - recall: 0.8254\n",
      "Epoch 244/350\n",
      "1848/1848 [==============================] - 0s 60us/step - loss: 0.0669 - acc: 0.9784 - recall: 0.8448\n",
      "Epoch 245/350\n",
      "1848/1848 [==============================] - 0s 60us/step - loss: 0.0671 - acc: 0.9767 - recall: 0.8065\n",
      "Epoch 246/350\n",
      "1848/1848 [==============================] - 0s 61us/step - loss: 0.0673 - acc: 0.9778 - recall: 0.8324\n",
      "Epoch 247/350\n",
      "1848/1848 [==============================] - 0s 60us/step - loss: 0.0667 - acc: 0.9778 - recall: 0.8343\n",
      "Epoch 248/350\n",
      "1848/1848 [==============================] - 0s 59us/step - loss: 0.0665 - acc: 0.9767 - recall: 0.8247\n",
      "Epoch 249/350\n",
      "1848/1848 [==============================] - 0s 62us/step - loss: 0.0667 - acc: 0.9773 - recall: 0.7804\n",
      "Epoch 250/350\n",
      "1848/1848 [==============================] - 0s 65us/step - loss: 0.0666 - acc: 0.9784 - recall: 0.8102\n",
      "Epoch 251/350\n",
      "1848/1848 [==============================] - 0s 61us/step - loss: 0.0665 - acc: 0.9784 - recall: 0.8609\n",
      "Epoch 252/350\n",
      "1848/1848 [==============================] - 0s 60us/step - loss: 0.0663 - acc: 0.9789 - recall: 0.8347\n",
      "Epoch 253/350\n",
      "1848/1848 [==============================] - 0s 61us/step - loss: 0.0664 - acc: 0.9778 - recall: 0.8356\n",
      "Epoch 254/350\n",
      "1848/1848 [==============================] - 0s 64us/step - loss: 0.0665 - acc: 0.9767 - recall: 0.8259\n",
      "Epoch 255/350\n",
      "1848/1848 [==============================] - 0s 62us/step - loss: 0.0665 - acc: 0.9773 - recall: 0.8492\n",
      "Epoch 256/350\n",
      "1848/1848 [==============================] - 0s 60us/step - loss: 0.0666 - acc: 0.9762 - recall: 0.7890\n",
      "Epoch 257/350\n",
      "1848/1848 [==============================] - 0s 59us/step - loss: 0.0665 - acc: 0.9773 - recall: 0.8142\n",
      "Epoch 258/350\n",
      "1848/1848 [==============================] - 0s 64us/step - loss: 0.0661 - acc: 0.9778 - recall: 0.8444\n",
      "Epoch 259/350\n",
      "1848/1848 [==============================] - 0s 61us/step - loss: 0.0661 - acc: 0.9789 - recall: 0.8562\n",
      "Epoch 260/350\n",
      "1848/1848 [==============================] - 0s 60us/step - loss: 0.0660 - acc: 0.9756 - recall: 0.7761\n",
      "Epoch 261/350\n",
      "1848/1848 [==============================] - 0s 62us/step - loss: 0.0660 - acc: 0.9789 - recall: 0.8663\n",
      "Epoch 262/350\n",
      "1848/1848 [==============================] - 0s 63us/step - loss: 0.0663 - acc: 0.9778 - recall: 0.8589\n",
      "Epoch 263/350\n",
      "1848/1848 [==============================] - 0s 61us/step - loss: 0.0661 - acc: 0.9767 - recall: 0.8488\n",
      "Epoch 264/350\n",
      "1848/1848 [==============================] - 0s 59us/step - loss: 0.0657 - acc: 0.9778 - recall: 0.8171\n",
      "Epoch 265/350\n",
      "1848/1848 [==============================] - 0s 60us/step - loss: 0.0655 - acc: 0.9794 - recall: 0.8314\n",
      "Epoch 266/350\n",
      "1848/1848 [==============================] - 0s 60us/step - loss: 0.0655 - acc: 0.9773 - recall: 0.8437\n",
      "Epoch 267/350\n",
      "1848/1848 [==============================] - 0s 61us/step - loss: 0.0655 - acc: 0.9784 - recall: 0.8450\n",
      "Epoch 268/350\n",
      "1848/1848 [==============================] - 0s 60us/step - loss: 0.0656 - acc: 0.9789 - recall: 0.7896\n",
      "Epoch 269/350\n",
      "1848/1848 [==============================] - 0s 62us/step - loss: 0.0658 - acc: 0.9784 - recall: 0.8394\n",
      "Epoch 270/350\n",
      "1848/1848 [==============================] - 0s 61us/step - loss: 0.0658 - acc: 0.9773 - recall: 0.7792\n",
      "Epoch 271/350\n",
      "1848/1848 [==============================] - 0s 60us/step - loss: 0.0656 - acc: 0.9784 - recall: 0.7923\n",
      "Epoch 272/350\n",
      "1848/1848 [==============================] - 0s 65us/step - loss: 0.0651 - acc: 0.9784 - recall: 0.8382\n",
      "Epoch 273/350\n",
      "1848/1848 [==============================] - 0s 64us/step - loss: 0.0655 - acc: 0.9784 - recall: 0.8366\n",
      "Epoch 274/350\n",
      "1848/1848 [==============================] - 0s 63us/step - loss: 0.0655 - acc: 0.9789 - recall: 0.8458\n",
      "Epoch 275/350\n",
      "1848/1848 [==============================] - 0s 63us/step - loss: 0.0655 - acc: 0.9794 - recall: 0.8336\n",
      "Epoch 276/350\n",
      "1848/1848 [==============================] - 0s 63us/step - loss: 0.0654 - acc: 0.9794 - recall: 0.8557\n",
      "Epoch 277/350\n",
      "1848/1848 [==============================] - 0s 62us/step - loss: 0.0656 - acc: 0.9773 - recall: 0.8362\n",
      "Epoch 278/350\n",
      "1848/1848 [==============================] - 0s 66us/step - loss: 0.0653 - acc: 0.9784 - recall: 0.8280\n",
      "Epoch 279/350\n",
      "1848/1848 [==============================] - 0s 63us/step - loss: 0.0657 - acc: 0.9784 - recall: 0.8466\n",
      "Epoch 280/350\n",
      "1848/1848 [==============================] - 0s 59us/step - loss: 0.0651 - acc: 0.9789 - recall: 0.8222\n",
      "Epoch 281/350\n",
      "1848/1848 [==============================] - 0s 59us/step - loss: 0.0651 - acc: 0.9762 - recall: 0.8241\n",
      "Epoch 282/350\n",
      "1848/1848 [==============================] - 0s 62us/step - loss: 0.0649 - acc: 0.9784 - recall: 0.8506\n",
      "Epoch 283/350\n",
      "1848/1848 [==============================] - 0s 63us/step - loss: 0.0647 - acc: 0.9778 - recall: 0.8363\n",
      "Epoch 284/350\n",
      "1848/1848 [==============================] - 0s 60us/step - loss: 0.0652 - acc: 0.9789 - recall: 0.8329\n",
      "Epoch 285/350\n",
      "1848/1848 [==============================] - 0s 60us/step - loss: 0.0649 - acc: 0.9784 - recall: 0.8287\n",
      "Epoch 286/350\n",
      "1848/1848 [==============================] - 0s 60us/step - loss: 0.0652 - acc: 0.9778 - recall: 0.8195\n",
      "Epoch 287/350\n",
      "1848/1848 [==============================] - 0s 61us/step - loss: 0.0645 - acc: 0.9794 - recall: 0.8398\n",
      "Epoch 288/350\n",
      "1848/1848 [==============================] - 0s 62us/step - loss: 0.0646 - acc: 0.9784 - recall: 0.8607\n",
      "Epoch 289/350\n",
      "1848/1848 [==============================] - 0s 61us/step - loss: 0.0644 - acc: 0.9784 - recall: 0.8040\n",
      "Epoch 290/350\n",
      "1848/1848 [==============================] - 0s 59us/step - loss: 0.0647 - acc: 0.9778 - recall: 0.8019\n",
      "Epoch 291/350\n",
      "1848/1848 [==============================] - 0s 60us/step - loss: 0.0660 - acc: 0.9784 - recall: 0.8385\n",
      "Epoch 292/350\n",
      "1848/1848 [==============================] - 0s 59us/step - loss: 0.0649 - acc: 0.9784 - recall: 0.8436\n",
      "Epoch 293/350\n",
      "1848/1848 [==============================] - 0s 61us/step - loss: 0.0642 - acc: 0.9789 - recall: 0.8088\n",
      "Epoch 294/350\n",
      "1848/1848 [==============================] - 0s 62us/step - loss: 0.0641 - acc: 0.9794 - recall: 0.8249\n",
      "Epoch 295/350\n",
      "1848/1848 [==============================] - 0s 59us/step - loss: 0.0637 - acc: 0.9794 - recall: 0.8453\n",
      "Epoch 296/350\n",
      "1848/1848 [==============================] - 0s 63us/step - loss: 0.0642 - acc: 0.9784 - recall: 0.8589\n",
      "Epoch 297/350\n",
      "1848/1848 [==============================] - 0s 61us/step - loss: 0.0640 - acc: 0.9800 - recall: 0.8187\n",
      "Epoch 298/350\n",
      "1848/1848 [==============================] - 0s 60us/step - loss: 0.0637 - acc: 0.9789 - recall: 0.8391\n",
      "Epoch 299/350\n",
      "1848/1848 [==============================] - 0s 60us/step - loss: 0.0636 - acc: 0.9789 - recall: 0.8295\n",
      "Epoch 300/350\n",
      "1848/1848 [==============================] - 0s 60us/step - loss: 0.0633 - acc: 0.9800 - recall: 0.8182\n",
      "Epoch 301/350\n",
      "1848/1848 [==============================] - 0s 60us/step - loss: 0.0634 - acc: 0.9811 - recall: 0.8459\n",
      "Epoch 302/350\n",
      "1848/1848 [==============================] - 0s 61us/step - loss: 0.0634 - acc: 0.9789 - recall: 0.8308\n",
      "Epoch 303/350\n",
      "1848/1848 [==============================] - 0s 60us/step - loss: 0.0636 - acc: 0.9789 - recall: 0.8546\n",
      "Epoch 304/350\n",
      "1848/1848 [==============================] - 0s 62us/step - loss: 0.0637 - acc: 0.9794 - recall: 0.8218\n",
      "Epoch 305/350\n",
      "1848/1848 [==============================] - 0s 61us/step - loss: 0.0629 - acc: 0.9800 - recall: 0.8182\n",
      "Epoch 306/350\n",
      "1848/1848 [==============================] - 0s 61us/step - loss: 0.0635 - acc: 0.9789 - recall: 0.7917\n",
      "Epoch 307/350\n",
      "1848/1848 [==============================] - 0s 60us/step - loss: 0.0631 - acc: 0.9794 - recall: 0.8425\n",
      "Epoch 308/350\n",
      "1848/1848 [==============================] - 0s 58us/step - loss: 0.0632 - acc: 0.9794 - recall: 0.7974\n",
      "Epoch 309/350\n",
      "1848/1848 [==============================] - 0s 60us/step - loss: 0.0630 - acc: 0.9800 - recall: 0.8358\n",
      "Epoch 310/350\n",
      "1848/1848 [==============================] - 0s 59us/step - loss: 0.0636 - acc: 0.9789 - recall: 0.8371\n",
      "Epoch 311/350\n",
      "1848/1848 [==============================] - 0s 61us/step - loss: 0.0635 - acc: 0.9805 - recall: 0.8312\n",
      "Epoch 312/350\n",
      "1848/1848 [==============================] - 0s 60us/step - loss: 0.0632 - acc: 0.9794 - recall: 0.8408\n",
      "Epoch 313/350\n",
      "1848/1848 [==============================] - 0s 59us/step - loss: 0.0627 - acc: 0.9800 - recall: 0.8212\n",
      "Epoch 314/350\n",
      "1848/1848 [==============================] - 0s 60us/step - loss: 0.0629 - acc: 0.9794 - recall: 0.8511\n",
      "Epoch 315/350\n",
      "1848/1848 [==============================] - 0s 59us/step - loss: 0.0630 - acc: 0.9789 - recall: 0.8321\n",
      "Epoch 316/350\n",
      "1848/1848 [==============================] - 0s 60us/step - loss: 0.0628 - acc: 0.9794 - recall: 0.8547\n",
      "Epoch 317/350\n",
      "1848/1848 [==============================] - 0s 60us/step - loss: 0.0630 - acc: 0.9805 - recall: 0.8688\n",
      "Epoch 318/350\n",
      "1848/1848 [==============================] - 0s 62us/step - loss: 0.0628 - acc: 0.9794 - recall: 0.8416\n",
      "Epoch 319/350\n",
      "1848/1848 [==============================] - 0s 61us/step - loss: 0.0628 - acc: 0.9794 - recall: 0.8433\n",
      "Epoch 320/350\n",
      "1848/1848 [==============================] - 0s 59us/step - loss: 0.0624 - acc: 0.9811 - recall: 0.8426\n",
      "Epoch 321/350\n",
      "1848/1848 [==============================] - 0s 61us/step - loss: 0.0626 - acc: 0.9805 - recall: 0.8252\n",
      "Epoch 322/350\n",
      "1848/1848 [==============================] - 0s 61us/step - loss: 0.0626 - acc: 0.9800 - recall: 0.8229\n",
      "Epoch 323/350\n",
      "1848/1848 [==============================] - 0s 59us/step - loss: 0.0627 - acc: 0.9800 - recall: 0.7925\n",
      "Epoch 324/350\n",
      "1848/1848 [==============================] - 0s 59us/step - loss: 0.0621 - acc: 0.9800 - recall: 0.8593\n",
      "Epoch 325/350\n",
      "1848/1848 [==============================] - 0s 60us/step - loss: 0.0625 - acc: 0.9811 - recall: 0.8172\n",
      "Epoch 326/350\n",
      "1848/1848 [==============================] - 0s 59us/step - loss: 0.0620 - acc: 0.9800 - recall: 0.8130\n",
      "Epoch 327/350\n",
      "1848/1848 [==============================] - 0s 60us/step - loss: 0.0624 - acc: 0.9805 - recall: 0.8365\n",
      "Epoch 328/350\n",
      "1848/1848 [==============================] - 0s 59us/step - loss: 0.0626 - acc: 0.9800 - recall: 0.8155\n",
      "Epoch 329/350\n",
      "1848/1848 [==============================] - 0s 59us/step - loss: 0.0622 - acc: 0.9800 - recall: 0.8419\n",
      "Epoch 330/350\n",
      "1848/1848 [==============================] - 0s 60us/step - loss: 0.0622 - acc: 0.9805 - recall: 0.8312\n",
      "Epoch 331/350\n",
      "1848/1848 [==============================] - 0s 60us/step - loss: 0.0622 - acc: 0.9800 - recall: 0.8293\n",
      "Epoch 332/350\n",
      "1848/1848 [==============================] - 0s 62us/step - loss: 0.0621 - acc: 0.9805 - recall: 0.8229\n",
      "Epoch 333/350\n",
      "1848/1848 [==============================] - 0s 60us/step - loss: 0.0620 - acc: 0.9800 - recall: 0.8312\n",
      "Epoch 334/350\n",
      "1848/1848 [==============================] - 0s 65us/step - loss: 0.0617 - acc: 0.9794 - recall: 0.8216\n",
      "Epoch 335/350\n",
      "1848/1848 [==============================] - 0s 74us/step - loss: 0.0625 - acc: 0.9789 - recall: 0.8048\n",
      "Epoch 336/350\n",
      "1848/1848 [==============================] - 0s 55us/step - loss: 0.0621 - acc: 0.9800 - recall: 0.8713\n",
      "Epoch 337/350\n",
      "1848/1848 [==============================] - 0s 55us/step - loss: 0.0620 - acc: 0.9800 - recall: 0.8386\n",
      "Epoch 338/350\n",
      "1848/1848 [==============================] - 0s 60us/step - loss: 0.0616 - acc: 0.9805 - recall: 0.8800\n",
      "Epoch 339/350\n",
      "1848/1848 [==============================] - 0s 61us/step - loss: 0.0617 - acc: 0.9805 - recall: 0.8371\n",
      "Epoch 340/350\n",
      "1848/1848 [==============================] - 0s 60us/step - loss: 0.0618 - acc: 0.9800 - recall: 0.8442\n",
      "Epoch 341/350\n",
      "1848/1848 [==============================] - 0s 59us/step - loss: 0.0627 - acc: 0.9805 - recall: 0.8431\n",
      "Epoch 342/350\n",
      "1848/1848 [==============================] - 0s 60us/step - loss: 0.0613 - acc: 0.9805 - recall: 0.8695\n",
      "Epoch 343/350\n",
      "1848/1848 [==============================] - 0s 60us/step - loss: 0.0618 - acc: 0.9805 - recall: 0.8383\n",
      "Epoch 344/350\n",
      "1848/1848 [==============================] - 0s 61us/step - loss: 0.0617 - acc: 0.9805 - recall: 0.8337\n",
      "Epoch 345/350\n",
      "1848/1848 [==============================] - 0s 59us/step - loss: 0.0616 - acc: 0.9794 - recall: 0.8627\n",
      "Epoch 346/350\n",
      "1848/1848 [==============================] - 0s 60us/step - loss: 0.0611 - acc: 0.9811 - recall: 0.8745\n",
      "Epoch 347/350\n"
     ]
    },
    {
     "name": "stdout",
     "output_type": "stream",
     "text": [
      "1848/1848 [==============================] - 0s 60us/step - loss: 0.0616 - acc: 0.9811 - recall: 0.8401\n",
      "Epoch 348/350\n",
      "1848/1848 [==============================] - 0s 60us/step - loss: 0.0621 - acc: 0.9794 - recall: 0.8348\n",
      "Epoch 349/350\n",
      "1848/1848 [==============================] - 0s 60us/step - loss: 0.0616 - acc: 0.9805 - recall: 0.8371\n",
      "Epoch 350/350\n",
      "1848/1848 [==============================] - 0s 60us/step - loss: 0.0614 - acc: 0.9811 - recall: 0.8244\n",
      "_________________________________________________________________\n",
      "Layer (type)                 Output Shape              Param #   \n",
      "=================================================================\n",
      "dense_43 (Dense)             (None, 14)                154       \n",
      "_________________________________________________________________\n",
      "dense_44 (Dense)             (None, 1)                 15        \n",
      "=================================================================\n",
      "Total params: 169\n",
      "Trainable params: 169\n",
      "Non-trainable params: 0\n",
      "_________________________________________________________________\n"
     ]
    }
   ],
   "source": [
    "clf = Sequential([\n",
    "    Dense(14, kernel_initializer='uniform', input_dim=X_train_resampled.shape[1], activation='relu'),\n",
    "    Dense(1, kernel_initializer='uniform', activation='sigmoid')\n",
    "])\n",
    "\n",
    "clf.compile(optimizer='adam', loss='binary_crossentropy', metrics=['accuracy',recall])\n",
    "clf.fit(X_train_resampled, y_train_resampled['Class'].values, batch_size=15, epochs=350) \n",
    "clf.summary()"
   ]
  },
  {
   "cell_type": "code",
   "execution_count": 14,
   "metadata": {},
   "outputs": [
    {
     "name": "stdout",
     "output_type": "stream",
     "text": [
      "56962/56962 [==============================] - 1s 9us/step\n",
      "\n",
      "And the Score is  98.83957726203434 %\n"
     ]
    }
   ],
   "source": [
    "score = clf.evaluate(X_val, y_val, batch_size=128)\n",
    "print('\\nAnd the Score is ', score[1] * 100, '%')"
   ]
  },
  {
   "cell_type": "code",
   "execution_count": 15,
   "metadata": {},
   "outputs": [],
   "source": [
    "y_pred = clf.predict(X_val)"
   ]
  },
  {
   "cell_type": "code",
   "execution_count": 16,
   "metadata": {},
   "outputs": [],
   "source": [
    "rounded = [round(x[0]) for x in y_pred]"
   ]
  },
  {
   "cell_type": "code",
   "execution_count": 17,
   "metadata": {},
   "outputs": [
    {
     "data": {
      "text/plain": [
       "732.0"
      ]
     },
     "execution_count": 17,
     "metadata": {},
     "output_type": "execute_result"
    }
   ],
   "source": [
    "sum(rounded)"
   ]
  },
  {
   "cell_type": "markdown",
   "metadata": {},
   "source": [
    "## 4. Confusion Matrix"
   ]
  },
  {
   "cell_type": "code",
   "execution_count": 18,
   "metadata": {},
   "outputs": [],
   "source": [
    "from sklearn.metrics import confusion_matrix\n",
    "\n",
    "import itertools\n",
    "def plot_confusion_matrix(cm, classes,\n",
    "                          normalize=False,\n",
    "                          title='Confusion matrix',\n",
    "                          cmap=plt.cm.Blues):\n",
    "    \"\"\"\n",
    "    This function prints and plots the confusion matrix.\n",
    "    Normalization can be applied by setting `normalize=True`.\n",
    "    \"\"\"\n",
    "    if normalize:\n",
    "        cm = cm.astype('float') / cm.sum(axis=1)[:, np.newaxis]\n",
    "        print(\"Normalized confusion matrix\")\n",
    "    else:\n",
    "        print('Confusion matrix, without normalization')\n",
    "\n",
    "    print(cm)\n",
    "\n",
    "    plt.imshow(cm, interpolation='nearest', cmap=cmap)\n",
    "    plt.title(title)\n",
    "    plt.colorbar()\n",
    "    tick_marks = np.arange(len(classes))\n",
    "    plt.xticks(tick_marks, classes, rotation=45)\n",
    "    plt.yticks(tick_marks, classes)\n",
    "\n",
    "    fmt = '.2f' if normalize else 'd'\n",
    "    thresh = cm.max() / 2.\n",
    "    for i, j in itertools.product(range(cm.shape[0]), range(cm.shape[1])):\n",
    "        plt.text(j, i, format(cm[i, j], fmt),\n",
    "                 horizontalalignment=\"center\",\n",
    "                 color=\"white\" if cm[i, j] > thresh else \"black\")\n",
    "\n",
    "    plt.tight_layout()\n",
    "    plt.ylabel('True label')\n",
    "    plt.xlabel('Predicted label')\n",
    "\n",
    "\n",
    "np.set_printoptions(precision=2)"
   ]
  },
  {
   "cell_type": "code",
   "execution_count": 19,
   "metadata": {},
   "outputs": [],
   "source": [
    "from sklearn.metrics import classification_report"
   ]
  },
  {
   "cell_type": "code",
   "execution_count": 20,
   "metadata": {
    "scrolled": true
   },
   "outputs": [
    {
     "name": "stdout",
     "output_type": "stream",
     "text": [
      "Confusion matrix, without normalization\n",
      "[[56217   648]\n",
      " [   13    84]]\n"
     ]
    },
    {
     "data": {
      "image/png": "[encoded data removed]",
      "text/plain": [
       "<matplotlib.figure.Figure at 0x1a62d2acb70>"
      ]
     },
     "metadata": {},
     "output_type": "display_data"
    },
    {
     "name": "stdout",
     "output_type": "stream",
     "text": [
      "Normalized confusion matrix\n",
      "[[0.99 0.01]\n",
      " [0.13 0.87]]\n"
     ]
    },
    {
     "data": {
      "image/png": "[encoded data removed]",
      "text/plain": [
       "<matplotlib.figure.Figure at 0x1a62fd8d6d8>"
      ]
     },
     "metadata": {},
     "output_type": "display_data"
    }
   ],
   "source": [
    "cm = confusion_matrix(y_val['Class'].values, rounded)\n",
    "\n",
    "class_names = ['Not-Fraud','Fraud']\n",
    "plt.figure()\n",
    "plot_confusion_matrix(cm, \n",
    "                      classes = class_names , \n",
    "                      title = 'RF Confusion matrix without Normalization')\n",
    "plt.show()\n",
    "\n",
    "plot_confusion_matrix(cm, \n",
    "                      classes = class_names , \n",
    "                      normalize = True,\n",
    "                      title = 'RF Confusion matrix with Normalization')\n",
    "plt.show()"
   ]
  },
  {
   "cell_type": "markdown",
   "metadata": {},
   "source": [
    "## 5. Metrics Scores"
   ]
  },
  {
   "cell_type": "code",
   "execution_count": 21,
   "metadata": {},
   "outputs": [
    {
     "name": "stdout",
     "output_type": "stream",
     "text": [
      "              precision    recall  f1-score   support\n",
      "\n",
      " Not Fraud 0       1.00      0.99      0.99     56865\n",
      "     Fraud 1       0.11      0.87      0.20        97\n",
      "\n",
      "    accuracy                           0.99     56962\n",
      "   macro avg       0.56      0.93      0.60     56962\n",
      "weighted avg       1.00      0.99      0.99     56962\n",
      "\n"
     ]
    }
   ],
   "source": [
    "target_names = ['Not Fraud 0', 'Fraud 1']\n",
    "print(classification_report(y_val, rounded, target_names=target_names))"
   ]
  },
  {
   "cell_type": "code",
   "execution_count": 22,
   "metadata": {},
   "outputs": [
    {
     "data": {
      "image/png": "[encoded data removed]",
      "text/plain": [
       "<matplotlib.figure.Figure at 0x1a62fe62ba8>"
      ]
     },
     "metadata": {},
     "output_type": "display_data"
    }
   ],
   "source": [
    "plt.plot(history.history['recall'])\n",
    "plt.plot(history.history['val_recall'])\n",
    "plt.title('model Recall')\n",
    "plt.ylabel('Recall')\n",
    "plt.xlabel('epoch')\n",
    "plt.legend(['train', 'val'], loc='upper left')\n",
    "plt.show()"
   ]
  },
  {
   "cell_type": "code",
   "execution_count": 23,
   "metadata": {},
   "outputs": [
    {
     "data": {
      "image/png": "[encoded data removed]",
      "text/plain": [
       "<matplotlib.figure.Figure at 0x1a62ff1cef0>"
      ]
     },
     "metadata": {},
     "output_type": "display_data"
    }
   ],
   "source": [
    "plt.plot(history.history['acc'])\n",
    "plt.plot(history.history['val_acc'])\n",
    "plt.title('model Accuracy')\n",
    "plt.ylabel('Accuracy')\n",
    "plt.xlabel('epoch')\n",
    "plt.legend(['train', 'val'], loc='upper left')\n",
    "plt.show()"
   ]
  },
  {
   "cell_type": "code",
   "execution_count": 24,
   "metadata": {
    "scrolled": true
   },
   "outputs": [
    {
     "name": "stdout",
     "output_type": "stream",
     "text": [
      "Sensitivity :  0.9886045898179899\n",
      "Specificity :  0.865979381443299\n"
     ]
    }
   ],
   "source": [
    "total1=sum(sum(cm))\n",
    "\n",
    "\n",
    "sensitivity1 = cm[0,0]/(cm[0,0]+cm[0,1])\n",
    "print('Sensitivity : ', sensitivity1 )\n",
    "\n",
    "specificity1 = cm[1,1]/(cm[1,0]+cm[1,1])\n",
    "print('Specificity : ', specificity1)"
   ]
  },
  {
   "cell_type": "code",
   "execution_count": 25,
   "metadata": {
    "scrolled": true
   },
   "outputs": [
    {
     "name": "stdout",
     "output_type": "stream",
     "text": [
      "Accuracy 0.9883957726203434\n",
      "Recall score 0.865979381443299\n",
      "Precision 0.11475409836065574\n",
      "f1_score 0.20265379975874548\n",
      "Average precision-recall score: 0.10\n",
      "Kappa Score 0.200248728267872\n"
     ]
    }
   ],
   "source": [
    "\n",
    "acc= accuracy_score( y_val['Class'].values, rounded)\n",
    "recall = recall_score( y_val['Class'].values, rounded, average='binary')\n",
    "precision = precision_score( y_val['Class'].values, rounded)\n",
    "f1 = f1_score( y_val['Class'].values, rounded, average='binary')\n",
    "average = average_precision_score( y_val['Class'].values, rounded)\n",
    "kappa = cohen_kappa_score( y_val['Class'].values, rounded)\n",
    "\n",
    "print('Accuracy', acc)\n",
    "print('Recall score', recall)\n",
    "print('Precision', precision)\n",
    "print('f1_score', f1)\n",
    "print ('Average precision-recall score: {0:0.2f}'.format(average))\n",
    "print('Kappa Score', kappa)"
   ]
  },
  {
   "cell_type": "code",
   "execution_count": 26,
   "metadata": {
    "scrolled": true
   },
   "outputs": [],
   "source": [
    "ann_viz(clf, title=\"Artificial Neural network with specific features\")"
   ]
  },
  {
   "cell_type": "code",
   "execution_count": 27,
   "metadata": {},
   "outputs": [
    {
     "data": {
      "text/plain": [
       "Text(0.5,1,'Precision-Recall curve: AP=0.10')"
      ]
     },
     "execution_count": 27,
     "metadata": {},
     "output_type": "execute_result"
    },
    {
     "data": {
      "image/png": "[encoded data removed]",
      "text/plain": [
       "<matplotlib.figure.Figure at 0x1a62ff91940>"
      ]
     },
     "metadata": {},
     "output_type": "display_data"
    }
   ],
   "source": [
    "# plot precision-recall score\n",
    "\n",
    "\n",
    "precision, recall, _ = precision_recall_curve(rounded, y_val['Class'].values)\n",
    "\n",
    "# In matplotlib < 1.5, plt.fill_between does not have a 'step' argument\n",
    "step_kwargs = ({'step': 'post'}\n",
    "               if 'step' in signature(plt.fill_between).parameters\n",
    "               else {})\n",
    "plt.step(recall, precision, color='r', alpha=0.2,\n",
    "         where='post')\n",
    "plt.fill_between(recall, precision, alpha=0.2, color='b', **step_kwargs)\n",
    "\n",
    "plt.xlabel('Recall')\n",
    "plt.ylabel('Precision')\n",
    "plt.ylim([0.0, 1.05])\n",
    "plt.xlim([0.0, 1.0])\n",
    "plt.title('Precision-Recall curve: AP={0:0.2f}'.format(\n",
    "          average))"
   ]
  },
  {
   "cell_type": "code",
   "execution_count": 28,
   "metadata": {},
   "outputs": [],
   "source": [
    "def plot_roc():\n",
    "    plt.plot(fpr, tpr, label = 'ROC curve' , linewidth = 2, color= 'darkorange')\n",
    "    plt.plot([0,1],[0,1], 'k--', linewidth = 2, color ='navy', linestyle='--')\n",
    "    plt.xlim([0.0,0.001])\n",
    "    plt.ylim([0.0,1.05])\n",
    "    plt.xlabel('False Positive Rate')\n",
    "    plt.ylabel('True Positive Rate')\n",
    "    plt.title('ROC Curve')\n",
    "    plt.show();"
   ]
  },
  {
   "cell_type": "code",
   "execution_count": 29,
   "metadata": {
    "scrolled": false
   },
   "outputs": [
    {
     "data": {
      "image/png": "[encoded data removed]",
      "text/plain": [
       "<matplotlib.figure.Figure at 0x1a62ffaa7b8>"
      ]
     },
     "metadata": {},
     "output_type": "display_data"
    }
   ],
   "source": [
    "fpr, tpr, t = roc_curve(rounded, y_val['Class'].values)\n",
    "plot_roc()"
   ]
  },
  {
   "cell_type": "markdown",
   "metadata": {},
   "source": [
    "## 6. Save Model"
   ]
  },
  {
   "cell_type": "code",
   "execution_count": 30,
   "metadata": {},
   "outputs": [
    {
     "data": {
      "text/plain": [
       "['Neural Network all Features.pkl']"
      ]
     },
     "execution_count": 30,
     "metadata": {},
     "output_type": "execute_result"
    }
   ],
   "source": [
    "joblib.dump(clf, 'Neural Network all Features.pkl') "
   ]
  },
  {
   "cell_type": "code",
   "execution_count": null,
   "metadata": {},
   "outputs": [],
   "source": []
  }
 ],
 "metadata": {
  "kernelspec": {
   "display_name": "Python 3",
   "language": "python",
   "name": "python3"
  },
  "language_info": {
   "codemirror_mode": {
    "name": "ipython",
    "version": 3
   },
   "file_extension": ".py",
   "mimetype": "text/x-python",
   "name": "python",
   "nbconvert_exporter": "python",
   "pygments_lexer": "ipython3",
   "version": "3.6.4"
  }
 },
 "nbformat": 4,
 "nbformat_minor": 2
}
